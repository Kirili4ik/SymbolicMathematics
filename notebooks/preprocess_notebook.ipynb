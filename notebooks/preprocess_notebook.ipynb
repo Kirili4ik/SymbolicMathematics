{
 "cells": [
  {
   "cell_type": "code",
   "execution_count": 1,
   "metadata": {},
   "outputs": [],
   "source": [
    "import os\n",
    "import numpy as np\n",
    "import sympy as sp\n",
    "import torch"
   ]
  },
  {
   "cell_type": "code",
   "execution_count": 2,
   "metadata": {},
   "outputs": [
    {
     "name": "stdout",
     "output_type": "stream",
     "text": [
      "/home/kpgelvan/SymbolicMathematics\n"
     ]
    }
   ],
   "source": [
    "cd ../"
   ]
  },
  {
   "cell_type": "code",
   "execution_count": 11,
   "metadata": {},
   "outputs": [
    {
     "name": "stdout",
     "output_type": "stream",
     "text": [
      "CODE_OF_CONDUCT.md  \u001b[0m\u001b[38;5;27mdumped\u001b[0m/  main.py     \u001b[38;5;27mrequirements\u001b[0m/    \u001b[38;5;27msrc\u001b[0m/\r\n",
      "CONTRIBUTING.md     LICENSE  \u001b[38;5;27mnotebooks\u001b[0m/  \u001b[38;5;27msbatch_scripts\u001b[0m/\r\n",
      "\u001b[38;5;27mdata\u001b[0m/               \u001b[38;5;27mlogs\u001b[0m/    README.md   split_data.py\r\n"
     ]
    }
   ],
   "source": []
  },
  {
   "cell_type": "code",
   "execution_count": 10,
   "metadata": {},
   "outputs": [
    {
     "ename": "ImportError",
     "evalue": "cannot import name 'build_env' from 'src.envs' (unknown location)",
     "output_type": "error",
     "traceback": [
      "\u001b[0;31m---------------------------------------------------------------------------\u001b[0m",
      "\u001b[0;31mImportError\u001b[0m                               Traceback (most recent call last)",
      "\u001b[0;32m<ipython-input-10-9db92dfc71c6>\u001b[0m in \u001b[0;36m<module>\u001b[0;34m\u001b[0m\n\u001b[1;32m      1\u001b[0m \u001b[0;32mfrom\u001b[0m \u001b[0msrc\u001b[0m\u001b[0;34m.\u001b[0m\u001b[0mutils\u001b[0m \u001b[0;32mimport\u001b[0m \u001b[0mAttrDict\u001b[0m\u001b[0;34m\u001b[0m\u001b[0;34m\u001b[0m\u001b[0m\n\u001b[0;32m----> 2\u001b[0;31m \u001b[0;32mfrom\u001b[0m \u001b[0msrc\u001b[0m\u001b[0;34m.\u001b[0m\u001b[0menvs\u001b[0m \u001b[0;32mimport\u001b[0m \u001b[0mbuild_env\u001b[0m\u001b[0;34m\u001b[0m\u001b[0;34m\u001b[0m\u001b[0m\n\u001b[0m\u001b[1;32m      3\u001b[0m \u001b[0;32mfrom\u001b[0m \u001b[0msrc\u001b[0m\u001b[0;34m.\u001b[0m\u001b[0mmodel\u001b[0m \u001b[0;32mimport\u001b[0m \u001b[0mbuild_modules\u001b[0m\u001b[0;34m\u001b[0m\u001b[0;34m\u001b[0m\u001b[0m\n\u001b[1;32m      4\u001b[0m \u001b[0;34m\u001b[0m\u001b[0m\n\u001b[1;32m      5\u001b[0m \u001b[0;32mfrom\u001b[0m \u001b[0msrc\u001b[0m\u001b[0;34m.\u001b[0m\u001b[0mutils\u001b[0m \u001b[0;32mimport\u001b[0m \u001b[0mto_cuda\u001b[0m\u001b[0;34m\u001b[0m\u001b[0;34m\u001b[0m\u001b[0m\n",
      "\u001b[0;31mImportError\u001b[0m: cannot import name 'build_env' from 'src.envs' (unknown location)"
     ]
    }
   ],
   "source": [
    "from src.utils import AttrDict\n",
    "from src.envs import build_env\n",
    "from src.model import build_modules\n",
    "\n",
    "from src.utils import to_cuda\n",
    "from src.envs.sympy_utils import simplify"
   ]
  },
  {
   "cell_type": "code",
   "execution_count": null,
   "metadata": {},
   "outputs": [],
   "source": []
  },
  {
   "cell_type": "markdown",
   "metadata": {},
   "source": [
    "### "
   ]
  },
  {
   "cell_type": "code",
   "execution_count": null,
   "metadata": {},
   "outputs": [],
   "source": [
    "OPERATORS = {\n",
    "        # Elementary functions\n",
    "        'add': 2,\n",
    "        'sub': 2,\n",
    "        'mul': 2,\n",
    "        'div': 2,\n",
    "        'pow': 2,\n",
    "        'rac': 2,\n",
    "        'inv': 1,\n",
    "        'pow2': 1,\n",
    "        'pow3': 1,\n",
    "        'pow4': 1,\n",
    "        'pow5': 1,\n",
    "        'sqrt': 1,\n",
    "        'exp': 1,\n",
    "        'ln': 1,\n",
    "        'abs': 1,\n",
    "        'sign': 1,\n",
    "        # Trigonometric Functions\n",
    "        'sin': 1,\n",
    "        'cos': 1,\n",
    "        'tan': 1,\n",
    "        'cot': 1,\n",
    "        'sec': 1,\n",
    "        'csc': 1,\n",
    "        # Trigonometric Inverses\n",
    "        'asin': 1,\n",
    "        'acos': 1,\n",
    "        'atan': 1,\n",
    "        'acot': 1,\n",
    "        'asec': 1,\n",
    "        'acsc': 1,\n",
    "        # Hyperbolic Functions\n",
    "        'sinh': 1,\n",
    "        'cosh': 1,\n",
    "        'tanh': 1,\n",
    "        'coth': 1,\n",
    "        'sech': 1,\n",
    "        'csch': 1,\n",
    "        # Hyperbolic Inverses\n",
    "        'asinh': 1,\n",
    "        'acosh': 1,\n",
    "        'atanh': 1,\n",
    "        'acoth': 1,\n",
    "        'asech': 1,\n",
    "        'acsch': 1,\n",
    "        # Derivative\n",
    "        'derivative': 2,\n",
    "        # custom functions\n",
    "        'f': 1,\n",
    "        'g': 2,\n",
    "        'h': 3,\n",
    "    }\n",
    "\n",
    "symbols = ['I', 'INT+', 'INT-', 'INT', 'FLOAT', '-', '.', '10^', 'Y', \"Y'\", \"Y''\"]"
   ]
  },
  {
   "cell_type": "code",
   "execution_count": null,
   "metadata": {},
   "outputs": [],
   "source": [
    "constants = ['pi', 'E']\n",
    "variables = ['x', 'y', 'z', 't']\n",
    "functions = ['f', 'g', 'h']\n",
    "elements = [str(i) for i in range(-10, 10)]\n",
    "coefficients = [f'a{i}' for i in range(10)]"
   ]
  },
  {
   "cell_type": "code",
   "execution_count": null,
   "metadata": {},
   "outputs": [],
   "source": [
    "no_child_symbols = constants + variables + functions + elements + coefficients"
   ]
  },
  {
   "cell_type": "code",
   "execution_count": null,
   "metadata": {},
   "outputs": [],
   "source": []
  },
  {
   "cell_type": "markdown",
   "metadata": {},
   "source": [
    "###"
   ]
  },
  {
   "cell_type": "code",
   "execution_count": null,
   "metadata": {},
   "outputs": [],
   "source": [
    "from tqdm import tqdm\n",
    "import queue\n",
    "\n",
    "def get_ancestors(exp_list, exp_len):\n",
    "    q = queue.LifoQueue()\n",
    "    q.put(-1)                            # so last element gets this parent but doesn't save it\n",
    "\n",
    "    ancestors = {0: []}\n",
    "    node2parent = {}\n",
    "    levels = {0: -1}\n",
    "\n",
    "    parent = 0\n",
    "    for i in range(exp_len):\n",
    "        op_now = exp_list[i]\n",
    "\n",
    "        node2parent[i] = parent\n",
    "        levels[i] = levels[parent] + 1\n",
    "\n",
    "        if op_now in OPERATORS or op_now in symbols:   # <=> node has children\n",
    "            if op_now in OPERATORS and OPERATORS[op_now] == 2:    # <=> node has 2 children\n",
    "                q.put(i)\n",
    "            parent = i\n",
    "        elif op_now in no_child_symbols:\n",
    "            if q.empty and i < exp_len:\n",
    "                print(exp_list)\n",
    "            parent = q.get()\n",
    "        else:\n",
    "            print(op_now)\n",
    "            raise(NotFound)\n",
    "        ancestors[i] = [i] + ancestors[node2parent[i]]\n",
    "\n",
    "    return ancestors, levels"
   ]
  },
  {
   "cell_type": "code",
   "execution_count": null,
   "metadata": {},
   "outputs": [],
   "source": [
    "def get_path(i, j):\n",
    "    if i == j:\n",
    "        return \"<self>\"\n",
    "    anc_i = set(ancestors[i])\n",
    "      \n",
    "    for node in ancestors[j][-(levels[i] + 1) :]:\n",
    "        if node in anc_i:\n",
    "            up_n = levels[i] - levels[node]\n",
    "            down_n = levels[j] - levels[node]\n",
    "            return str(up_n + down_n)"
   ]
  },
  {
   "cell_type": "code",
   "execution_count": null,
   "metadata": {},
   "outputs": [],
   "source": [
    "def get_ud_masks(ancestors, levels, exp_len):\n",
    "    path_rels = []\n",
    "    for i in range(exp_len):\n",
    "        path_rels.append(\" \".join([get_path(i, j) for j in range(exp_len)]))\n",
    "    \n",
    "    return path_rels"
   ]
  },
  {
   "cell_type": "markdown",
   "metadata": {},
   "source": [
    "###"
   ]
  },
  {
   "cell_type": "code",
   "execution_count": 4,
   "metadata": {},
   "outputs": [],
   "source": [
    "F_prefix  = ['mul', 'x', 'tan', 'mul', 'pow', 'x', 'INT-', '1', 'exp', 'x']"
   ]
  },
  {
   "cell_type": "code",
   "execution_count": 5,
   "metadata": {
    "scrolled": true
   },
   "outputs": [
    {
     "ename": "NameError",
     "evalue": "name 'get_ancestors' is not defined",
     "output_type": "error",
     "traceback": [
      "\u001b[0;31m---------------------------------------------------------------------------\u001b[0m",
      "\u001b[0;31mNameError\u001b[0m                                 Traceback (most recent call last)",
      "\u001b[0;32m<ipython-input-5-8d5e676becca>\u001b[0m in \u001b[0;36m<module>\u001b[0;34m\u001b[0m\n\u001b[0;32m----> 1\u001b[0;31m \u001b[0mancestors\u001b[0m\u001b[0;34m,\u001b[0m \u001b[0mlevels\u001b[0m \u001b[0;34m=\u001b[0m \u001b[0mget_ancestors\u001b[0m\u001b[0;34m(\u001b[0m\u001b[0mF_prefix\u001b[0m\u001b[0;34m,\u001b[0m \u001b[0mlen\u001b[0m\u001b[0;34m(\u001b[0m\u001b[0mF_prefix\u001b[0m\u001b[0;34m)\u001b[0m\u001b[0;34m)\u001b[0m\u001b[0;34m\u001b[0m\u001b[0;34m\u001b[0m\u001b[0m\n\u001b[0m\u001b[1;32m      2\u001b[0m \u001b[0mrel_matrix\u001b[0m \u001b[0;34m=\u001b[0m \u001b[0mget_ud_masks\u001b[0m\u001b[0;34m(\u001b[0m\u001b[0mancestors\u001b[0m\u001b[0;34m,\u001b[0m \u001b[0mlevels\u001b[0m\u001b[0;34m,\u001b[0m \u001b[0mlen\u001b[0m\u001b[0;34m(\u001b[0m\u001b[0mF_prefix\u001b[0m\u001b[0;34m)\u001b[0m\u001b[0;34m)\u001b[0m\u001b[0;34m\u001b[0m\u001b[0;34m\u001b[0m\u001b[0m\n\u001b[1;32m      3\u001b[0m \u001b[0mrel_matrix\u001b[0m\u001b[0;34m\u001b[0m\u001b[0;34m\u001b[0m\u001b[0m\n",
      "\u001b[0;31mNameError\u001b[0m: name 'get_ancestors' is not defined"
     ]
    }
   ],
   "source": [
    "ancestors, levels = get_ancestors(F_prefix, len(F_prefix))\n",
    "rel_matrix = get_ud_masks(ancestors, levels, len(F_prefix))\n",
    "rel_matrix"
   ]
  },
  {
   "cell_type": "code",
   "execution_count": null,
   "metadata": {},
   "outputs": [],
   "source": []
  },
  {
   "cell_type": "code",
   "execution_count": null,
   "metadata": {},
   "outputs": [],
   "source": []
  },
  {
   "cell_type": "code",
   "execution_count": null,
   "metadata": {},
   "outputs": [],
   "source": []
  },
  {
   "cell_type": "markdown",
   "metadata": {},
   "source": [
    "###"
   ]
  },
  {
   "cell_type": "code",
   "execution_count": 12,
   "metadata": {},
   "outputs": [],
   "source": [
    "model_path = '../checkpoint.pth'\n",
    "assert os.path.isfile(model_path)"
   ]
  },
  {
   "cell_type": "code",
   "execution_count": 35,
   "metadata": {},
   "outputs": [],
   "source": [
    "params = params = AttrDict({\n",
    "\n",
    "    # environment parameters\n",
    "    'env_name': 'char_sp',\n",
    "    'int_base': 10,\n",
    "    'balanced': False,\n",
    "    'positive': True,\n",
    "    'precision': 10,\n",
    "    'n_variables': 1,\n",
    "    'n_coefficients': 0,\n",
    "    'leaf_probs': '0.75,0,0.25,0',\n",
    "    'max_len': 512,\n",
    "    'max_int': 5,\n",
    "    'max_ops': 15,\n",
    "    'max_ops_G': 15,\n",
    "    'clean_prefix_expr': True,\n",
    "    'rewrite_functions': '',\n",
    "    'tasks': 'prim_fwd',\n",
    "    'operators': 'add:10,sub:3,mul:10,div:5,sqrt:4,pow2:4,pow3:2,pow4:1,pow5:1,ln:4,exp:4,sin:4,cos:4,tan:4,asin:1,acos:1,atan:1,sinh:1,cosh:1,tanh:1,asinh:1,acosh:1,atanh:1',\n",
    "\n",
    "    # model parameters\n",
    "    'cpu': False,\n",
    "    'emb_dim': 1024,\n",
    "    'n_enc_layers': 6,\n",
    "    'n_dec_layers': 6,\n",
    "    'n_heads': 4,\n",
    "    'dropout': 0,\n",
    "    'attention_dropout': 0,\n",
    "    'sinusoidal_embeddings': False,\n",
    "    'share_inout_emb': True,\n",
    "    'reload_model': model_path,\n",
    "    'max_relative_pos':0,\n",
    "    'use_neg_dist':False\n",
    "})"
   ]
  },
  {
   "cell_type": "code",
   "execution_count": 36,
   "metadata": {},
   "outputs": [],
   "source": [
    "env = build_env(params)\n",
    "x = env.local_dict['x']"
   ]
  },
  {
   "cell_type": "code",
   "execution_count": 37,
   "metadata": {},
   "outputs": [],
   "source": [
    "modules = build_modules(env, params)\n",
    "encoder = modules['encoder']\n",
    "decoder = modules['decoder']"
   ]
  },
  {
   "cell_type": "code",
   "execution_count": null,
   "metadata": {},
   "outputs": [],
   "source": []
  },
  {
   "cell_type": "code",
   "execution_count": null,
   "metadata": {},
   "outputs": [],
   "source": []
  },
  {
   "cell_type": "markdown",
   "metadata": {},
   "source": [
    "###"
   ]
  },
  {
   "cell_type": "code",
   "execution_count": 85,
   "metadata": {},
   "outputs": [],
   "source": [
    "import sys\n",
    "sys.path.append('src/envs/')\n",
    "sys.path.append('src')"
   ]
  },
  {
   "cell_type": "code",
   "execution_count": 100,
   "metadata": {},
   "outputs": [],
   "source": [
    "#from char_sp import prefix_to_infix, infix_to_sympy"
   ]
  },
  {
   "cell_type": "code",
   "execution_count": null,
   "metadata": {},
   "outputs": [],
   "source": []
  },
  {
   "cell_type": "code",
   "execution_count": 101,
   "metadata": {},
   "outputs": [],
   "source": [
    "#from utils import create_logger\n",
    "#from utils import bool_flag\n",
    "#from utils import timeout, TimeoutError\n",
    "#from char_sp import prefix_to_infix, infix_to_sympy\n"
   ]
  },
  {
   "cell_type": "code",
   "execution_count": 104,
   "metadata": {},
   "outputs": [
    {
     "data": {
      "text/plain": [
       "['sub', \"Y'\", 'sub', \"Y'\", 'pow', 'x', 'INT+', '2']"
      ]
     },
     "execution_count": 104,
     "metadata": {},
     "output_type": "execute_result"
    }
   ],
   "source": [
    "f_prefix = ['sub', \"Y'\", 'pow', 'x', 'INT+', '2']\n",
    "x1_prefix = env.clean_prefix(['sub', 'derivative', 'f', 'x', 'x'] + f_prefix)\n",
    "x1_prefix\n",
    "#x1 = torch.LongTensor(\n",
    "#    [env.eos_index] +\n",
    "#    [env.word2id[w] for w in x1_prefix] +\n",
    "#    [env.eos_index]\n",
    "#).view(-1, 1)\n",
    "#len1 = torch.LongTensor([len(x1)])\n",
    "#x1, len1 = to_cuda(x1, len1)\n"
   ]
  },
  {
   "cell_type": "code",
   "execution_count": 118,
   "metadata": {},
   "outputs": [
    {
     "data": {
      "text/plain": [
       "(18, 3)"
      ]
     },
     "execution_count": 118,
     "metadata": {},
     "output_type": "execute_result"
    }
   ],
   "source": [
    "env.parse_int(['INT+', '1', '8', 'pow', 'x', 'INT+', '2'])"
   ]
  },
  {
   "cell_type": "code",
   "execution_count": 121,
   "metadata": {},
   "outputs": [
    {
     "ename": "InvalidPrefixExpression",
     "evalue": "'Invalid integer in prefix expression'",
     "output_type": "error",
     "traceback": [
      "\u001b[0;31m---------------------------------------------------------------------------\u001b[0m",
      "\u001b[0;31mInvalidPrefixExpression\u001b[0m                   Traceback (most recent call last)",
      "\u001b[0;32m<ipython-input-121-cf6570b9ff08>\u001b[0m in \u001b[0;36m<module>\u001b[0;34m\u001b[0m\n\u001b[0;32m----> 1\u001b[0;31m \u001b[0menv\u001b[0m\u001b[0;34m.\u001b[0m\u001b[0mprefix_to_infix\u001b[0m\u001b[0;34m(\u001b[0m\u001b[0mx1_prefix\u001b[0m\u001b[0;34m)\u001b[0m\u001b[0;34m\u001b[0m\u001b[0;34m\u001b[0m\u001b[0m\n\u001b[0m",
      "\u001b[0;32m~/SymbolicMathematics/src/envs/char_sp.py\u001b[0m in \u001b[0;36mprefix_to_infix\u001b[0;34m(self, expr)\u001b[0m\n\u001b[1;32m    631\u001b[0m         \u001b[0mPrefix\u001b[0m \u001b[0mto\u001b[0m \u001b[0minfix\u001b[0m \u001b[0mconversion\u001b[0m\u001b[0;34m.\u001b[0m\u001b[0;34m\u001b[0m\u001b[0;34m\u001b[0m\u001b[0m\n\u001b[1;32m    632\u001b[0m         \"\"\"\n\u001b[0;32m--> 633\u001b[0;31m         \u001b[0mp\u001b[0m\u001b[0;34m,\u001b[0m \u001b[0mr\u001b[0m \u001b[0;34m=\u001b[0m \u001b[0mself\u001b[0m\u001b[0;34m.\u001b[0m\u001b[0m_prefix_to_infix\u001b[0m\u001b[0;34m(\u001b[0m\u001b[0mexpr\u001b[0m\u001b[0;34m)\u001b[0m\u001b[0;34m\u001b[0m\u001b[0;34m\u001b[0m\u001b[0m\n\u001b[0m\u001b[1;32m    634\u001b[0m         \u001b[0;32mif\u001b[0m \u001b[0mlen\u001b[0m\u001b[0;34m(\u001b[0m\u001b[0mr\u001b[0m\u001b[0;34m)\u001b[0m \u001b[0;34m>\u001b[0m \u001b[0;36m0\u001b[0m\u001b[0;34m:\u001b[0m\u001b[0;34m\u001b[0m\u001b[0;34m\u001b[0m\u001b[0m\n\u001b[1;32m    635\u001b[0m             \u001b[0;32mraise\u001b[0m \u001b[0mInvalidPrefixExpression\u001b[0m\u001b[0;34m(\u001b[0m\u001b[0;34mf\"Incorrect prefix expression \\\"{expr}\\\". \\\"{r}\\\" was not parsed.\"\u001b[0m\u001b[0;34m)\u001b[0m\u001b[0;34m\u001b[0m\u001b[0;34m\u001b[0m\u001b[0m\n",
      "\u001b[0;32m~/SymbolicMathematics/src/envs/char_sp.py\u001b[0m in \u001b[0;36m_prefix_to_infix\u001b[0;34m(self, expr)\u001b[0m\n\u001b[1;32m    618\u001b[0m             \u001b[0ml1\u001b[0m \u001b[0;34m=\u001b[0m \u001b[0mexpr\u001b[0m\u001b[0;34m[\u001b[0m\u001b[0;36m1\u001b[0m\u001b[0;34m:\u001b[0m\u001b[0;34m]\u001b[0m\u001b[0;34m\u001b[0m\u001b[0;34m\u001b[0m\u001b[0m\n\u001b[1;32m    619\u001b[0m             \u001b[0;32mfor\u001b[0m \u001b[0m_\u001b[0m \u001b[0;32min\u001b[0m \u001b[0mrange\u001b[0m\u001b[0;34m(\u001b[0m\u001b[0mself\u001b[0m\u001b[0;34m.\u001b[0m\u001b[0mOPERATORS\u001b[0m\u001b[0;34m[\u001b[0m\u001b[0mt\u001b[0m\u001b[0;34m]\u001b[0m\u001b[0;34m)\u001b[0m\u001b[0;34m:\u001b[0m\u001b[0;34m\u001b[0m\u001b[0;34m\u001b[0m\u001b[0m\n\u001b[0;32m--> 620\u001b[0;31m                 \u001b[0mi1\u001b[0m\u001b[0;34m,\u001b[0m \u001b[0ml1\u001b[0m \u001b[0;34m=\u001b[0m \u001b[0mself\u001b[0m\u001b[0;34m.\u001b[0m\u001b[0m_prefix_to_infix\u001b[0m\u001b[0;34m(\u001b[0m\u001b[0ml1\u001b[0m\u001b[0;34m)\u001b[0m\u001b[0;34m\u001b[0m\u001b[0;34m\u001b[0m\u001b[0m\n\u001b[0m\u001b[1;32m    621\u001b[0m                 \u001b[0margs\u001b[0m\u001b[0;34m.\u001b[0m\u001b[0mappend\u001b[0m\u001b[0;34m(\u001b[0m\u001b[0mi1\u001b[0m\u001b[0;34m)\u001b[0m\u001b[0;34m\u001b[0m\u001b[0;34m\u001b[0m\u001b[0m\n\u001b[1;32m    622\u001b[0m             \u001b[0;32mreturn\u001b[0m \u001b[0mself\u001b[0m\u001b[0;34m.\u001b[0m\u001b[0mwrite_infix\u001b[0m\u001b[0;34m(\u001b[0m\u001b[0mt\u001b[0m\u001b[0;34m,\u001b[0m \u001b[0margs\u001b[0m\u001b[0;34m)\u001b[0m\u001b[0;34m,\u001b[0m \u001b[0ml1\u001b[0m\u001b[0;34m\u001b[0m\u001b[0;34m\u001b[0m\u001b[0m\n",
      "\u001b[0;32m~/SymbolicMathematics/src/envs/char_sp.py\u001b[0m in \u001b[0;36m_prefix_to_infix\u001b[0;34m(self, expr)\u001b[0m\n\u001b[1;32m    624\u001b[0m             \u001b[0;32mreturn\u001b[0m \u001b[0mt\u001b[0m\u001b[0;34m,\u001b[0m \u001b[0mexpr\u001b[0m\u001b[0;34m[\u001b[0m\u001b[0;36m1\u001b[0m\u001b[0;34m:\u001b[0m\u001b[0;34m]\u001b[0m\u001b[0;34m\u001b[0m\u001b[0;34m\u001b[0m\u001b[0m\n\u001b[1;32m    625\u001b[0m         \u001b[0;32melse\u001b[0m\u001b[0;34m:\u001b[0m\u001b[0;34m\u001b[0m\u001b[0;34m\u001b[0m\u001b[0m\n\u001b[0;32m--> 626\u001b[0;31m             \u001b[0mval\u001b[0m\u001b[0;34m,\u001b[0m \u001b[0mi\u001b[0m \u001b[0;34m=\u001b[0m \u001b[0mself\u001b[0m\u001b[0;34m.\u001b[0m\u001b[0mparse_int\u001b[0m\u001b[0;34m(\u001b[0m\u001b[0mexpr\u001b[0m\u001b[0;34m)\u001b[0m\u001b[0;34m\u001b[0m\u001b[0;34m\u001b[0m\u001b[0m\n\u001b[0m\u001b[1;32m    627\u001b[0m             \u001b[0;32mreturn\u001b[0m \u001b[0mstr\u001b[0m\u001b[0;34m(\u001b[0m\u001b[0mval\u001b[0m\u001b[0;34m)\u001b[0m\u001b[0;34m,\u001b[0m \u001b[0mexpr\u001b[0m\u001b[0;34m[\u001b[0m\u001b[0mi\u001b[0m\u001b[0;34m:\u001b[0m\u001b[0;34m]\u001b[0m\u001b[0;34m\u001b[0m\u001b[0;34m\u001b[0m\u001b[0m\n\u001b[1;32m    628\u001b[0m \u001b[0;34m\u001b[0m\u001b[0m\n",
      "\u001b[0;32m~/SymbolicMathematics/src/envs/char_sp.py\u001b[0m in \u001b[0;36mparse_int\u001b[0;34m(self, lst)\u001b[0m\n\u001b[1;32m    461\u001b[0m         \u001b[0mval\u001b[0m \u001b[0;34m=\u001b[0m \u001b[0;36m0\u001b[0m\u001b[0;34m\u001b[0m\u001b[0;34m\u001b[0m\u001b[0m\n\u001b[1;32m    462\u001b[0m         \u001b[0;32mif\u001b[0m \u001b[0;32mnot\u001b[0m \u001b[0;34m(\u001b[0m\u001b[0mbalanced\u001b[0m \u001b[0;32mand\u001b[0m \u001b[0mlst\u001b[0m\u001b[0;34m[\u001b[0m\u001b[0;36m0\u001b[0m\u001b[0;34m]\u001b[0m \u001b[0;34m==\u001b[0m \u001b[0;34m'INT'\u001b[0m \u001b[0;32mor\u001b[0m \u001b[0mbase\u001b[0m \u001b[0;34m>=\u001b[0m \u001b[0;36m2\u001b[0m \u001b[0;32mand\u001b[0m \u001b[0mlst\u001b[0m\u001b[0;34m[\u001b[0m\u001b[0;36m0\u001b[0m\u001b[0;34m]\u001b[0m \u001b[0;32min\u001b[0m \u001b[0;34m[\u001b[0m\u001b[0;34m'INT+'\u001b[0m\u001b[0;34m,\u001b[0m \u001b[0;34m'INT-'\u001b[0m\u001b[0;34m]\u001b[0m \u001b[0;32mor\u001b[0m \u001b[0mbase\u001b[0m \u001b[0;34m<=\u001b[0m \u001b[0;34m-\u001b[0m\u001b[0;36m2\u001b[0m \u001b[0;32mand\u001b[0m \u001b[0mlst\u001b[0m\u001b[0;34m[\u001b[0m\u001b[0;36m0\u001b[0m\u001b[0;34m]\u001b[0m \u001b[0;34m==\u001b[0m \u001b[0;34m'INT'\u001b[0m\u001b[0;34m)\u001b[0m\u001b[0;34m:\u001b[0m\u001b[0;34m\u001b[0m\u001b[0;34m\u001b[0m\u001b[0m\n\u001b[0;32m--> 463\u001b[0;31m             \u001b[0;32mraise\u001b[0m \u001b[0mInvalidPrefixExpression\u001b[0m\u001b[0;34m(\u001b[0m\u001b[0;34mf\"Invalid integer in prefix expression\"\u001b[0m\u001b[0;34m)\u001b[0m\u001b[0;34m\u001b[0m\u001b[0;34m\u001b[0m\u001b[0m\n\u001b[0m\u001b[1;32m    464\u001b[0m         \u001b[0mi\u001b[0m \u001b[0;34m=\u001b[0m \u001b[0;36m0\u001b[0m\u001b[0;34m\u001b[0m\u001b[0;34m\u001b[0m\u001b[0m\n\u001b[1;32m    465\u001b[0m         \u001b[0;32mfor\u001b[0m \u001b[0mx\u001b[0m \u001b[0;32min\u001b[0m \u001b[0mlst\u001b[0m\u001b[0;34m[\u001b[0m\u001b[0;36m1\u001b[0m\u001b[0;34m:\u001b[0m\u001b[0;34m]\u001b[0m\u001b[0;34m:\u001b[0m\u001b[0;34m\u001b[0m\u001b[0;34m\u001b[0m\u001b[0m\n",
      "\u001b[0;31mInvalidPrefixExpression\u001b[0m: 'Invalid integer in prefix expression'"
     ]
    }
   ],
   "source": [
    "env.prefix_to_infix(x1_prefix)"
   ]
  },
  {
   "cell_type": "code",
   "execution_count": 122,
   "metadata": {},
   "outputs": [],
   "source": [
    "sp.S(env.infix_to_sympy(env.prefix_to_infix(x1_prefix)))"
   ]
  },
  {
   "cell_type": "code",
   "execution_count": 164,
   "metadata": {},
   "outputs": [
    {
     "name": "stderr",
     "output_type": "stream",
     "text": [
      "\n",
      "\n",
      "\n",
      "0it [00:00, ?it/s]\u001b[A\u001b[A\u001b[A"
     ]
    },
    {
     "name": "stdout",
     "output_type": "stream",
     "text": [
      "['sub', \"Y'\", 'pow', 'x', 'INT+', '2']\n",
      "['sub', \"Y'\", 'pow', 'x', 'INT+', '2']\n",
      "['mul', 'div', 'INT+', '1', 'INT+', '3', 'pow', 'x', 'INT+', '3']\n",
      "['mul', 'div', 'INT+', '1', 'INT+', '3', 'pow', 'x', 'INT+', '3']\n",
      "['mul', 'div', 'INT+', '1', 'INT+', '3', 'pow', 'x', 'INT+', '3']\n",
      "['mul', 'div', 'INT+', '1', 'INT+', '3', 'pow', 'x', 'INT+', '3']\n",
      "['sub', \"Y'\", 'add', 'x', 'pow', 'x', 'INT+', '3']\n",
      "['sub', \"Y'\", 'add', 'x', 'pow', 'x', 'INT+', '3']\n",
      "['sub', \"Y'\", 'add', 'x', 'pow', 'x', 'INT+', '3']\n",
      "['add', 'mul', 'div', 'INT+', '1', 'INT+', '2', 'pow', 'x', 'INT+', '2', 'mul', 'div', 'INT+', '1', 'INT+', '4', 'pow', 'x', 'INT+', '4']\n",
      "['add', 'mul', 'div', 'INT+', '1', 'INT+', '2', 'pow', 'x', 'INT+', '2', 'mul', 'div', 'INT+', '1', 'INT+', '4', 'pow', 'x', 'INT+', '4']\n",
      "['add', 'mul', 'div', 'INT+', '1', 'INT+', '2', 'pow', 'x', 'INT+', '2', 'mul', 'div', 'INT+', '1', 'INT+', '4', 'pow', 'x', 'INT+', '4']\n",
      "['add', 'mul', 'div', 'INT+', '1', 'INT+', '2', 'pow', 'x', 'INT+', '2', 'mul', 'div', 'INT+', '1', 'INT+', '4', 'pow', 'x', 'INT+', '4']\n",
      "['add', 'mul', 'div', 'INT+', '1', 'INT+', '2', 'pow', 'x', 'INT+', '2', 'mul', 'div', 'INT+', '1', 'INT+', '4', 'pow', 'x', 'INT+', '4']\n",
      "['add', 'mul', 'div', 'INT+', '1', 'INT+', '2', 'pow', 'x', 'INT+', '2', 'mul', 'div', 'INT+', '1', 'INT+', '4', 'pow', 'x', 'INT+', '4']\n",
      "['add', 'mul', 'div', 'INT+', '1', 'INT+', '2', 'pow', 'x', 'INT+', '2', 'mul', 'div', 'INT+', '1', 'INT+', '4', 'pow', 'x', 'INT+', '4']\n",
      "['add', 'mul', 'div', 'INT+', '1', 'INT+', '2', 'pow', 'x', 'INT+', '2', 'mul', 'div', 'INT+', '1', 'INT+', '4', 'pow', 'x', 'INT+', '4']\n",
      "['sub', \"Y'\", 'ln', 'x']\n",
      "['add', 'mul', 'INT-', '1', 'x', 'mul', 'x', 'ln', 'x']\n",
      "['add', 'mul', 'INT-', '1', 'x', 'mul', 'x', 'ln', 'x']\n",
      "['add', 'mul', 'INT-', '1', 'x', 'mul', 'x', 'ln', 'x']\n",
      "['add', 'mul', 'INT-', '1', 'x', 'mul', 'x', 'ln', 'x']\n",
      "['sub', \"Y'\", 'add', 'x', 'ln', 'x']\n",
      "['sub', \"Y'\", 'add', 'x', 'ln', 'x']\n",
      "['add', 'mul', 'div', 'INT+', '1', 'INT+', '2', 'pow', 'x', 'INT+', '2', 'add', 'mul', 'INT-', '1', 'x', 'mul', 'x', 'ln', 'x']\n",
      "['add', 'mul', 'div', 'INT+', '1', 'INT+', '2', 'pow', 'x', 'INT+', '2', 'add', 'mul', 'INT-', '1', 'x', 'mul', 'x', 'ln', 'x']\n",
      "['add', 'mul', 'div', 'INT+', '1', 'INT+', '2', 'pow', 'x', 'INT+', '2', 'add', 'mul', 'INT-', '1', 'x', 'mul', 'x', 'ln', 'x']\n",
      "['add', 'mul', 'div', 'INT+', '1', 'INT+', '2', 'pow', 'x', 'INT+', '2', 'add', 'mul', 'INT-', '1', 'x', 'mul', 'x', 'ln', 'x']\n",
      "['add', 'mul', 'div', 'INT+', '1', 'INT+', '2', 'pow', 'x', 'INT+', '2', 'add', 'mul', 'INT-', '1', 'x', 'mul', 'x', 'ln', 'x']\n",
      "['add', 'mul', 'div', 'INT+', '1', 'INT+', '2', 'pow', 'x', 'INT+', '2', 'add', 'mul', 'INT-', '1', 'x', 'mul', 'x', 'ln', 'x']\n",
      "['add', 'mul', 'div', 'INT+', '1', 'INT+', '2', 'pow', 'x', 'INT+', '2', 'add', 'mul', 'INT-', '1', 'x', 'mul', 'x', 'ln', 'x']\n",
      "['add', 'mul', 'div', 'INT+', '1', 'INT+', '2', 'pow', 'x', 'INT+', '2', 'add', 'mul', 'INT-', '1', 'x', 'mul', 'x', 'ln', 'x']\n",
      "['sub', \"Y'\", 'pow', 'x', 'div', 'INT+', '5', 'INT+', '2']\n",
      "['sub', \"Y'\", 'pow', 'x', 'div', 'INT+', '5', 'INT+', '2']\n",
      "['sub', \"Y'\", 'pow', 'x', 'div', 'INT+', '5', 'INT+', '2']\n",
      "['mul', 'div', 'INT+', '2', 'INT+', '7', 'pow', 'x', 'div', 'INT+', '7', 'INT+', '2']\n",
      "['mul', 'div', 'INT+', '2', 'INT+', '7', 'pow', 'x', 'div', 'INT+', '7', 'INT+', '2']\n",
      "['mul', 'div', 'INT+', '2', 'INT+', '7', 'pow', 'x', 'div', 'INT+', '7', 'INT+', '2']\n",
      "['mul', 'div', 'INT+', '2', 'INT+', '7', 'pow', 'x', 'div', 'INT+', '7', 'INT+', '2']\n",
      "['mul', 'div', 'INT+', '2', 'INT+', '7', 'pow', 'x', 'div', 'INT+', '7', 'INT+', '2']\n",
      "['sub', \"Y'\", 'mul', 'INT+', '4', 'pow', 'x', 'INT-', '1']\n",
      "['sub', \"Y'\", 'mul', 'INT+', '4', 'pow', 'x', 'INT-', '1']\n",
      "['sub', \"Y'\", 'mul', 'INT+', '4', 'pow', 'x', 'INT-', '1']\n",
      "['mul', 'INT+', '4', 'ln', 'x']\n",
      "['mul', 'INT+', '4', 'ln', 'x']\n",
      "['sub', \"Y'\", 'mul', 'INT+', '9', 'pow', 'x', 'INT+', '2']\n",
      "['sub', \"Y'\", 'mul', 'INT+', '9', 'pow', 'x', 'INT+', '2']\n",
      "['sub', \"Y'\", 'mul', 'INT+', '9', 'pow', 'x', 'INT+', '2']\n",
      "['mul', 'INT+', '3', 'pow', 'x', 'INT+', '3']\n",
      "['mul', 'INT+', '3', 'pow', 'x', 'INT+', '3']\n",
      "['mul', 'INT+', '3', 'pow', 'x', 'INT+', '3']\n",
      "['sub', \"Y'\", 'add', 'x', 'mul', 'INT+', '5', 'pow', 'x', 'INT+', '2']\n",
      "['sub', \"Y'\", 'add', 'x', 'mul', 'INT+', '5', 'pow', 'x', 'INT+', '2']\n",
      "['sub', \"Y'\", 'add', 'x', 'mul', 'INT+', '5', 'pow', 'x', 'INT+', '2']\n",
      "['sub', \"Y'\", 'add', 'x', 'mul', 'INT+', '5', 'pow', 'x', 'INT+', '2']\n",
      "['add', 'mul', 'div', 'INT+', '1', 'INT+', '2', 'pow', 'x', 'INT+', '2', 'mul', 'div', 'INT+', '5', 'INT+', '3', 'pow', 'x', 'INT+', '3']\n",
      "['add', 'mul', 'div', 'INT+', '1', 'INT+', '2', 'pow', 'x', 'INT+', '2', 'mul', 'div', 'INT+', '5', 'INT+', '3', 'pow', 'x', 'INT+', '3']\n",
      "['add', 'mul', 'div', 'INT+', '1', 'INT+', '2', 'pow', 'x', 'INT+', '2', 'mul', 'div', 'INT+', '5', 'INT+', '3', 'pow', 'x', 'INT+', '3']\n",
      "['add', 'mul', 'div', 'INT+', '1', 'INT+', '2', 'pow', 'x', 'INT+', '2', 'mul', 'div', 'INT+', '5', 'INT+', '3', 'pow', 'x', 'INT+', '3']\n",
      "['add', 'mul', 'div', 'INT+', '1', 'INT+', '2', 'pow', 'x', 'INT+', '2', 'mul', 'div', 'INT+', '5', 'INT+', '3', 'pow', 'x', 'INT+', '3']\n",
      "['add', 'mul', 'div', 'INT+', '1', 'INT+', '2', 'pow', 'x', 'INT+', '2', 'mul', 'div', 'INT+', '5', 'INT+', '3', 'pow', 'x', 'INT+', '3']\n",
      "['add', 'mul', 'div', 'INT+', '1', 'INT+', '2', 'pow', 'x', 'INT+', '2', 'mul', 'div', 'INT+', '5', 'INT+', '3', 'pow', 'x', 'INT+', '3']\n",
      "['add', 'mul', 'div', 'INT+', '1', 'INT+', '2', 'pow', 'x', 'INT+', '2', 'mul', 'div', 'INT+', '5', 'INT+', '3', 'pow', 'x', 'INT+', '3']\n",
      "['sub', \"Y'\", 'ln', 'pow', 'x', 'INT+', '3']\n",
      "['sub', \"Y'\", 'ln', 'pow', 'x', 'INT+', '3']\n",
      "['add', 'mul', 'INT-', '3', 'x', 'mul', 'x', 'ln', 'pow', 'x', 'INT+', '3']\n",
      "['add', 'mul', 'INT-', '3', 'x', 'mul', 'x', 'ln', 'pow', 'x', 'INT+', '3']\n",
      "['add', 'mul', 'INT-', '3', 'x', 'mul', 'x', 'ln', 'pow', 'x', 'INT+', '3']\n",
      "['add', 'mul', 'INT-', '3', 'x', 'mul', 'x', 'ln', 'pow', 'x', 'INT+', '3']\n",
      "['add', 'mul', 'INT-', '3', 'x', 'mul', 'x', 'ln', 'pow', 'x', 'INT+', '3']\n",
      "['sub', \"Y'\", 'mul', 'x', 'add', 'x', 'mul', 'INT-', '1', 'pow', 'x', 'INT+', '2']\n",
      "['sub', \"Y'\", 'mul', 'x', 'add', 'x', 'mul', 'INT-', '1', 'pow', 'x', 'INT+', '2']\n",
      "['sub', \"Y'\", 'mul', 'x', 'add', 'x', 'mul', 'INT-', '1', 'pow', 'x', 'INT+', '2']\n",
      "['sub', \"Y'\", 'mul', 'x', 'add', 'x', 'mul', 'INT-', '1', 'pow', 'x', 'INT+', '2']\n",
      "['sub', \"Y'\", 'mul', 'x', 'add', 'x', 'mul', 'INT-', '1', 'pow', 'x', 'INT+', '2']\n",
      "['add', 'mul', 'div', 'INT-', '1', 'INT+', '4', 'pow', 'x', 'INT+', '4', 'mul', 'div', 'INT+', '1', 'INT+', '3', 'pow', 'x', 'INT+', '3']\n",
      "['add', 'mul', 'div', 'INT-', '1', 'INT+', '4', 'pow', 'x', 'INT+', '4', 'mul', 'div', 'INT+', '1', 'INT+', '3', 'pow', 'x', 'INT+', '3']\n",
      "['add', 'mul', 'div', 'INT-', '1', 'INT+', '4', 'pow', 'x', 'INT+', '4', 'mul', 'div', 'INT+', '1', 'INT+', '3', 'pow', 'x', 'INT+', '3']\n",
      "['add', 'mul', 'div', 'INT-', '1', 'INT+', '4', 'pow', 'x', 'INT+', '4', 'mul', 'div', 'INT+', '1', 'INT+', '3', 'pow', 'x', 'INT+', '3']\n",
      "['add', 'mul', 'div', 'INT-', '1', 'INT+', '4', 'pow', 'x', 'INT+', '4', 'mul', 'div', 'INT+', '1', 'INT+', '3', 'pow', 'x', 'INT+', '3']\n",
      "['add', 'mul', 'div', 'INT-', '1', 'INT+', '4', 'pow', 'x', 'INT+', '4', 'mul', 'div', 'INT+', '1', 'INT+', '3', 'pow', 'x', 'INT+', '3']\n",
      "['add', 'mul', 'div', 'INT-', '1', 'INT+', '4', 'pow', 'x', 'INT+', '4', 'mul', 'div', 'INT+', '1', 'INT+', '3', 'pow', 'x', 'INT+', '3']\n",
      "['add', 'mul', 'div', 'INT-', '1', 'INT+', '4', 'pow', 'x', 'INT+', '4', 'mul', 'div', 'INT+', '1', 'INT+', '3', 'pow', 'x', 'INT+', '3']\n",
      "['sub', \"Y'\", 'add', 'x', 'acosh', 'x']\n",
      "['sub', \"Y'\", 'add', 'x', 'acosh', 'x']\n",
      "['add', 'mul', 'div', 'INT+', '1', 'INT+', '2', 'pow', 'x', 'INT+', '2', 'add', 'mul', 'INT-', '1', 'sqrt', 'add', 'INT-', '1', 'pow', 'x', 'INT+', '2', 'mul', 'x', 'acosh', 'x']\n",
      "['add', 'mul', 'div', 'INT+', '1', 'INT+', '2', 'pow', 'x', 'INT+', '2', 'add', 'mul', 'INT-', '1', 'sqrt', 'add', 'INT-', '1', 'pow', 'x', 'INT+', '2', 'mul', 'x', 'acosh', 'x']\n",
      "['add', 'mul', 'div', 'INT+', '1', 'INT+', '2', 'pow', 'x', 'INT+', '2', 'add', 'mul', 'INT-', '1', 'sqrt', 'add', 'INT-', '1', 'pow', 'x', 'INT+', '2', 'mul', 'x', 'acosh', 'x']\n",
      "['add', 'mul', 'div', 'INT+', '1', 'INT+', '2', 'pow', 'x', 'INT+', '2', 'add', 'mul', 'INT-', '1', 'sqrt', 'add', 'INT-', '1', 'pow', 'x', 'INT+', '2', 'mul', 'x', 'acosh', 'x']\n",
      "['add', 'mul', 'div', 'INT+', '1', 'INT+', '2', 'pow', 'x', 'INT+', '2', 'add', 'mul', 'INT-', '1', 'sqrt', 'add', 'INT-', '1', 'pow', 'x', 'INT+', '2', 'mul', 'x', 'acosh', 'x']\n",
      "['add', 'mul', 'div', 'INT+', '1', 'INT+', '2', 'pow', 'x', 'INT+', '2', 'add', 'mul', 'INT-', '1', 'sqrt', 'add', 'INT-', '1', 'pow', 'x', 'INT+', '2', 'mul', 'x', 'acosh', 'x']\n",
      "['add', 'mul', 'div', 'INT+', '1', 'INT+', '2', 'pow', 'x', 'INT+', '2', 'add', 'mul', 'INT-', '1', 'sqrt', 'add', 'INT-', '1', 'pow', 'x', 'INT+', '2', 'mul', 'x', 'acosh', 'x']\n",
      "['add', 'mul', 'div', 'INT+', '1', 'INT+', '2', 'pow', 'x', 'INT+', '2', 'add', 'mul', 'INT-', '1', 'sqrt', 'add', 'INT-', '1', 'pow', 'x', 'INT+', '2', 'mul', 'x', 'acosh', 'x']\n",
      "['add', 'mul', 'div', 'INT+', '1', 'INT+', '2', 'pow', 'x', 'INT+', '2', 'add', 'mul', 'INT-', '1', 'sqrt', 'add', 'INT-', '1', 'pow', 'x', 'INT+', '2', 'mul', 'x', 'acosh', 'x']\n",
      "['add', 'mul', 'div', 'INT+', '1', 'INT+', '2', 'pow', 'x', 'INT+', '2', 'add', 'mul', 'INT-', '1', 'sqrt', 'add', 'INT-', '1', 'pow', 'x', 'INT+', '2', 'mul', 'x', 'acosh', 'x']\n",
      "['sub', \"Y'\", 'add', 'mul', 'INT+', '2', 'x', 'atan', 'x']\n",
      "['sub', \"Y'\", 'add', 'mul', 'INT+', '2', 'x', 'atan', 'x']\n",
      "['sub', \"Y'\", 'add', 'mul', 'INT+', '2', 'x', 'atan', 'x']\n",
      "['add', 'pow', 'x', 'INT+', '2', 'add', 'mul', 'div', 'INT-', '1', 'INT+', '2', 'ln', 'add', 'INT+', '1', 'pow', 'x', 'INT+', '2', 'mul', 'x', 'atan', 'x']\n",
      "['add', 'pow', 'x', 'INT+', '2', 'add', 'mul', 'div', 'INT-', '1', 'INT+', '2', 'ln', 'add', 'INT+', '1', 'pow', 'x', 'INT+', '2', 'mul', 'x', 'atan', 'x']\n",
      "['add', 'pow', 'x', 'INT+', '2', 'add', 'mul', 'div', 'INT-', '1', 'INT+', '2', 'ln', 'add', 'INT+', '1', 'pow', 'x', 'INT+', '2', 'mul', 'x', 'atan', 'x']\n",
      "['add', 'pow', 'x', 'INT+', '2', 'add', 'mul', 'div', 'INT-', '1', 'INT+', '2', 'ln', 'add', 'INT+', '1', 'pow', 'x', 'INT+', '2', 'mul', 'x', 'atan', 'x']\n",
      "['add', 'pow', 'x', 'INT+', '2', 'add', 'mul', 'div', 'INT-', '1', 'INT+', '2', 'ln', 'add', 'INT+', '1', 'pow', 'x', 'INT+', '2', 'mul', 'x', 'atan', 'x']\n",
      "['add', 'pow', 'x', 'INT+', '2', 'add', 'mul', 'div', 'INT-', '1', 'INT+', '2', 'ln', 'add', 'INT+', '1', 'pow', 'x', 'INT+', '2', 'mul', 'x', 'atan', 'x']\n",
      "['add', 'pow', 'x', 'INT+', '2', 'add', 'mul', 'div', 'INT-', '1', 'INT+', '2', 'ln', 'add', 'INT+', '1', 'pow', 'x', 'INT+', '2', 'mul', 'x', 'atan', 'x']\n",
      "['add', 'pow', 'x', 'INT+', '2', 'add', 'mul', 'div', 'INT-', '1', 'INT+', '2', 'ln', 'add', 'INT+', '1', 'pow', 'x', 'INT+', '2', 'mul', 'x', 'atan', 'x']\n",
      "['add', 'pow', 'x', 'INT+', '2', 'add', 'mul', 'div', 'INT-', '1', 'INT+', '2', 'ln', 'add', 'INT+', '1', 'pow', 'x', 'INT+', '2', 'mul', 'x', 'atan', 'x']\n",
      "['sub', \"Y'\", 'mul', 'x', 'sinh', 'x']\n",
      "['sub', \"Y'\", 'mul', 'x', 'sinh', 'x']\n",
      "['add', 'mul', 'INT-', '1', 'sinh', 'x', 'mul', 'x', 'cosh', 'x']\n",
      "['add', 'mul', 'INT-', '1', 'sinh', 'x', 'mul', 'x', 'cosh', 'x']\n",
      "['add', 'mul', 'INT-', '1', 'sinh', 'x', 'mul', 'x', 'cosh', 'x']\n",
      "['add', 'mul', 'INT-', '1', 'sinh', 'x', 'mul', 'x', 'cosh', 'x']\n",
      "['sub', \"Y'\", 'add', 'mul', 'INT-', '1', 'sin', 'x', 'mul', 'INT+', '2', 'x']\n",
      "['sub', \"Y'\", 'add', 'mul', 'INT-', '1', 'sin', 'x', 'mul', 'INT+', '2', 'x']\n",
      "['sub', \"Y'\", 'add', 'mul', 'INT-', '1', 'sin', 'x', 'mul', 'INT+', '2', 'x']\n",
      "['sub', \"Y'\", 'add', 'mul', 'INT-', '1', 'sin', 'x', 'mul', 'INT+', '2', 'x']\n",
      "['add', 'pow', 'x', 'INT+', '2', 'cos', 'x']\n",
      "['add', 'pow', 'x', 'INT+', '2', 'cos', 'x']\n",
      "['add', 'pow', 'x', 'INT+', '2', 'cos', 'x']\n",
      "['sub', \"Y'\", 'add', 'mul', 'INT+', '2', 'x', 'mul', 'INT+', '2', 'pow', 'x', 'INT+', '3']\n",
      "['sub', \"Y'\", 'add', 'mul', 'INT+', '2', 'x', 'mul', 'INT+', '2', 'pow', 'x', 'INT+', '3']\n",
      "['sub', \"Y'\", 'add', 'mul', 'INT+', '2', 'x', 'mul', 'INT+', '2', 'pow', 'x', 'INT+', '3']\n",
      "['sub', \"Y'\", 'add', 'mul', 'INT+', '2', 'x', 'mul', 'INT+', '2', 'pow', 'x', 'INT+', '3']\n",
      "['sub', \"Y'\", 'add', 'mul', 'INT+', '2', 'x', 'mul', 'INT+', '2', 'pow', 'x', 'INT+', '3']\n",
      "['add', 'pow', 'x', 'INT+', '2', 'mul', 'div', 'INT+', '1', 'INT+', '2', 'pow', 'x', 'INT+', '4']\n",
      "['add', 'pow', 'x', 'INT+', '2', 'mul', 'div', 'INT+', '1', 'INT+', '2', 'pow', 'x', 'INT+', '4']\n",
      "['add', 'pow', 'x', 'INT+', '2', 'mul', 'div', 'INT+', '1', 'INT+', '2', 'pow', 'x', 'INT+', '4']\n",
      "['add', 'pow', 'x', 'INT+', '2', 'mul', 'div', 'INT+', '1', 'INT+', '2', 'pow', 'x', 'INT+', '4']\n",
      "['add', 'pow', 'x', 'INT+', '2', 'mul', 'div', 'INT+', '1', 'INT+', '2', 'pow', 'x', 'INT+', '4']\n",
      "['add', 'pow', 'x', 'INT+', '2', 'mul', 'div', 'INT+', '1', 'INT+', '2', 'pow', 'x', 'INT+', '4']\n",
      "['sub', \"Y'\", 'mul', 'x', 'pow', 'add', 'x', 'pow', 'x', 'INT+', '3', 'INT-', '1']\n",
      "['sub', \"Y'\", 'mul', 'x', 'pow', 'add', 'x', 'pow', 'x', 'INT+', '3', 'INT-', '1']\n",
      "['sub', \"Y'\", 'mul', 'x', 'pow', 'add', 'x', 'pow', 'x', 'INT+', '3', 'INT-', '1']\n",
      "['sub', \"Y'\", 'mul', 'x', 'pow', 'add', 'x', 'pow', 'x', 'INT+', '3', 'INT-', '1']\n",
      "['sub', \"Y'\", 'mul', 'x', 'pow', 'add', 'x', 'pow', 'x', 'INT+', '3', 'INT-', '1']\n",
      "['atan', 'x']\n",
      "['sub', \"Y'\", 'mul', 'x', 'add', 'INT+', '1', 'mul', 'INT+', '3', 'x']\n",
      "['sub', \"Y'\", 'mul', 'x', 'add', 'INT+', '1', 'mul', 'INT+', '3', 'x']\n",
      "['sub', \"Y'\", 'mul', 'x', 'add', 'INT+', '1', 'mul', 'INT+', '3', 'x']\n",
      "['sub', \"Y'\", 'mul', 'x', 'add', 'INT+', '1', 'mul', 'INT+', '3', 'x']\n",
      "['add', 'pow', 'x', 'INT+', '3', 'mul', 'div', 'INT+', '1', 'INT+', '2', 'pow', 'x', 'INT+', '2']\n",
      "['add', 'pow', 'x', 'INT+', '3', 'mul', 'div', 'INT+', '1', 'INT+', '2', 'pow', 'x', 'INT+', '2']\n",
      "['add', 'pow', 'x', 'INT+', '3', 'mul', 'div', 'INT+', '1', 'INT+', '2', 'pow', 'x', 'INT+', '2']\n",
      "['add', 'pow', 'x', 'INT+', '3', 'mul', 'div', 'INT+', '1', 'INT+', '2', 'pow', 'x', 'INT+', '2']\n",
      "['add', 'pow', 'x', 'INT+', '3', 'mul', 'div', 'INT+', '1', 'INT+', '2', 'pow', 'x', 'INT+', '2']\n",
      "['add', 'pow', 'x', 'INT+', '3', 'mul', 'div', 'INT+', '1', 'INT+', '2', 'pow', 'x', 'INT+', '2']\n",
      "['sub', \"Y'\", 'mul', 'x', 'add', 'sqrt', 'x', 'mul', 'INT+', '2', 'x']\n",
      "['sub', \"Y'\", 'mul', 'x', 'add', 'sqrt', 'x', 'mul', 'INT+', '2', 'x']\n",
      "['sub', \"Y'\", 'mul', 'x', 'add', 'sqrt', 'x', 'mul', 'INT+', '2', 'x']\n",
      "['sub', \"Y'\", 'mul', 'x', 'add', 'sqrt', 'x', 'mul', 'INT+', '2', 'x']\n",
      "['add', 'mul', 'div', 'INT+', '2', 'INT+', '3', 'pow', 'x', 'INT+', '3', 'mul', 'div', 'INT+', '2', 'INT+', '5', 'pow', 'x', 'div', 'INT+', '5', 'INT+', '2']\n",
      "['add', 'mul', 'div', 'INT+', '2', 'INT+', '3', 'pow', 'x', 'INT+', '3', 'mul', 'div', 'INT+', '2', 'INT+', '5', 'pow', 'x', 'div', 'INT+', '5', 'INT+', '2']\n",
      "['add', 'mul', 'div', 'INT+', '2', 'INT+', '3', 'pow', 'x', 'INT+', '3', 'mul', 'div', 'INT+', '2', 'INT+', '5', 'pow', 'x', 'div', 'INT+', '5', 'INT+', '2']\n",
      "['add', 'mul', 'div', 'INT+', '2', 'INT+', '3', 'pow', 'x', 'INT+', '3', 'mul', 'div', 'INT+', '2', 'INT+', '5', 'pow', 'x', 'div', 'INT+', '5', 'INT+', '2']\n",
      "['add', 'mul', 'div', 'INT+', '2', 'INT+', '3', 'pow', 'x', 'INT+', '3', 'mul', 'div', 'INT+', '2', 'INT+', '5', 'pow', 'x', 'div', 'INT+', '5', 'INT+', '2']\n",
      "['add', 'mul', 'div', 'INT+', '2', 'INT+', '3', 'pow', 'x', 'INT+', '3', 'mul', 'div', 'INT+', '2', 'INT+', '5', 'pow', 'x', 'div', 'INT+', '5', 'INT+', '2']\n",
      "['add', 'mul', 'div', 'INT+', '2', 'INT+', '3', 'pow', 'x', 'INT+', '3', 'mul', 'div', 'INT+', '2', 'INT+', '5', 'pow', 'x', 'div', 'INT+', '5', 'INT+', '2']\n",
      "['add', 'mul', 'div', 'INT+', '2', 'INT+', '3', 'pow', 'x', 'INT+', '3', 'mul', 'div', 'INT+', '2', 'INT+', '5', 'pow', 'x', 'div', 'INT+', '5', 'INT+', '2']\n",
      "['add', 'mul', 'div', 'INT+', '2', 'INT+', '3', 'pow', 'x', 'INT+', '3', 'mul', 'div', 'INT+', '2', 'INT+', '5', 'pow', 'x', 'div', 'INT+', '5', 'INT+', '2']\n",
      "['sub', \"Y'\", 'mul', 'INT+', '4', 'pow', 'x', 'INT+', '5']\n",
      "['sub', \"Y'\", 'mul', 'INT+', '4', 'pow', 'x', 'INT+', '5']\n",
      "['sub', \"Y'\", 'mul', 'INT+', '4', 'pow', 'x', 'INT+', '5']\n",
      "['mul', 'div', 'INT+', '2', 'INT+', '3', 'pow', 'x', 'INT+', '6']\n",
      "['mul', 'div', 'INT+', '2', 'INT+', '3', 'pow', 'x', 'INT+', '6']\n",
      "['mul', 'div', 'INT+', '2', 'INT+', '3', 'pow', 'x', 'INT+', '6']\n",
      "['mul', 'div', 'INT+', '2', 'INT+', '3', 'pow', 'x', 'INT+', '6']\n",
      "['sub', \"Y'\", 'add', 'pow', 'x', 'INT+', '3', 'sin', 'x']\n",
      "['sub', \"Y'\", 'add', 'pow', 'x', 'INT+', '3', 'sin', 'x']\n",
      "['sub', \"Y'\", 'add', 'pow', 'x', 'INT+', '3', 'sin', 'x']\n",
      "['add', 'mul', 'INT-', '1', 'cos', 'x', 'mul', 'div', 'INT+', '1', 'INT+', '4', 'pow', 'x', 'INT+', '4']\n",
      "['add', 'mul', 'INT-', '1', 'cos', 'x', 'mul', 'div', 'INT+', '1', 'INT+', '4', 'pow', 'x', 'INT+', '4']\n",
      "['add', 'mul', 'INT-', '1', 'cos', 'x', 'mul', 'div', 'INT+', '1', 'INT+', '4', 'pow', 'x', 'INT+', '4']\n",
      "['add', 'mul', 'INT-', '1', 'cos', 'x', 'mul', 'div', 'INT+', '1', 'INT+', '4', 'pow', 'x', 'INT+', '4']\n",
      "['add', 'mul', 'INT-', '1', 'cos', 'x', 'mul', 'div', 'INT+', '1', 'INT+', '4', 'pow', 'x', 'INT+', '4']\n",
      "['add', 'mul', 'INT-', '1', 'cos', 'x', 'mul', 'div', 'INT+', '1', 'INT+', '4', 'pow', 'x', 'INT+', '4']\n",
      "['sub', \"Y'\", 'mul', 'cos', 'x', 'sin', 'x']\n",
      "['sub', \"Y'\", 'mul', 'cos', 'x', 'sin', 'x']\n",
      "['mul', 'div', 'INT+', '1', 'INT+', '2', 'pow', 'sin', 'x', 'INT+', '2']\n",
      "['mul', 'div', 'INT+', '1', 'INT+', '2', 'pow', 'sin', 'x', 'INT+', '2']\n",
      "['mul', 'div', 'INT+', '1', 'INT+', '2', 'pow', 'sin', 'x', 'INT+', '2']\n",
      "['mul', 'div', 'INT+', '1', 'INT+', '2', 'pow', 'sin', 'x', 'INT+', '2']\n",
      "['sub', \"Y'\", 'cos', 'add', 'INT+', '1', 'mul', 'INT+', '2', 'x']\n",
      "['sub', \"Y'\", 'cos', 'add', 'INT+', '1', 'mul', 'INT+', '2', 'x']\n",
      "['sub', \"Y'\", 'cos', 'add', 'INT+', '1', 'mul', 'INT+', '2', 'x']\n",
      "['mul', 'div', 'INT+', '1', 'INT+', '2', 'sin', 'add', 'INT+', '1', 'mul', 'INT+', '2', 'x']\n",
      "['mul', 'div', 'INT+', '1', 'INT+', '2', 'sin', 'add', 'INT+', '1', 'mul', 'INT+', '2', 'x']\n",
      "['mul', 'div', 'INT+', '1', 'INT+', '2', 'sin', 'add', 'INT+', '1', 'mul', 'INT+', '2', 'x']\n",
      "['mul', 'div', 'INT+', '1', 'INT+', '2', 'sin', 'add', 'INT+', '1', 'mul', 'INT+', '2', 'x']\n",
      "['mul', 'div', 'INT+', '1', 'INT+', '2', 'sin', 'add', 'INT+', '1', 'mul', 'INT+', '2', 'x']\n",
      "['sub', \"Y'\", 'ln', 'add', 'INT+', '2', 'x']\n",
      "['sub', \"Y'\", 'ln', 'add', 'INT+', '2', 'x']\n",
      "['add', 'mul', 'INT-', '1', 'x', 'add', 'mul', 'INT+', '2', 'ln', 'add', 'INT+', '2', 'x', 'mul', 'x', 'ln', 'add', 'INT+', '2', 'x']\n",
      "['add', 'mul', 'INT-', '1', 'x', 'add', 'mul', 'INT+', '2', 'ln', 'add', 'INT+', '2', 'x', 'mul', 'x', 'ln', 'add', 'INT+', '2', 'x']\n",
      "['add', 'mul', 'INT-', '1', 'x', 'add', 'mul', 'INT+', '2', 'ln', 'add', 'INT+', '2', 'x', 'mul', 'x', 'ln', 'add', 'INT+', '2', 'x']\n",
      "['add', 'mul', 'INT-', '1', 'x', 'add', 'mul', 'INT+', '2', 'ln', 'add', 'INT+', '2', 'x', 'mul', 'x', 'ln', 'add', 'INT+', '2', 'x']\n",
      "['add', 'mul', 'INT-', '1', 'x', 'add', 'mul', 'INT+', '2', 'ln', 'add', 'INT+', '2', 'x', 'mul', 'x', 'ln', 'add', 'INT+', '2', 'x']\n",
      "['add', 'mul', 'INT-', '1', 'x', 'add', 'mul', 'INT+', '2', 'ln', 'add', 'INT+', '2', 'x', 'mul', 'x', 'ln', 'add', 'INT+', '2', 'x']\n",
      "['add', 'mul', 'INT-', '1', 'x', 'add', 'mul', 'INT+', '2', 'ln', 'add', 'INT+', '2', 'x', 'mul', 'x', 'ln', 'add', 'INT+', '2', 'x']\n",
      "['add', 'mul', 'INT-', '1', 'x', 'add', 'mul', 'INT+', '2', 'ln', 'add', 'INT+', '2', 'x', 'mul', 'x', 'ln', 'add', 'INT+', '2', 'x']\n",
      "['sub', \"Y'\", 'add', 'x', 'ln', 'mul', 'INT+', '3', 'x']\n",
      "['sub', \"Y'\", 'add', 'x', 'ln', 'mul', 'INT+', '3', 'x']\n",
      "['sub', \"Y'\", 'add', 'x', 'ln', 'mul', 'INT+', '3', 'x']\n",
      "['add', 'mul', 'div', 'INT+', '1', 'INT+', '2', 'pow', 'x', 'INT+', '2', 'add', 'mul', 'INT-', '1', 'x', 'mul', 'x', 'ln', 'mul', 'INT+', '3', 'x']\n",
      "['add', 'mul', 'div', 'INT+', '1', 'INT+', '2', 'pow', 'x', 'INT+', '2', 'add', 'mul', 'INT-', '1', 'x', 'mul', 'x', 'ln', 'mul', 'INT+', '3', 'x']\n",
      "['add', 'mul', 'div', 'INT+', '1', 'INT+', '2', 'pow', 'x', 'INT+', '2', 'add', 'mul', 'INT-', '1', 'x', 'mul', 'x', 'ln', 'mul', 'INT+', '3', 'x']\n",
      "['add', 'mul', 'div', 'INT+', '1', 'INT+', '2', 'pow', 'x', 'INT+', '2', 'add', 'mul', 'INT-', '1', 'x', 'mul', 'x', 'ln', 'mul', 'INT+', '3', 'x']\n",
      "['add', 'mul', 'div', 'INT+', '1', 'INT+', '2', 'pow', 'x', 'INT+', '2', 'add', 'mul', 'INT-', '1', 'x', 'mul', 'x', 'ln', 'mul', 'INT+', '3', 'x']\n",
      "['add', 'mul', 'div', 'INT+', '1', 'INT+', '2', 'pow', 'x', 'INT+', '2', 'add', 'mul', 'INT-', '1', 'x', 'mul', 'x', 'ln', 'mul', 'INT+', '3', 'x']\n",
      "['add', 'mul', 'div', 'INT+', '1', 'INT+', '2', 'pow', 'x', 'INT+', '2', 'add', 'mul', 'INT-', '1', 'x', 'mul', 'x', 'ln', 'mul', 'INT+', '3', 'x']\n",
      "['add', 'mul', 'div', 'INT+', '1', 'INT+', '2', 'pow', 'x', 'INT+', '2', 'add', 'mul', 'INT-', '1', 'x', 'mul', 'x', 'ln', 'mul', 'INT+', '3', 'x']\n",
      "['add', 'mul', 'div', 'INT+', '1', 'INT+', '2', 'pow', 'x', 'INT+', '2', 'add', 'mul', 'INT-', '1', 'x', 'mul', 'x', 'ln', 'mul', 'INT+', '3', 'x']\n",
      "['sub', \"Y'\", 'add', 'mul', 'INT-', '1', 'x', 'mul', 'INT-', '1', 'exp', 'x']\n",
      "['sub', \"Y'\", 'add', 'mul', 'INT-', '1', 'x', 'mul', 'INT-', '1', 'exp', 'x']\n",
      "['sub', \"Y'\", 'add', 'mul', 'INT-', '1', 'x', 'mul', 'INT-', '1', 'exp', 'x']\n",
      "['sub', \"Y'\", 'add', 'mul', 'INT-', '1', 'x', 'mul', 'INT-', '1', 'exp', 'x']\n",
      "['add', 'mul', 'INT-', '1', 'exp', 'x', 'mul', 'div', 'INT-', '1', 'INT+', '2', 'pow', 'x', 'INT+', '2']\n",
      "['add', 'mul', 'INT-', '1', 'exp', 'x', 'mul', 'div', 'INT-', '1', 'INT+', '2', 'pow', 'x', 'INT+', '2']\n",
      "['add', 'mul', 'INT-', '1', 'exp', 'x', 'mul', 'div', 'INT-', '1', 'INT+', '2', 'pow', 'x', 'INT+', '2']\n",
      "['add', 'mul', 'INT-', '1', 'exp', 'x', 'mul', 'div', 'INT-', '1', 'INT+', '2', 'pow', 'x', 'INT+', '2']\n",
      "['add', 'mul', 'INT-', '1', 'exp', 'x', 'mul', 'div', 'INT-', '1', 'INT+', '2', 'pow', 'x', 'INT+', '2']\n",
      "['add', 'mul', 'INT-', '1', 'exp', 'x', 'mul', 'div', 'INT-', '1', 'INT+', '2', 'pow', 'x', 'INT+', '2']\n",
      "['sub', \"Y'\", 'mul', 'pow', 'x', 'INT+', '2', 'cos', 'mul', 'INT+', '2', 'x']\n",
      "['sub', \"Y'\", 'mul', 'pow', 'x', 'INT+', '2', 'cos', 'mul', 'INT+', '2', 'x']\n",
      "['sub', \"Y'\", 'mul', 'pow', 'x', 'INT+', '2', 'cos', 'mul', 'INT+', '2', 'x']\n",
      "['sub', \"Y'\", 'mul', 'pow', 'x', 'INT+', '2', 'cos', 'mul', 'INT+', '2', 'x']\n",
      "['add', 'mul', 'div', 'INT-', '1', 'INT+', '4', 'sin', 'mul', 'INT+', '2', 'x', 'add', 'mul', 'div', 'INT+', '1', 'INT+', '2', 'mul', 'x', 'cos', 'mul', 'INT+', '2', 'x', 'mul', 'div', 'INT+', '1', 'INT+', '2', 'mul', 'pow', 'x', 'INT+', '2', 'sin', 'mul', 'INT+', '2', 'x']\n",
      "['add', 'mul', 'div', 'INT-', '1', 'INT+', '4', 'sin', 'mul', 'INT+', '2', 'x', 'add', 'mul', 'div', 'INT+', '1', 'INT+', '2', 'mul', 'x', 'cos', 'mul', 'INT+', '2', 'x', 'mul', 'div', 'INT+', '1', 'INT+', '2', 'mul', 'pow', 'x', 'INT+', '2', 'sin', 'mul', 'INT+', '2', 'x']\n",
      "['add', 'mul', 'div', 'INT-', '1', 'INT+', '4', 'sin', 'mul', 'INT+', '2', 'x', 'add', 'mul', 'div', 'INT+', '1', 'INT+', '2', 'mul', 'x', 'cos', 'mul', 'INT+', '2', 'x', 'mul', 'div', 'INT+', '1', 'INT+', '2', 'mul', 'pow', 'x', 'INT+', '2', 'sin', 'mul', 'INT+', '2', 'x']\n",
      "['add', 'mul', 'div', 'INT-', '1', 'INT+', '4', 'sin', 'mul', 'INT+', '2', 'x', 'add', 'mul', 'div', 'INT+', '1', 'INT+', '2', 'mul', 'x', 'cos', 'mul', 'INT+', '2', 'x', 'mul', 'div', 'INT+', '1', 'INT+', '2', 'mul', 'pow', 'x', 'INT+', '2', 'sin', 'mul', 'INT+', '2', 'x']\n",
      "['add', 'mul', 'div', 'INT-', '1', 'INT+', '4', 'sin', 'mul', 'INT+', '2', 'x', 'add', 'mul', 'div', 'INT+', '1', 'INT+', '2', 'mul', 'x', 'cos', 'mul', 'INT+', '2', 'x', 'mul', 'div', 'INT+', '1', 'INT+', '2', 'mul', 'pow', 'x', 'INT+', '2', 'sin', 'mul', 'INT+', '2', 'x']\n",
      "['add', 'mul', 'div', 'INT-', '1', 'INT+', '4', 'sin', 'mul', 'INT+', '2', 'x', 'add', 'mul', 'div', 'INT+', '1', 'INT+', '2', 'mul', 'x', 'cos', 'mul', 'INT+', '2', 'x', 'mul', 'div', 'INT+', '1', 'INT+', '2', 'mul', 'pow', 'x', 'INT+', '2', 'sin', 'mul', 'INT+', '2', 'x']\n",
      "['add', 'mul', 'div', 'INT-', '1', 'INT+', '4', 'sin', 'mul', 'INT+', '2', 'x', 'add', 'mul', 'div', 'INT+', '1', 'INT+', '2', 'mul', 'x', 'cos', 'mul', 'INT+', '2', 'x', 'mul', 'div', 'INT+', '1', 'INT+', '2', 'mul', 'pow', 'x', 'INT+', '2', 'sin', 'mul', 'INT+', '2', 'x']\n",
      "['add', 'mul', 'div', 'INT-', '1', 'INT+', '4', 'sin', 'mul', 'INT+', '2', 'x', 'add', 'mul', 'div', 'INT+', '1', 'INT+', '2', 'mul', 'x', 'cos', 'mul', 'INT+', '2', 'x', 'mul', 'div', 'INT+', '1', 'INT+', '2', 'mul', 'pow', 'x', 'INT+', '2', 'sin', 'mul', 'INT+', '2', 'x']\n",
      "['add', 'mul', 'div', 'INT-', '1', 'INT+', '4', 'sin', 'mul', 'INT+', '2', 'x', 'add', 'mul', 'div', 'INT+', '1', 'INT+', '2', 'mul', 'x', 'cos', 'mul', 'INT+', '2', 'x', 'mul', 'div', 'INT+', '1', 'INT+', '2', 'mul', 'pow', 'x', 'INT+', '2', 'sin', 'mul', 'INT+', '2', 'x']\n",
      "['add', 'mul', 'div', 'INT-', '1', 'INT+', '4', 'sin', 'mul', 'INT+', '2', 'x', 'add', 'mul', 'div', 'INT+', '1', 'INT+', '2', 'mul', 'x', 'cos', 'mul', 'INT+', '2', 'x', 'mul', 'div', 'INT+', '1', 'INT+', '2', 'mul', 'pow', 'x', 'INT+', '2', 'sin', 'mul', 'INT+', '2', 'x']\n",
      "['add', 'mul', 'div', 'INT-', '1', 'INT+', '4', 'sin', 'mul', 'INT+', '2', 'x', 'add', 'mul', 'div', 'INT+', '1', 'INT+', '2', 'mul', 'x', 'cos', 'mul', 'INT+', '2', 'x', 'mul', 'div', 'INT+', '1', 'INT+', '2', 'mul', 'pow', 'x', 'INT+', '2', 'sin', 'mul', 'INT+', '2', 'x']\n",
      "['add', 'mul', 'div', 'INT-', '1', 'INT+', '4', 'sin', 'mul', 'INT+', '2', 'x', 'add', 'mul', 'div', 'INT+', '1', 'INT+', '2', 'mul', 'x', 'cos', 'mul', 'INT+', '2', 'x', 'mul', 'div', 'INT+', '1', 'INT+', '2', 'mul', 'pow', 'x', 'INT+', '2', 'sin', 'mul', 'INT+', '2', 'x']\n",
      "['add', 'mul', 'div', 'INT-', '1', 'INT+', '4', 'sin', 'mul', 'INT+', '2', 'x', 'add', 'mul', 'div', 'INT+', '1', 'INT+', '2', 'mul', 'x', 'cos', 'mul', 'INT+', '2', 'x', 'mul', 'div', 'INT+', '1', 'INT+', '2', 'mul', 'pow', 'x', 'INT+', '2', 'sin', 'mul', 'INT+', '2', 'x']\n",
      "['add', 'mul', 'div', 'INT-', '1', 'INT+', '4', 'sin', 'mul', 'INT+', '2', 'x', 'add', 'mul', 'div', 'INT+', '1', 'INT+', '2', 'mul', 'x', 'cos', 'mul', 'INT+', '2', 'x', 'mul', 'div', 'INT+', '1', 'INT+', '2', 'mul', 'pow', 'x', 'INT+', '2', 'sin', 'mul', 'INT+', '2', 'x']\n",
      "['add', 'mul', 'div', 'INT-', '1', 'INT+', '4', 'sin', 'mul', 'INT+', '2', 'x', 'add', 'mul', 'div', 'INT+', '1', 'INT+', '2', 'mul', 'x', 'cos', 'mul', 'INT+', '2', 'x', 'mul', 'div', 'INT+', '1', 'INT+', '2', 'mul', 'pow', 'x', 'INT+', '2', 'sin', 'mul', 'INT+', '2', 'x']\n",
      "['sub', \"Y'\", 'add', 'pow', 'x', 'INT+', '2', 'mul', 'INT-', '1', 'ln', 'x']\n",
      "['sub', \"Y'\", 'add', 'pow', 'x', 'INT+', '2', 'mul', 'INT-', '1', 'ln', 'x']\n",
      "['sub', \"Y'\", 'add', 'pow', 'x', 'INT+', '2', 'mul', 'INT-', '1', 'ln', 'x']\n",
      "['sub', \"Y'\", 'add', 'pow', 'x', 'INT+', '2', 'mul', 'INT-', '1', 'ln', 'x']\n",
      "['add', 'x', 'add', 'mul', 'div', 'INT+', '1', 'INT+', '3', 'pow', 'x', 'INT+', '3', 'mul', 'INT-', '1', 'mul', 'x', 'ln', 'x']\n",
      "['add', 'x', 'add', 'mul', 'div', 'INT+', '1', 'INT+', '3', 'pow', 'x', 'INT+', '3', 'mul', 'INT-', '1', 'mul', 'x', 'ln', 'x']\n",
      "['add', 'x', 'add', 'mul', 'div', 'INT+', '1', 'INT+', '3', 'pow', 'x', 'INT+', '3', 'mul', 'INT-', '1', 'mul', 'x', 'ln', 'x']\n",
      "['add', 'x', 'add', 'mul', 'div', 'INT+', '1', 'INT+', '3', 'pow', 'x', 'INT+', '3', 'mul', 'INT-', '1', 'mul', 'x', 'ln', 'x']\n",
      "['add', 'x', 'add', 'mul', 'div', 'INT+', '1', 'INT+', '3', 'pow', 'x', 'INT+', '3', 'mul', 'INT-', '1', 'mul', 'x', 'ln', 'x']\n",
      "['add', 'x', 'add', 'mul', 'div', 'INT+', '1', 'INT+', '3', 'pow', 'x', 'INT+', '3', 'mul', 'INT-', '1', 'mul', 'x', 'ln', 'x']\n",
      "['add', 'x', 'add', 'mul', 'div', 'INT+', '1', 'INT+', '3', 'pow', 'x', 'INT+', '3', 'mul', 'INT-', '1', 'mul', 'x', 'ln', 'x']\n",
      "['add', 'x', 'add', 'mul', 'div', 'INT+', '1', 'INT+', '3', 'pow', 'x', 'INT+', '3', 'mul', 'INT-', '1', 'mul', 'x', 'ln', 'x']\n",
      "['sub', \"Y'\", 'mul', 'pow', 'x', 'INT+', '3', 'sinh', 'x']\n",
      "['sub', \"Y'\", 'mul', 'pow', 'x', 'INT+', '3', 'sinh', 'x']\n",
      "['sub', \"Y'\", 'mul', 'pow', 'x', 'INT+', '3', 'sinh', 'x']\n",
      "['add', 'mul', 'INT-', '6', 'sinh', 'x', 'add', 'mul', 'pow', 'x', 'INT+', '3', 'cosh', 'x', 'add', 'mul', 'INT-', '3', 'mul', 'pow', 'x', 'INT+', '2', 'sinh', 'x', 'mul', 'INT+', '6', 'mul', 'x', 'cosh', 'x']\n",
      "['add', 'mul', 'INT-', '6', 'sinh', 'x', 'add', 'mul', 'pow', 'x', 'INT+', '3', 'cosh', 'x', 'add', 'mul', 'INT-', '3', 'mul', 'pow', 'x', 'INT+', '2', 'sinh', 'x', 'mul', 'INT+', '6', 'mul', 'x', 'cosh', 'x']\n",
      "['add', 'mul', 'INT-', '6', 'sinh', 'x', 'add', 'mul', 'pow', 'x', 'INT+', '3', 'cosh', 'x', 'add', 'mul', 'INT-', '3', 'mul', 'pow', 'x', 'INT+', '2', 'sinh', 'x', 'mul', 'INT+', '6', 'mul', 'x', 'cosh', 'x']\n",
      "['add', 'mul', 'INT-', '6', 'sinh', 'x', 'add', 'mul', 'pow', 'x', 'INT+', '3', 'cosh', 'x', 'add', 'mul', 'INT-', '3', 'mul', 'pow', 'x', 'INT+', '2', 'sinh', 'x', 'mul', 'INT+', '6', 'mul', 'x', 'cosh', 'x']\n",
      "['add', 'mul', 'INT-', '6', 'sinh', 'x', 'add', 'mul', 'pow', 'x', 'INT+', '3', 'cosh', 'x', 'add', 'mul', 'INT-', '3', 'mul', 'pow', 'x', 'INT+', '2', 'sinh', 'x', 'mul', 'INT+', '6', 'mul', 'x', 'cosh', 'x']\n",
      "['add', 'mul', 'INT-', '6', 'sinh', 'x', 'add', 'mul', 'pow', 'x', 'INT+', '3', 'cosh', 'x', 'add', 'mul', 'INT-', '3', 'mul', 'pow', 'x', 'INT+', '2', 'sinh', 'x', 'mul', 'INT+', '6', 'mul', 'x', 'cosh', 'x']\n",
      "['add', 'mul', 'INT-', '6', 'sinh', 'x', 'add', 'mul', 'pow', 'x', 'INT+', '3', 'cosh', 'x', 'add', 'mul', 'INT-', '3', 'mul', 'pow', 'x', 'INT+', '2', 'sinh', 'x', 'mul', 'INT+', '6', 'mul', 'x', 'cosh', 'x']\n",
      "['add', 'mul', 'INT-', '6', 'sinh', 'x', 'add', 'mul', 'pow', 'x', 'INT+', '3', 'cosh', 'x', 'add', 'mul', 'INT-', '3', 'mul', 'pow', 'x', 'INT+', '2', 'sinh', 'x', 'mul', 'INT+', '6', 'mul', 'x', 'cosh', 'x']\n",
      "['add', 'mul', 'INT-', '6', 'sinh', 'x', 'add', 'mul', 'pow', 'x', 'INT+', '3', 'cosh', 'x', 'add', 'mul', 'INT-', '3', 'mul', 'pow', 'x', 'INT+', '2', 'sinh', 'x', 'mul', 'INT+', '6', 'mul', 'x', 'cosh', 'x']\n",
      "['add', 'mul', 'INT-', '6', 'sinh', 'x', 'add', 'mul', 'pow', 'x', 'INT+', '3', 'cosh', 'x', 'add', 'mul', 'INT-', '3', 'mul', 'pow', 'x', 'INT+', '2', 'sinh', 'x', 'mul', 'INT+', '6', 'mul', 'x', 'cosh', 'x']\n",
      "['add', 'mul', 'INT-', '6', 'sinh', 'x', 'add', 'mul', 'pow', 'x', 'INT+', '3', 'cosh', 'x', 'add', 'mul', 'INT-', '3', 'mul', 'pow', 'x', 'INT+', '2', 'sinh', 'x', 'mul', 'INT+', '6', 'mul', 'x', 'cosh', 'x']\n",
      "['add', 'mul', 'INT-', '6', 'sinh', 'x', 'add', 'mul', 'pow', 'x', 'INT+', '3', 'cosh', 'x', 'add', 'mul', 'INT-', '3', 'mul', 'pow', 'x', 'INT+', '2', 'sinh', 'x', 'mul', 'INT+', '6', 'mul', 'x', 'cosh', 'x']\n",
      "['sub', \"Y'\", 'mul', 'x', 'add', 'INT+', '1', 'sqrt', 'x']\n",
      "['sub', \"Y'\", 'mul', 'x', 'add', 'INT+', '1', 'sqrt', 'x']\n",
      "['sub', \"Y'\", 'mul', 'x', 'add', 'INT+', '1', 'sqrt', 'x']\n",
      "['add', 'mul', 'div', 'INT+', '1', 'INT+', '2', 'pow', 'x', 'INT+', '2', 'mul', 'div', 'INT+', '2', 'INT+', '5', 'pow', 'x', 'div', 'INT+', '5', 'INT+', '2']\n",
      "['add', 'mul', 'div', 'INT+', '1', 'INT+', '2', 'pow', 'x', 'INT+', '2', 'mul', 'div', 'INT+', '2', 'INT+', '5', 'pow', 'x', 'div', 'INT+', '5', 'INT+', '2']\n",
      "['add', 'mul', 'div', 'INT+', '1', 'INT+', '2', 'pow', 'x', 'INT+', '2', 'mul', 'div', 'INT+', '2', 'INT+', '5', 'pow', 'x', 'div', 'INT+', '5', 'INT+', '2']\n",
      "['add', 'mul', 'div', 'INT+', '1', 'INT+', '2', 'pow', 'x', 'INT+', '2', 'mul', 'div', 'INT+', '2', 'INT+', '5', 'pow', 'x', 'div', 'INT+', '5', 'INT+', '2']\n",
      "['add', 'mul', 'div', 'INT+', '1', 'INT+', '2', 'pow', 'x', 'INT+', '2', 'mul', 'div', 'INT+', '2', 'INT+', '5', 'pow', 'x', 'div', 'INT+', '5', 'INT+', '2']\n",
      "['add', 'mul', 'div', 'INT+', '1', 'INT+', '2', 'pow', 'x', 'INT+', '2', 'mul', 'div', 'INT+', '2', 'INT+', '5', 'pow', 'x', 'div', 'INT+', '5', 'INT+', '2']\n",
      "['add', 'mul', 'div', 'INT+', '1', 'INT+', '2', 'pow', 'x', 'INT+', '2', 'mul', 'div', 'INT+', '2', 'INT+', '5', 'pow', 'x', 'div', 'INT+', '5', 'INT+', '2']\n",
      "['add', 'mul', 'div', 'INT+', '1', 'INT+', '2', 'pow', 'x', 'INT+', '2', 'mul', 'div', 'INT+', '2', 'INT+', '5', 'pow', 'x', 'div', 'INT+', '5', 'INT+', '2']\n",
      "['add', 'mul', 'div', 'INT+', '1', 'INT+', '2', 'pow', 'x', 'INT+', '2', 'mul', 'div', 'INT+', '2', 'INT+', '5', 'pow', 'x', 'div', 'INT+', '5', 'INT+', '2']\n",
      "['sub', \"Y'\", 'mul', 'pow', 'x', 'INT+', '2', 'exp', 'mul', 'INT-', '2', 'x']\n",
      "['sub', \"Y'\", 'mul', 'pow', 'x', 'INT+', '2', 'exp', 'mul', 'INT-', '2', 'x']\n",
      "['sub', \"Y'\", 'mul', 'pow', 'x', 'INT+', '2', 'exp', 'mul', 'INT-', '2', 'x']\n",
      "['sub', \"Y'\", 'mul', 'pow', 'x', 'INT+', '2', 'exp', 'mul', 'INT-', '2', 'x']\n",
      "['mul', 'div', 'INT+', '1', 'INT+', '4', 'mul', 'add', 'INT-', '1', 'add', 'mul', 'INT-', '2', 'x', 'mul', 'INT-', '2', 'pow', 'x', 'INT+', '2', 'exp', 'mul', 'INT-', '2', 'x']\n",
      "['mul', 'div', 'INT+', '1', 'INT+', '4', 'mul', 'add', 'INT-', '1', 'add', 'mul', 'INT-', '2', 'x', 'mul', 'INT-', '2', 'pow', 'x', 'INT+', '2', 'exp', 'mul', 'INT-', '2', 'x']\n",
      "['mul', 'div', 'INT+', '1', 'INT+', '4', 'mul', 'add', 'INT-', '1', 'add', 'mul', 'INT-', '2', 'x', 'mul', 'INT-', '2', 'pow', 'x', 'INT+', '2', 'exp', 'mul', 'INT-', '2', 'x']\n",
      "['mul', 'div', 'INT+', '1', 'INT+', '4', 'mul', 'add', 'INT-', '1', 'add', 'mul', 'INT-', '2', 'x', 'mul', 'INT-', '2', 'pow', 'x', 'INT+', '2', 'exp', 'mul', 'INT-', '2', 'x']\n",
      "['mul', 'div', 'INT+', '1', 'INT+', '4', 'mul', 'add', 'INT-', '1', 'add', 'mul', 'INT-', '2', 'x', 'mul', 'INT-', '2', 'pow', 'x', 'INT+', '2', 'exp', 'mul', 'INT-', '2', 'x']\n",
      "['mul', 'div', 'INT+', '1', 'INT+', '4', 'mul', 'add', 'INT-', '1', 'add', 'mul', 'INT-', '2', 'x', 'mul', 'INT-', '2', 'pow', 'x', 'INT+', '2', 'exp', 'mul', 'INT-', '2', 'x']\n",
      "['mul', 'div', 'INT+', '1', 'INT+', '4', 'mul', 'add', 'INT-', '1', 'add', 'mul', 'INT-', '2', 'x', 'mul', 'INT-', '2', 'pow', 'x', 'INT+', '2', 'exp', 'mul', 'INT-', '2', 'x']\n",
      "['mul', 'div', 'INT+', '1', 'INT+', '4', 'mul', 'add', 'INT-', '1', 'add', 'mul', 'INT-', '2', 'x', 'mul', 'INT-', '2', 'pow', 'x', 'INT+', '2', 'exp', 'mul', 'INT-', '2', 'x']\n",
      "['mul', 'div', 'INT+', '1', 'INT+', '4', 'mul', 'add', 'INT-', '1', 'add', 'mul', 'INT-', '2', 'x', 'mul', 'INT-', '2', 'pow', 'x', 'INT+', '2', 'exp', 'mul', 'INT-', '2', 'x']\n",
      "['mul', 'div', 'INT+', '1', 'INT+', '4', 'mul', 'add', 'INT-', '1', 'add', 'mul', 'INT-', '2', 'x', 'mul', 'INT-', '2', 'pow', 'x', 'INT+', '2', 'exp', 'mul', 'INT-', '2', 'x']\n",
      "['sub', \"Y'\", 'mul', 'pow', 'INT+', '2', 'div', 'INT+', '1', 'INT+', '4', 'pow', 'x', 'div', 'INT+', '1', 'INT+', '4']\n",
      "['sub', \"Y'\", 'mul', 'pow', 'INT+', '2', 'div', 'INT+', '1', 'INT+', '4', 'pow', 'x', 'div', 'INT+', '1', 'INT+', '4']\n",
      "['sub', \"Y'\", 'mul', 'pow', 'INT+', '2', 'div', 'INT+', '1', 'INT+', '4', 'pow', 'x', 'div', 'INT+', '1', 'INT+', '4']\n",
      "['sub', \"Y'\", 'mul', 'pow', 'INT+', '2', 'div', 'INT+', '1', 'INT+', '4', 'pow', 'x', 'div', 'INT+', '1', 'INT+', '4']\n",
      "['sub', \"Y'\", 'mul', 'pow', 'INT+', '2', 'div', 'INT+', '1', 'INT+', '4', 'pow', 'x', 'div', 'INT+', '1', 'INT+', '4']\n",
      "['sub', \"Y'\", 'mul', 'pow', 'INT+', '2', 'div', 'INT+', '1', 'INT+', '4', 'pow', 'x', 'div', 'INT+', '1', 'INT+', '4']\n",
      "['mul', 'div', 'INT+', '4', 'INT+', '5', 'mul', 'pow', 'INT+', '2', 'div', 'INT+', '1', 'INT+', '4', 'pow', 'x', 'div', 'INT+', '5', 'INT+', '4']\n",
      "['mul', 'div', 'INT+', '4', 'INT+', '5', 'mul', 'pow', 'INT+', '2', 'div', 'INT+', '1', 'INT+', '4', 'pow', 'x', 'div', 'INT+', '5', 'INT+', '4']\n",
      "['mul', 'div', 'INT+', '4', 'INT+', '5', 'mul', 'pow', 'INT+', '2', 'div', 'INT+', '1', 'INT+', '4', 'pow', 'x', 'div', 'INT+', '5', 'INT+', '4']\n",
      "['mul', 'div', 'INT+', '4', 'INT+', '5', 'mul', 'pow', 'INT+', '2', 'div', 'INT+', '1', 'INT+', '4', 'pow', 'x', 'div', 'INT+', '5', 'INT+', '4']\n",
      "['mul', 'div', 'INT+', '4', 'INT+', '5', 'mul', 'pow', 'INT+', '2', 'div', 'INT+', '1', 'INT+', '4', 'pow', 'x', 'div', 'INT+', '5', 'INT+', '4']\n",
      "['mul', 'div', 'INT+', '4', 'INT+', '5', 'mul', 'pow', 'INT+', '2', 'div', 'INT+', '1', 'INT+', '4', 'pow', 'x', 'div', 'INT+', '5', 'INT+', '4']\n",
      "['mul', 'div', 'INT+', '4', 'INT+', '5', 'mul', 'pow', 'INT+', '2', 'div', 'INT+', '1', 'INT+', '4', 'pow', 'x', 'div', 'INT+', '5', 'INT+', '4']\n",
      "['mul', 'div', 'INT+', '4', 'INT+', '5', 'mul', 'pow', 'INT+', '2', 'div', 'INT+', '1', 'INT+', '4', 'pow', 'x', 'div', 'INT+', '5', 'INT+', '4']\n",
      "['sub', \"Y'\", 'mul', 'div', 'INT+', '1', 'INT+', '9', 'x']\n",
      "['sub', \"Y'\", 'mul', 'div', 'INT+', '1', 'INT+', '9', 'x']\n",
      "['sub', \"Y'\", 'mul', 'div', 'INT+', '1', 'INT+', '9', 'x']\n",
      "['mul', 'div', 'INT+', '1', 'INT+', '1', '8', 'pow', 'x', 'INT+', '2']\n",
      "['mul', 'div', 'INT+', '1', 'INT+', '1', '8', 'pow', 'x', 'INT+', '2']\n",
      "['mul', 'div', 'INT+', '1', 'INT+', '1', '8', 'pow', 'x', 'INT+', '2']\n"
     ]
    },
    {
     "name": "stderr",
     "output_type": "stream",
     "text": [
      "\n"
     ]
    },
    {
     "ename": "KeyError",
     "evalue": "-1",
     "output_type": "error",
     "traceback": [
      "\u001b[0;31m---------------------------------------------------------------------------\u001b[0m",
      "\u001b[0;31mKeyError\u001b[0m                                  Traceback (most recent call last)",
      "\u001b[0;32m<ipython-input-164-fd81aa289ce2>\u001b[0m in \u001b[0;36m<module>\u001b[0;34m\u001b[0m\n\u001b[1;32m     16\u001b[0m                 \u001b[0;31m#print(rel_matrix_q)\u001b[0m\u001b[0;34m\u001b[0m\u001b[0;34m\u001b[0m\u001b[0;34m\u001b[0m\u001b[0m\n\u001b[1;32m     17\u001b[0m \u001b[0;34m\u001b[0m\u001b[0m\n\u001b[0;32m---> 18\u001b[0;31m                 \u001b[0mancestors\u001b[0m\u001b[0;34m,\u001b[0m \u001b[0mlevels\u001b[0m \u001b[0;34m=\u001b[0m \u001b[0mget_ancestors\u001b[0m\u001b[0;34m(\u001b[0m\u001b[0ma\u001b[0m\u001b[0;34m,\u001b[0m \u001b[0mlen\u001b[0m\u001b[0;34m(\u001b[0m\u001b[0ma\u001b[0m\u001b[0;34m)\u001b[0m\u001b[0;34m)\u001b[0m\u001b[0;34m\u001b[0m\u001b[0;34m\u001b[0m\u001b[0m\n\u001b[0m\u001b[1;32m     19\u001b[0m                 \u001b[0mrel_matrix_a\u001b[0m \u001b[0;34m=\u001b[0m \u001b[0mget_ud_masks\u001b[0m\u001b[0;34m(\u001b[0m\u001b[0mancestors\u001b[0m\u001b[0;34m,\u001b[0m \u001b[0mlevels\u001b[0m\u001b[0;34m,\u001b[0m \u001b[0mlen\u001b[0m\u001b[0;34m(\u001b[0m\u001b[0ma\u001b[0m\u001b[0;34m)\u001b[0m\u001b[0;34m)\u001b[0m\u001b[0;34m\u001b[0m\u001b[0;34m\u001b[0m\u001b[0m\n\u001b[1;32m     20\u001b[0m                 \u001b[0;31m#print(rel_matrix_a)\u001b[0m\u001b[0;34m\u001b[0m\u001b[0;34m\u001b[0m\u001b[0;34m\u001b[0m\u001b[0m\n",
      "\u001b[0;32m<ipython-input-159-524c6d53532c>\u001b[0m in \u001b[0;36mget_ancestors\u001b[0;34m(exp_list, exp_len)\u001b[0m\n\u001b[1;32m     15\u001b[0m \u001b[0;34m\u001b[0m\u001b[0m\n\u001b[1;32m     16\u001b[0m         \u001b[0mnode2parent\u001b[0m\u001b[0;34m[\u001b[0m\u001b[0mi\u001b[0m\u001b[0;34m]\u001b[0m \u001b[0;34m=\u001b[0m \u001b[0mparent\u001b[0m\u001b[0;34m\u001b[0m\u001b[0;34m\u001b[0m\u001b[0m\n\u001b[0;32m---> 17\u001b[0;31m         \u001b[0mlevels\u001b[0m\u001b[0;34m[\u001b[0m\u001b[0mi\u001b[0m\u001b[0;34m]\u001b[0m \u001b[0;34m=\u001b[0m \u001b[0mlevels\u001b[0m\u001b[0;34m[\u001b[0m\u001b[0mparent\u001b[0m\u001b[0;34m]\u001b[0m \u001b[0;34m+\u001b[0m \u001b[0;36m1\u001b[0m\u001b[0;34m\u001b[0m\u001b[0;34m\u001b[0m\u001b[0m\n\u001b[0m\u001b[1;32m     18\u001b[0m \u001b[0;34m\u001b[0m\u001b[0m\n\u001b[1;32m     19\u001b[0m         \u001b[0;32mif\u001b[0m \u001b[0mop_now\u001b[0m \u001b[0;32min\u001b[0m \u001b[0mOPERATORS\u001b[0m \u001b[0;32mor\u001b[0m \u001b[0mop_now\u001b[0m \u001b[0;32min\u001b[0m \u001b[0msymbols\u001b[0m\u001b[0;34m:\u001b[0m   \u001b[0;31m# <=> node has children\u001b[0m\u001b[0;34m\u001b[0m\u001b[0;34m\u001b[0m\u001b[0m\n",
      "\u001b[0;31mKeyError\u001b[0m: -1"
     ]
    }
   ],
   "source": [
    "import json\n",
    "\n",
    "for set_name in ['valid', 'test', 'train']:\n",
    "    with open('data/prim_fwd.' + set_name, 'r') as expressions:\n",
    "        with open('data/rel_matrix_'+set_name+'.json', 'w') as rel_matrix_json:\n",
    "            for i, line in tqdm(enumerate(expressions)):\n",
    "                #print(line)\n",
    "                q, a = line.split('|')[1].split('\\t')\n",
    "                #print(q, ';', a)\n",
    "                \n",
    "                q = q.split()\n",
    "                a = a.split()\n",
    "                \n",
    "                ancestors, levels = get_ancestors(q, len(q))\n",
    "                rel_matrix_q = get_ud_masks(ancestors, levels, len(q))              \n",
    "                #print(rel_matrix_q)\n",
    "\n",
    "                ancestors, levels = get_ancestors(a, len(a))\n",
    "                rel_matrix_a = get_ud_masks(ancestors, levels, len(a))\n",
    "                #print(rel_matrix_a)\n",
    "                \n",
    "                #print('-'*100)\n",
    "p                    break\n",
    "            #json.dumps"
   ]
  },
  {
   "cell_type": "code",
   "execution_count": null,
   "metadata": {},
   "outputs": [],
   "source": [
    "парсить инты с помощью env.parse_int"
   ]
  },
  {
   "cell_type": "code",
   "execution_count": null,
   "metadata": {},
   "outputs": [],
   "source": []
  }
 ],
 "metadata": {
  "kernelspec": {
   "display_name": "Python 3",
   "language": "python",
   "name": "python3"
  },
  "language_info": {
   "codemirror_mode": {
    "name": "ipython",
    "version": 3
   },
   "file_extension": ".py",
   "mimetype": "text/x-python",
   "name": "python",
   "nbconvert_exporter": "python",
   "pygments_lexer": "ipython3",
   "version": "3.7.4"
  }
 },
 "nbformat": 4,
 "nbformat_minor": 2
}
