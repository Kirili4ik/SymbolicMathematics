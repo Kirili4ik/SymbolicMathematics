{
 "cells": [
  {
   "cell_type": "code",
   "execution_count": 1,
   "metadata": {},
   "outputs": [],
   "source": [
    "import os\n",
    "import numpy as np\n",
    "import sympy as sp\n",
    "import torch"
   ]
  },
  {
   "cell_type": "code",
   "execution_count": 20,
   "metadata": {},
   "outputs": [
    {
     "name": "stdout",
     "output_type": "stream",
     "text": [
      "/home/kpgelvan/SymbolicMathematics\n"
     ]
    }
   ],
   "source": [
    "cd ../"
   ]
  },
  {
   "cell_type": "code",
   "execution_count": 21,
   "metadata": {},
   "outputs": [],
   "source": [
    "from src.utils import AttrDict\n",
    "from src.envs import build_env\n",
    "from src.model import build_modules\n",
    "\n",
    "from src.utils import to_cuda\n",
    "from src.envs.sympy_utils import simplify"
   ]
  },
  {
   "cell_type": "code",
   "execution_count": null,
   "metadata": {},
   "outputs": [],
   "source": []
  },
  {
   "cell_type": "markdown",
   "metadata": {},
   "source": [
    "### "
   ]
  },
  {
   "cell_type": "code",
   "execution_count": 22,
   "metadata": {},
   "outputs": [],
   "source": [
    "OPERATORS = {\n",
    "        # Elementary functions\n",
    "        'add': 2,\n",
    "        'sub': 2,\n",
    "        'mul': 2,\n",
    "        'div': 2,\n",
    "        'pow': 2,\n",
    "        'rac': 2,\n",
    "        'inv': 1,\n",
    "        'pow2': 1,\n",
    "        'pow3': 1,\n",
    "        'pow4': 1,\n",
    "        'pow5': 1,\n",
    "        'sqrt': 1,\n",
    "        'exp': 1,\n",
    "        'ln': 1,\n",
    "        'abs': 1,\n",
    "        'sign': 1,\n",
    "        # Trigonometric Functions\n",
    "        'sin': 1,\n",
    "        'cos': 1,\n",
    "        'tan': 1,\n",
    "        'cot': 1,\n",
    "        'sec': 1,\n",
    "        'csc': 1,\n",
    "        # Trigonometric Inverses\n",
    "        'asin': 1,\n",
    "        'acos': 1,\n",
    "        'atan': 1,\n",
    "        'acot': 1,\n",
    "        'asec': 1,\n",
    "        'acsc': 1,\n",
    "        # Hyperbolic Functions\n",
    "        'sinh': 1,\n",
    "        'cosh': 1,\n",
    "        'tanh': 1,\n",
    "        'coth': 1,\n",
    "        'sech': 1,\n",
    "        'csch': 1,\n",
    "        # Hyperbolic Inverses\n",
    "        'asinh': 1,\n",
    "        'acosh': 1,\n",
    "        'atanh': 1,\n",
    "        'acoth': 1,\n",
    "        'asech': 1,\n",
    "        'acsch': 1,\n",
    "        # Derivative\n",
    "        'derivative': 2,\n",
    "        # custom functions\n",
    "        'f': 1,\n",
    "        'g': 2,\n",
    "        'h': 3,\n",
    "    }\n",
    "\n",
    "symbols = ['I', 'INT+', 'INT-', 'INT', 'FLOAT', '-', '.', '10^', 'Y', \"Y'\", \"Y''\"]"
   ]
  },
  {
   "cell_type": "code",
   "execution_count": 23,
   "metadata": {},
   "outputs": [],
   "source": [
    "constants = ['pi', 'E']\n",
    "variables = ['x', 'y', 'z', 't']\n",
    "functions = ['f', 'g', 'h']\n",
    "elements = [str(i) for i in range(-10, 10)]\n",
    "coefficients = [f'a{i}' for i in range(10)]"
   ]
  },
  {
   "cell_type": "code",
   "execution_count": 24,
   "metadata": {},
   "outputs": [],
   "source": [
    "no_child_symbols = constants + variables + functions + elements + coefficients"
   ]
  },
  {
   "cell_type": "markdown",
   "metadata": {},
   "source": [
    "###"
   ]
  },
  {
   "cell_type": "code",
   "execution_count": 25,
   "metadata": {},
   "outputs": [],
   "source": [
    "from tqdm import tqdm\n",
    "import queue\n",
    "\n",
    "def get_ancestors(exp_list, exp_len):\n",
    "    q = queue.LifoQueue()\n",
    "    q.put(-1)                            # so last element gets this parent but doesn't save it\n",
    "\n",
    "    ancestors = {0: []}\n",
    "    node2parent = {}\n",
    "    levels = {0: -1}\n",
    "\n",
    "    parent = 0\n",
    "    for i in range(exp_len):\n",
    "        op_now = exp_list[i]\n",
    "\n",
    "        node2parent[i] = parent\n",
    "        levels[i] = levels[parent] + 1\n",
    "\n",
    "        if op_now in OPERATORS or op_now in symbols:   # <=> node has children\n",
    "            if op_now in OPERATORS and OPERATORS[op_now] == 2:    # <=> node has 2 children\n",
    "                q.put(i)\n",
    "            parent = i\n",
    "        elif op_now in no_child_symbols:\n",
    "            if op_now.isdigit() and i + 1 < exp_len and exp_list[i + 1].isdigit():   # e.x. 18\n",
    "                parent = i\n",
    "            else:\n",
    "                parent = q.get()\n",
    "        else:\n",
    "            print(op_now)\n",
    "            raise(NotFound)\n",
    "        ancestors[i] = [i] + ancestors[node2parent[i]]\n",
    "\n",
    "    return ancestors, levels"
   ]
  },
  {
   "cell_type": "code",
   "execution_count": 26,
   "metadata": {},
   "outputs": [],
   "source": [
    "def get_path(i, j):\n",
    "    if i == j:\n",
    "        return \"<self>\"\n",
    "    anc_i = set(ancestors[i])\n",
    "      \n",
    "    for node in ancestors[j][-(levels[i] + 1) :]:\n",
    "        if node in anc_i:\n",
    "            up_n = levels[i] - levels[node]\n",
    "            down_n = levels[j] - levels[node]\n",
    "            return str(up_n + 0.001 * down_n)"
   ]
  },
  {
   "cell_type": "code",
   "execution_count": 27,
   "metadata": {},
   "outputs": [],
   "source": [
    "def get_ud_masks(ancestors, levels, exp_len):\n",
    "    path_rels = []\n",
    "    for i in range(exp_len):\n",
    "        path_rels.append(\" \".join([get_path(i, j) for j in range(exp_len)]))\n",
    "    \n",
    "    return path_rels"
   ]
  },
  {
   "cell_type": "markdown",
   "metadata": {},
   "source": [
    "###"
   ]
  },
  {
   "cell_type": "code",
   "execution_count": 28,
   "metadata": {},
   "outputs": [],
   "source": [
    "F_prefix  = ['mul', 'x', 'tan', 'mul', 'pow', 'x', 'INT-', '1', 'exp', 'x']"
   ]
  },
  {
   "cell_type": "code",
   "execution_count": 29,
   "metadata": {
    "scrolled": true
   },
   "outputs": [
    {
     "data": {
      "text/plain": [
       "['<self> 0.001 0.001 0.002 0.003 0.004 0.004 0.005 0.003 0.004',\n",
       " '1.0 <self> 1.001 1.002 1.003 1.004 1.004 1.005 1.003 1.004',\n",
       " '1.0 1.001 <self> 0.001 0.002 0.003 0.003 0.004 0.002 0.003',\n",
       " '2.0 2.001 1.0 <self> 0.001 0.002 0.002 0.003 0.001 0.002',\n",
       " '3.0 3.001 2.0 1.0 <self> 0.001 0.001 0.002 1.001 1.002',\n",
       " '4.0 4.001 3.0 2.0 1.0 <self> 1.001 1.002 2.001 2.002',\n",
       " '4.0 4.001 3.0 2.0 1.0 1.001 <self> 0.001 2.001 2.002',\n",
       " '5.0 5.001 4.0 3.0 2.0 2.001 1.0 <self> 3.001 3.002',\n",
       " '3.0 3.001 2.0 1.0 1.001 1.002 1.002 1.003 <self> 0.001',\n",
       " '4.0 4.001 3.0 2.0 2.001 2.002 2.002 2.003 1.0 <self>']"
      ]
     },
     "execution_count": 29,
     "metadata": {},
     "output_type": "execute_result"
    }
   ],
   "source": [
    "ancestors, levels = get_ancestors(F_prefix, len(F_prefix))\n",
    "rel_matrix = get_ud_masks(ancestors, levels, len(F_prefix))\n",
    "rel_matrix"
   ]
  },
  {
   "cell_type": "code",
   "execution_count": null,
   "metadata": {},
   "outputs": [],
   "source": []
  },
  {
   "cell_type": "code",
   "execution_count": null,
   "metadata": {},
   "outputs": [],
   "source": []
  },
  {
   "cell_type": "code",
   "execution_count": null,
   "metadata": {},
   "outputs": [],
   "source": []
  },
  {
   "cell_type": "markdown",
   "metadata": {},
   "source": [
    "###"
   ]
  },
  {
   "cell_type": "code",
   "execution_count": 33,
   "metadata": {},
   "outputs": [],
   "source": [
    "model_path = '../checkpoint.pth'\n",
    "assert os.path.isfile(model_path)"
   ]
  },
  {
   "cell_type": "code",
   "execution_count": 34,
   "metadata": {},
   "outputs": [],
   "source": [
    "params = params = AttrDict({\n",
    "\n",
    "    # environment parameters\n",
    "    'env_name': 'char_sp',\n",
    "    'int_base': 10,\n",
    "    'balanced': False,\n",
    "    'positive': True,\n",
    "    'precision': 10,\n",
    "    'n_variables': 1,\n",
    "    'n_coefficients': 0,\n",
    "    'leaf_probs': '0.75,0,0.25,0',\n",
    "    'max_len': 512,\n",
    "    'max_int': 5,\n",
    "    'max_ops': 15,\n",
    "    'max_ops_G': 15,\n",
    "    'clean_prefix_expr': True,\n",
    "    'rewrite_functions': '',\n",
    "    'tasks': 'prim_fwd',\n",
    "    'operators': 'add:10,sub:3,mul:10,div:5,sqrt:4,pow2:4,pow3:2,pow4:1,pow5:1,ln:4,exp:4,sin:4,cos:4,tan:4,asin:1,acos:1,atan:1,sinh:1,cosh:1,tanh:1,asinh:1,acosh:1,atanh:1',\n",
    "\n",
    "    # model parameters\n",
    "    'cpu': False,\n",
    "    'emb_dim': 1024,\n",
    "    'n_enc_layers': 6,\n",
    "    'n_dec_layers': 6,\n",
    "    'n_heads': 4,\n",
    "    'dropout': 0,\n",
    "    'attention_dropout': 0,\n",
    "    'sinusoidal_embeddings': False,\n",
    "    'share_inout_emb': True,\n",
    "    'reload_model': model_path,\n",
    "    'max_relative_pos':0,\n",
    "    'use_neg_dist':False\n",
    "})"
   ]
  },
  {
   "cell_type": "code",
   "execution_count": 35,
   "metadata": {},
   "outputs": [],
   "source": [
    "env = build_env(params)\n",
    "x = env.local_dict['x']"
   ]
  },
  {
   "cell_type": "code",
   "execution_count": 1,
   "metadata": {},
   "outputs": [
    {
     "data": {
      "text/plain": [
       "\"modules = build_modules(env, params)\\nencoder = modules['encoder']\\ndecoder = modules['decoder']\""
      ]
     },
     "execution_count": 1,
     "metadata": {},
     "output_type": "execute_result"
    }
   ],
   "source": [
    "modules = build_modules(env, params)\n",
    "encoder = modules['encoder']\n",
    "decoder = modules['decoder']"
   ]
  },
  {
   "cell_type": "code",
   "execution_count": null,
   "metadata": {},
   "outputs": [],
   "source": []
  },
  {
   "cell_type": "code",
   "execution_count": null,
   "metadata": {},
   "outputs": [],
   "source": []
  },
  {
   "cell_type": "markdown",
   "metadata": {},
   "source": [
    "###"
   ]
  },
  {
   "cell_type": "code",
   "execution_count": 12,
   "metadata": {},
   "outputs": [],
   "source": [
    "import sys\n",
    "sys.path.append('src/envs/')\n",
    "sys.path.append('src')"
   ]
  },
  {
   "cell_type": "code",
   "execution_count": 14,
   "metadata": {},
   "outputs": [],
   "source": [
    "#from char_sp import prefix_to_infix, infix_to_sympy"
   ]
  },
  {
   "cell_type": "code",
   "execution_count": 15,
   "metadata": {},
   "outputs": [],
   "source": [
    "#from utils import create_logger\n",
    "#from utils import bool_flag\n",
    "#from utils import timeout, TimeoutError\n",
    "#from char_sp import prefix_to_infix, infix_to_sympy\n"
   ]
  },
  {
   "cell_type": "code",
   "execution_count": 16,
   "metadata": {},
   "outputs": [
    {
     "ename": "NameError",
     "evalue": "name 'env' is not defined",
     "output_type": "error",
     "traceback": [
      "\u001b[0;31m---------------------------------------------------------------------------\u001b[0m",
      "\u001b[0;31mNameError\u001b[0m                                 Traceback (most recent call last)",
      "\u001b[0;32m<ipython-input-16-e577db3f1b0f>\u001b[0m in \u001b[0;36m<module>\u001b[0;34m\u001b[0m\n\u001b[1;32m      1\u001b[0m \u001b[0mf_prefix\u001b[0m \u001b[0;34m=\u001b[0m \u001b[0;34m[\u001b[0m\u001b[0;34m'sub'\u001b[0m\u001b[0;34m,\u001b[0m \u001b[0;34m\"Y'\"\u001b[0m\u001b[0;34m,\u001b[0m \u001b[0;34m'pow'\u001b[0m\u001b[0;34m,\u001b[0m \u001b[0;34m'x'\u001b[0m\u001b[0;34m,\u001b[0m \u001b[0;34m'INT+'\u001b[0m\u001b[0;34m,\u001b[0m \u001b[0;34m'2'\u001b[0m\u001b[0;34m]\u001b[0m\u001b[0;34m\u001b[0m\u001b[0;34m\u001b[0m\u001b[0m\n\u001b[0;32m----> 2\u001b[0;31m \u001b[0mx1_prefix\u001b[0m \u001b[0;34m=\u001b[0m \u001b[0menv\u001b[0m\u001b[0;34m.\u001b[0m\u001b[0mclean_prefix\u001b[0m\u001b[0;34m(\u001b[0m\u001b[0;34m[\u001b[0m\u001b[0;34m'sub'\u001b[0m\u001b[0;34m,\u001b[0m \u001b[0;34m'derivative'\u001b[0m\u001b[0;34m,\u001b[0m \u001b[0;34m'f'\u001b[0m\u001b[0;34m,\u001b[0m \u001b[0;34m'x'\u001b[0m\u001b[0;34m,\u001b[0m \u001b[0;34m'x'\u001b[0m\u001b[0;34m]\u001b[0m \u001b[0;34m+\u001b[0m \u001b[0mf_prefix\u001b[0m\u001b[0;34m)\u001b[0m\u001b[0;34m\u001b[0m\u001b[0;34m\u001b[0m\u001b[0m\n\u001b[0m\u001b[1;32m      3\u001b[0m \u001b[0mx1_prefix\u001b[0m\u001b[0;34m\u001b[0m\u001b[0;34m\u001b[0m\u001b[0m\n\u001b[1;32m      4\u001b[0m \u001b[0;31m#x1 = torch.LongTensor(\u001b[0m\u001b[0;34m\u001b[0m\u001b[0;34m\u001b[0m\u001b[0;34m\u001b[0m\u001b[0m\n\u001b[1;32m      5\u001b[0m \u001b[0;31m#    [env.eos_index] +\u001b[0m\u001b[0;34m\u001b[0m\u001b[0;34m\u001b[0m\u001b[0;34m\u001b[0m\u001b[0m\n",
      "\u001b[0;31mNameError\u001b[0m: name 'env' is not defined"
     ]
    }
   ],
   "source": [
    "f_prefix = ['sub', \"Y'\", 'pow', 'x', 'INT+', '2']\n",
    "x1_prefix = env.clean_prefix(['sub', 'derivative', 'f', 'x', 'x'] + f_prefix)\n",
    "x1_prefix\n",
    "#x1 = torch.LongTensor(\n",
    "#    [env.eos_index] +\n",
    "#    [env.word2id[w] for w in x1_prefix] +\n",
    "#    [env.eos_index]\n",
    "#).view(-1, 1)\n",
    "#len1 = torch.LongTensor([len(x1)])\n",
    "#x1, len1 = to_cuda(x1, len1)\n"
   ]
  },
  {
   "cell_type": "code",
   "execution_count": 13,
   "metadata": {},
   "outputs": [],
   "source": []
  },
  {
   "cell_type": "code",
   "execution_count": 58,
   "metadata": {},
   "outputs": [
    {
     "name": "stderr",
     "output_type": "stream",
     "text": [
      "9985it [00:06, 1556.64it/s]\n",
      "9986it [00:06, 1578.29it/s]\n",
      "288it [00:00, 2340.65it/s]\n"
     ]
    },
    {
     "ename": "KeyboardInterrupt",
     "evalue": "",
     "output_type": "error",
     "traceback": [
      "\u001b[0;31m---------------------------------------------------------------------------\u001b[0m",
      "\u001b[0;31mKeyboardInterrupt\u001b[0m                         Traceback (most recent call last)",
      "\u001b[0;32m<ipython-input-58-11043a9164ec>\u001b[0m in \u001b[0;36m<module>\u001b[0;34m\u001b[0m\n\u001b[1;32m     19\u001b[0m                 \u001b[0;31m#rel_matrix_a = get_ud_masks(ancestors, levels, len(a))\u001b[0m\u001b[0;34m\u001b[0m\u001b[0;34m\u001b[0m\u001b[0;34m\u001b[0m\u001b[0m\n\u001b[1;32m     20\u001b[0m \u001b[0;34m\u001b[0m\u001b[0m\n\u001b[0;32m---> 21\u001b[0;31m                 \u001b[0mrel_matrix_json\u001b[0m\u001b[0;34m.\u001b[0m\u001b[0mwrite\u001b[0m\u001b[0;34m(\u001b[0m\u001b[0mjson\u001b[0m\u001b[0;34m.\u001b[0m\u001b[0mdumps\u001b[0m\u001b[0;34m(\u001b[0m\u001b[0mrel_matrix_q\u001b[0m\u001b[0;34m,\u001b[0m \u001b[0mindent\u001b[0m\u001b[0;34m=\u001b[0m\u001b[0;36m0\u001b[0m\u001b[0;34m)\u001b[0m\u001b[0;34m)\u001b[0m\u001b[0;34m\u001b[0m\u001b[0;34m\u001b[0m\u001b[0m\n\u001b[0m",
      "\u001b[0;32m/opt/software/python/anaconda/2019_10/lib/python3.7/json/__init__.py\u001b[0m in \u001b[0;36mdumps\u001b[0;34m(obj, skipkeys, ensure_ascii, check_circular, allow_nan, cls, indent, separators, default, sort_keys, **kw)\u001b[0m\n\u001b[1;32m    236\u001b[0m         \u001b[0mcheck_circular\u001b[0m\u001b[0;34m=\u001b[0m\u001b[0mcheck_circular\u001b[0m\u001b[0;34m,\u001b[0m \u001b[0mallow_nan\u001b[0m\u001b[0;34m=\u001b[0m\u001b[0mallow_nan\u001b[0m\u001b[0;34m,\u001b[0m \u001b[0mindent\u001b[0m\u001b[0;34m=\u001b[0m\u001b[0mindent\u001b[0m\u001b[0;34m,\u001b[0m\u001b[0;34m\u001b[0m\u001b[0;34m\u001b[0m\u001b[0m\n\u001b[1;32m    237\u001b[0m         \u001b[0mseparators\u001b[0m\u001b[0;34m=\u001b[0m\u001b[0mseparators\u001b[0m\u001b[0;34m,\u001b[0m \u001b[0mdefault\u001b[0m\u001b[0;34m=\u001b[0m\u001b[0mdefault\u001b[0m\u001b[0;34m,\u001b[0m \u001b[0msort_keys\u001b[0m\u001b[0;34m=\u001b[0m\u001b[0msort_keys\u001b[0m\u001b[0;34m,\u001b[0m\u001b[0;34m\u001b[0m\u001b[0;34m\u001b[0m\u001b[0m\n\u001b[0;32m--> 238\u001b[0;31m         **kw).encode(obj)\n\u001b[0m\u001b[1;32m    239\u001b[0m \u001b[0;34m\u001b[0m\u001b[0m\n\u001b[1;32m    240\u001b[0m \u001b[0;34m\u001b[0m\u001b[0m\n",
      "\u001b[0;31mKeyboardInterrupt\u001b[0m: "
     ]
    }
   ],
   "source": [
    "import json\n",
    "import jsonlines\n",
    "\n",
    "for set_name in ['valid', 'test', 'train']:\n",
    "    with open('data/prim_fwd.' + set_name, 'r') as expressions:\n",
    "        with jsonlines.open('data/LINES_rel_matrix_'+set_name+'.jsonl', 'w') as rel_matrix_json:\n",
    "            for i, line in tqdm(enumerate(expressions)):\n",
    "                #print(line)\n",
    "                q, a = line.split('|')[1].split('\\t')\n",
    "                #print(q, ';', a)\n",
    "                \n",
    "                q = q.split()\n",
    "                a = a.split()\n",
    "                \n",
    "                ancestors, levels = get_ancestors(q, len(q))\n",
    "                rel_matrix_q = get_ud_masks(ancestors, levels, len(q))              \n",
    "\n",
    "                #ancestors, levels = get_ancestors(a, len(a))\n",
    "                #rel_matrix_a = get_ud_masks(ancestors, levels, len(a))\n",
    "                \n",
    "                rel_matrix_json.write(json.dumps(rel_matrix_q, indent=0))"
   ]
  },
  {
   "cell_type": "code",
   "execution_count": 63,
   "metadata": {},
   "outputs": [
    {
     "name": "stdout",
     "output_type": "stream",
     "text": [
      "[array(['<self>', '0.001', '0.002', '0.003', '0.003', '0.004', '0.004',\n",
      "       '0.005'], dtype='<U6'), array(['1.0', '<self>', '0.001', '0.002', '0.002', '0.003', '0.003',\n",
      "       '0.004'], dtype='<U6'), array(['2.0', '1.0', '<self>', '0.001', '0.001', '0.002', '0.002',\n",
      "       '0.003'], dtype='<U6'), array(['3.0', '2.0', '1.0', '<self>', '1.001', '1.002', '1.002', '1.003'],\n",
      "      dtype='<U6'), array(['3.0', '2.0', '1.0', '1.001', '<self>', '0.001', '0.001', '0.002'],\n",
      "      dtype='<U6'), array(['4.0', '3.0', '2.0', '2.001', '1.0', '<self>', '1.001', '1.002'],\n",
      "      dtype='<U6'), array(['4.0', '3.0', '2.0', '2.001', '1.0', '1.001', '<self>', '0.001'],\n",
      "      dtype='<U6'), array(['5.0', '4.0', '3.0', '3.001', '2.0', '2.001', '1.0', '<self>'],\n",
      "      dtype='<U6')]\n",
      "gg wp\n",
      "[array(['<self>', '0.001', '0.002', '0.003', '0.003', '0.004'], dtype='<U6'), array(['1.0', '<self>', '0.001', '0.002', '0.002', '0.003'], dtype='<U6'), array(['2.0', '1.0', '<self>', '0.001', '0.001', '0.002'], dtype='<U6'), array(['3.0', '2.0', '1.0', '<self>', '1.001', '1.002'], dtype='<U6'), array(['3.0', '2.0', '1.0', '1.001', '<self>', '0.001'], dtype='<U6'), array(['4.0', '3.0', '2.0', '2.001', '1.0', '<self>'], dtype='<U6')]\n",
      "gg wp\n",
      "[array(['<self>', '0.001', '0.002', '0.003', '0.003', '0.004', '0.004',\n",
      "       '0.005'], dtype='<U6'), array(['1.0', '<self>', '0.001', '0.002', '0.002', '0.003', '0.003',\n",
      "       '0.004'], dtype='<U6'), array(['2.0', '1.0', '<self>', '0.001', '0.001', '0.002', '0.002',\n",
      "       '0.003'], dtype='<U6'), array(['3.0', '2.0', '1.0', '<self>', '1.001', '1.002', '1.002', '1.003'],\n",
      "      dtype='<U6'), array(['3.0', '2.0', '1.0', '1.001', '<self>', '0.001', '0.001', '0.002'],\n",
      "      dtype='<U6'), array(['4.0', '3.0', '2.0', '2.001', '1.0', '<self>', '1.001', '1.002'],\n",
      "      dtype='<U6'), array(['4.0', '3.0', '2.0', '2.001', '1.0', '1.001', '<self>', '0.001'],\n",
      "      dtype='<U6'), array(['5.0', '4.0', '3.0', '3.001', '2.0', '2.001', '1.0', '<self>'],\n",
      "      dtype='<U6')]\n",
      "gg wp\n",
      "[array(['<self>', '0.001', '0.002', '0.003', '0.004', '0.005', '0.004',\n",
      "       '0.003', '0.004'], dtype='<U6'), array(['1.0', '<self>', '0.001', '0.002', '0.003', '0.004', '0.003',\n",
      "       '0.002', '0.003'], dtype='<U6'), array(['2.0', '1.0', '<self>', '0.001', '0.002', '0.003', '0.002',\n",
      "       '0.001', '0.002'], dtype='<U6'), array(['3.0', '2.0', '1.0', '<self>', '0.001', '0.002', '0.001', '1.001',\n",
      "       '1.002'], dtype='<U6'), array(['4.0', '3.0', '2.0', '1.0', '<self>', '0.001', '1.001', '2.001',\n",
      "       '2.002'], dtype='<U6'), array(['5.0', '4.0', '3.0', '2.0', '1.0', '<self>', '2.001', '3.001',\n",
      "       '3.002'], dtype='<U6'), array(['4.0', '3.0', '2.0', '1.0', '1.001', '1.002', '<self>', '2.001',\n",
      "       '2.002'], dtype='<U6'), array(['3.0', '2.0', '1.0', '1.001', '1.002', '1.003', '1.002', '<self>',\n",
      "       '0.001'], dtype='<U6'), array(['4.0', '3.0', '2.0', '2.001', '2.002', '2.003', '2.002', '1.0',\n",
      "       '<self>'], dtype='<U6')]\n",
      "gg wp\n",
      "[array(['<self>', '0.001', '0.002', '0.003', '0.003', '0.004', '0.004',\n",
      "       '0.005'], dtype='<U6'), array(['1.0', '<self>', '0.001', '0.002', '0.002', '0.003', '0.003',\n",
      "       '0.004'], dtype='<U6'), array(['2.0', '1.0', '<self>', '0.001', '0.001', '0.002', '0.002',\n",
      "       '0.003'], dtype='<U6'), array(['3.0', '2.0', '1.0', '<self>', '1.001', '1.002', '1.002', '1.003'],\n",
      "      dtype='<U6'), array(['3.0', '2.0', '1.0', '1.001', '<self>', '0.001', '0.001', '0.002'],\n",
      "      dtype='<U6'), array(['4.0', '3.0', '2.0', '2.001', '1.0', '<self>', '1.001', '1.002'],\n",
      "      dtype='<U6'), array(['4.0', '3.0', '2.0', '2.001', '1.0', '1.001', '<self>', '0.001'],\n",
      "      dtype='<U6'), array(['5.0', '4.0', '3.0', '3.001', '2.0', '2.001', '1.0', '<self>'],\n",
      "      dtype='<U6')]\n",
      "gg wp\n"
     ]
    }
   ],
   "source": [
    "with jsonlines.open('data/LINES_rel_matrix_test.jsonl') as reader:\n",
    "    for i, obj in enumerate(reader):\n",
    "        matrix = json.loads(obj)\n",
    "        new_matrix = [np.array(line.split()) for line in matrix]\n",
    "        print(new_matrix)\n",
    "        print('gg wp')\n",
    "        if i > 3:\n",
    "            break"
   ]
  },
  {
   "cell_type": "code",
   "execution_count": null,
   "metadata": {},
   "outputs": [],
   "source": []
  }
 ],
 "metadata": {
  "kernelspec": {
   "display_name": "Python 3",
   "language": "python",
   "name": "python3"
  },
  "language_info": {
   "codemirror_mode": {
    "name": "ipython",
    "version": 3
   },
   "file_extension": ".py",
   "mimetype": "text/x-python",
   "name": "python",
   "nbconvert_exporter": "python",
   "pygments_lexer": "ipython3",
   "version": "3.7.4"
  }
 },
 "nbformat": 4,
 "nbformat_minor": 2
}
