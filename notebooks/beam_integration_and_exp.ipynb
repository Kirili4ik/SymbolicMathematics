{
 "cells": [
  {
   "cell_type": "code",
   "execution_count": 1,
   "metadata": {},
   "outputs": [
    {
     "name": "stdout",
     "output_type": "stream",
     "text": [
      "/home/kpgelvan/SymbolicMathematics\n"
     ]
    }
   ],
   "source": [
    "cd .."
   ]
  },
  {
   "cell_type": "code",
   "execution_count": 2,
   "metadata": {},
   "outputs": [],
   "source": [
    "CPU_ONLY = True"
   ]
  },
  {
   "cell_type": "code",
   "execution_count": 3,
   "metadata": {},
   "outputs": [],
   "source": [
    "import os\n",
    "import numpy as np\n",
    "import sympy as sp\n",
    "import torch\n",
    "from tqdm import tqdm\n",
    "\n",
    "\n",
    "from src.utils import AttrDict\n",
    "from src.envs import build_env\n",
    "from src.model import build_modules\n",
    "\n",
    "from src.utils import to_cuda\n",
    "from src.envs.sympy_utils import simplify"
   ]
  },
  {
   "cell_type": "code",
   "execution_count": null,
   "metadata": {},
   "outputs": [],
   "source": []
  },
  {
   "cell_type": "code",
   "execution_count": null,
   "metadata": {},
   "outputs": [],
   "source": []
  },
  {
   "cell_type": "code",
   "execution_count": 4,
   "metadata": {},
   "outputs": [],
   "source": [
    "OPERATORS = {\n",
    "        # Elementary functions\n",
    "        'add': 2,\n",
    "        'sub': 2,\n",
    "        'mul': 2,\n",
    "        'div': 2,\n",
    "        'pow': 2,\n",
    "        'rac': 2,\n",
    "        'inv': 1,\n",
    "        'pow2': 1,\n",
    "        'pow3': 1,\n",
    "        'pow4': 1,\n",
    "        'pow5': 1,\n",
    "        'sqrt': 1,\n",
    "        'exp': 1,\n",
    "        'ln': 1,\n",
    "        'abs': 1,\n",
    "        'sign': 1,\n",
    "        # Trigonometric Functions\n",
    "        'sin': 1,\n",
    "        'cos': 1,\n",
    "        'tan': 1,\n",
    "        'cot': 1,\n",
    "        'sec': 1,\n",
    "        'csc': 1,\n",
    "        # Trigonometric Inverses\n",
    "        'asin': 1,\n",
    "        'acos': 1,\n",
    "        'atan': 1,\n",
    "        'acot': 1,\n",
    "        'asec': 1,\n",
    "        'acsc': 1,\n",
    "        # Hyperbolic Functions\n",
    "        'sinh': 1,\n",
    "        'cosh': 1,\n",
    "        'tanh': 1,\n",
    "        'coth': 1,\n",
    "        'sech': 1,\n",
    "        'csch': 1,\n",
    "        # Hyperbolic Inverses\n",
    "        'asinh': 1,\n",
    "        'acosh': 1,\n",
    "        'atanh': 1,\n",
    "        'acoth': 1,\n",
    "        'asech': 1,\n",
    "        'acsch': 1,\n",
    "        # Derivative\n",
    "        'derivative': 2,\n",
    "        # custom functions\n",
    "        'f': 1,\n",
    "        'g': 2,\n",
    "        'h': 3,\n",
    "    }"
   ]
  },
  {
   "cell_type": "code",
   "execution_count": 5,
   "metadata": {},
   "outputs": [],
   "source": [
    "symbols = ['I', 'INT+', 'INT-', 'INT', 'FLOAT', '-', '.', '10^']\n",
    "\n",
    "constants = ['pi', 'E']\n",
    "variables = ['x', 'y', 'z', 't', 'Y', \"Y'\", \"Y''\"]\n",
    "functions = ['f', 'g', 'h']\n",
    "elements = [str(i) for i in range(-10, 10)]\n",
    "coefficients = [f'a{i}' for i in range(10)]\n",
    "\n",
    "no_child_symbols = constants + variables + functions + elements + coefficients"
   ]
  },
  {
   "cell_type": "markdown",
   "metadata": {},
   "source": [
    "## Build environment / Reload model"
   ]
  },
  {
   "cell_type": "code",
   "execution_count": 6,
   "metadata": {},
   "outputs": [],
   "source": [
    "def get_params():\n",
    "    \n",
    "    params = AttrDict({\n",
    "\n",
    "        # environment parameters\n",
    "        'env_name': 'char_sp',\n",
    "        'int_base': 10,\n",
    "        'balanced': False,\n",
    "        'positive': True,\n",
    "        'precision': 10,\n",
    "        'n_variables': 1,\n",
    "        'n_coefficients': 0,\n",
    "        'leaf_probs': '0.75,0,0.25,0',\n",
    "        'max_len': 512,\n",
    "        'max_int': 5,\n",
    "        'max_ops': 15,\n",
    "        'max_ops_G': 15,\n",
    "        'clean_prefix_expr': True,\n",
    "        'rewrite_functions': '',\n",
    "        'tasks': 'prim_fwd',\n",
    "        'operators': 'add:10,sub:3,mul:10,div:5,sqrt:4,pow2:4,pow3:2,pow4:1,pow5:1,ln:4,exp:4,sin:4,cos:4,tan:4,asin:1,acos:1,atan:1,sinh:1,cosh:1,tanh:1,asinh:1,acosh:1,atanh:1',\n",
    "\n",
    "        'use_pos_embeddings_E':True,\n",
    "        'use_pos_embeddings_D':True,\n",
    "        'max_relative_pos':0,\n",
    "        'use_neg_dist':True,\n",
    "        'use_encdec_seq_rel_att':False,\n",
    "        'max_path_width':-1,\n",
    "        'max_path_depth':-1,\n",
    "        'use_tree_pos_enc_E':False,\n",
    "        'use_tree_pos_enc_D':False,\n",
    "        'use_tree_rel_att':\"\",\n",
    "        'tree_rel_vocab_size':0,\n",
    "\n",
    "        # model parameters\n",
    "        'cpu': CPU_ONLY,\n",
    "        'emb_dim': 256,\n",
    "        'n_enc_layers': 4,\n",
    "        'n_dec_layers': 4,\n",
    "        'n_heads': 4,\n",
    "        'dropout': 0,\n",
    "        'attention_dropout': 0,\n",
    "        'sinusoidal_embeddings': False,\n",
    "        'share_inout_emb': True,\n",
    "        'reload_model': '',\n",
    "\n",
    "    })\n",
    "    \n",
    "    return params\n",
    "\n",
    "\n",
    "rel_matrices_batch = None\n",
    "rel_lens = None\n",
    "root_path_batch_q, root_path_batch_a = None, None"
   ]
  },
  {
   "cell_type": "code",
   "execution_count": 7,
   "metadata": {},
   "outputs": [],
   "source": [
    "def init_env_encdec(model_path, use_pos_embeddings_E=True, use_pos_embeddings_D=True,\n",
    "                    max_relative_pos=0, use_neg_dist=True, use_encdec_seq_rel_att=False,\n",
    "                    max_path_width=-1, max_path_depth=-1, \n",
    "                    use_tree_pos_enc_E=False, use_tree_pos_enc_D=False,\n",
    "                    use_tree_rel_att=\"\", tree_rel_vocab_size=0):\n",
    "    \n",
    "    params = get_params()\n",
    "    \n",
    "    assert os.path.isfile(model_path)\n",
    "    \n",
    "    params['reload_model']            = model_path\n",
    "    params['use_pos_embeddings_E']    = use_pos_embeddings_E\n",
    "    params['use_pos_embeddings_D']    = use_pos_embeddings_D\n",
    "    params['max_relative_pos']        = max_relative_pos\n",
    "    params['use_neg_dist']            = use_neg_dist\n",
    "    params['use_encdec_seq_rel_att']  = use_encdec_seq_rel_att\n",
    "    params['max_path_width']          = max_path_width\n",
    "    params['max_path_depth']          = max_path_depth\n",
    "    params['use_tree_pos_enc_E']      = use_tree_pos_enc_E\n",
    "    params['use_tree_pos_enc_D']      = use_tree_pos_enc_D\n",
    "    params['use_tree_rel_att']        = use_tree_rel_att\n",
    "    params['tree_rel_vocab_size']     = tree_rel_vocab_size\n",
    "\n",
    "    \n",
    "    env = build_env(params)\n",
    "    x = env.local_dict['x']\n",
    "\n",
    "    modules = build_modules(env, params)\n",
    "    encoder = modules['encoder']\n",
    "    decoder = modules['decoder']\n",
    "    encoder.eval()\n",
    "    decoder.eval()\n",
    "    \n",
    "    return env, x, encoder, decoder"
   ]
  },
  {
   "cell_type": "code",
   "execution_count": 8,
   "metadata": {},
   "outputs": [],
   "source": [
    "# pos emb\n",
    "env, x, encoder, decoder = init_env_encdec(model_path='dumped/pos_emb_0202/239415/checkpoint.pth',\n",
    "                                           use_pos_embeddings_E=True, use_pos_embeddings_D=True)"
   ]
  },
  {
   "cell_type": "code",
   "execution_count": 9,
   "metadata": {},
   "outputs": [],
   "source": [
    "# seq rel att\n",
    "env_2, x_2, encoder_2, decoder_2 = init_env_encdec(model_path='dumped/seq_rel_att_0202/238443/checkpoint.pth',\n",
    "                                                   use_pos_embeddings_E=False, use_pos_embeddings_D=False,\n",
    "                                                   max_relative_pos=250, use_neg_dist=True)"
   ]
  },
  {
   "cell_type": "code",
   "execution_count": null,
   "metadata": {},
   "outputs": [],
   "source": []
  },
  {
   "cell_type": "code",
   "execution_count": null,
   "metadata": {},
   "outputs": [],
   "source": []
  },
  {
   "cell_type": "code",
   "execution_count": null,
   "metadata": {},
   "outputs": [],
   "source": []
  },
  {
   "cell_type": "code",
   "execution_count": 10,
   "metadata": {},
   "outputs": [],
   "source": [
    "from tqdm import tqdm\n",
    "import queue\n",
    "\n",
    "def get_ancestors(exp_list, exp_len):\n",
    "    \n",
    "    ### НЕПРАВИЛЬНО, НО ДЛЯ TREE REL ATT ТАК\n",
    "\n",
    "    symbols = ['I', 'INT+', 'INT-', 'INT', 'FLOAT', '-', '.', '10^', 'Y', \"Y'\", \"Y''\"]\n",
    "\n",
    "    constants = ['pi', 'E']\n",
    "    variables = ['x', 'y', 'z', 't']\n",
    "    functions = ['f', 'g', 'h']\n",
    "    elements = [str(i) for i in range(-10, 10)]\n",
    "    coefficients = [f'a{i}' for i in range(10)]\n",
    "\n",
    "    no_child_symbols = constants + variables + functions + elements + coefficients\n",
    "    \n",
    "    q = queue.LifoQueue()\n",
    "    q.put(-1)                            # so last element gets this parent but doesn't save it\n",
    "\n",
    "    ancestors = {0: []}\n",
    "    node2parent = {}\n",
    "    levels = {0: -1}\n",
    "\n",
    "    parent = 0\n",
    "    for i in range(exp_len):\n",
    "        op_now = exp_list[i]\n",
    "\n",
    "        node2parent[i] = parent\n",
    "        try:\n",
    "            levels[i] = levels[parent] + 1\n",
    "        except:\n",
    "            print('you are in except')\n",
    "            return {}, {}\n",
    "\n",
    "\n",
    "        if op_now in OPERATORS or op_now in symbols:   # <=> node has children\n",
    "            if op_now in OPERATORS and OPERATORS[op_now] == 2:    # <=> node has 2 children\n",
    "                q.put(i)\n",
    "            parent = i\n",
    "        elif op_now in no_child_symbols:\n",
    "            if op_now.isdigit() and i + 1 < exp_len and exp_list[i + 1].isdigit():   # e.g. 18\n",
    "                parent = i\n",
    "            else:\n",
    "                parent = q.get()\n",
    "        else:\n",
    "            print(op_now)\n",
    "            #raise(NotFound)\n",
    "            return False\n",
    "        ancestors[i] = [i] + ancestors[node2parent[i]]\n",
    "\n",
    "    return ancestors, levels\n",
    "\n",
    "def get_path(i, j):\n",
    "    if i == j:\n",
    "        return \"<self>\"\n",
    "    anc_i = set(ancestors[i])\n",
    "      \n",
    "    for node in ancestors[j][-(levels[i] + 1) :]:\n",
    "        if node in anc_i:\n",
    "            up_n = levels[i] - levels[node]\n",
    "            down_n = levels[j] - levels[node]\n",
    "            return str(up_n + 0.001 * down_n)\n",
    "        \n",
    "def get_ud_masks(ancestors, levels, exp_len):\n",
    "    path_rels = []\n",
    "    for i in range(exp_len):\n",
    "        path_rels.append(\" \".join([get_path(i, j) for j in range(exp_len)]))\n",
    "    \n",
    "    return path_rels"
   ]
  },
  {
   "cell_type": "code",
   "execution_count": 11,
   "metadata": {},
   "outputs": [],
   "source": [
    "TR_VOCAB_SIZE = 2000\n",
    "\n",
    "\n",
    "def build_relmat_dict(rel_vocab_path, tree_rel_vocab_size):\n",
    "    with open(rel_vocab_path, 'r') as f:\n",
    "        temp = f.read().splitlines()\n",
    "        words = [word for word in temp]\n",
    "\n",
    "    words = words[:tree_rel_vocab_size + 1]\n",
    "    words.append('unk')\n",
    "    rel_id2word = {(i + 2): s for i, s in enumerate(words)}\n",
    "    rel_id2word[0] = 'EOS'\n",
    "    rel_id2word[1] = 'PAD'\n",
    "    rel_word2id = {s: i for i, s in rel_id2word.items()}\n",
    "    \n",
    "    return rel_word2id\n",
    "\n",
    "def build_relmat_batch(rel_matrix, rel_word2id):\n",
    "    \n",
    "    rel_matrices = []\n",
    "    for i, sample in enumerate(rel_matrix):\n",
    "        rel_matrices.append(\n",
    "            torch.stack(\n",
    "                [torch.LongTensor([rel_word2id[w] if w in rel_word2id else rel_word2id['unk'] for w in row])\n",
    "                 for row in sample]\n",
    "            )\n",
    "        )\n",
    "\n",
    "    ##############\n",
    "    lengths = torch.LongTensor([len(s) + 2 for s in rel_matrices])\n",
    "    rel_matrices_batch = torch.LongTensor(lengths.max().item(), lengths.max().item(), lengths.size(0)).fill_(1)   # 1 is for PAD\n",
    "\n",
    "    rel_matrices_batch[:, 0, :] = 0  # 0 is for EOS\n",
    "    rel_matrices_batch[0, :, :] = 0  # 0 is for EOS\n",
    "\n",
    "    for i, s in enumerate(rel_matrices):\n",
    "        rel_matrices_batch[1:lengths[i]-1, 1:lengths[i]-1, i].copy_(s)\n",
    "        rel_matrices_batch[lengths[i]-1, :, i] = 0   # 0 is for EOS\n",
    "        rel_matrices_batch[:, lengths[i]-1, i] = 0   # 0 is for EOS\n",
    "\n",
    "    # (SRC_LEN, SRC_LEN, BS)\n",
    "\n",
    "    ##############\n",
    "\n",
    "    return rel_matrices_batch, lengths"
   ]
  },
  {
   "cell_type": "code",
   "execution_count": 12,
   "metadata": {},
   "outputs": [],
   "source": [
    "rel_word2id = build_relmat_dict(rel_vocab_path='data/rel_vocab.txt', tree_rel_vocab_size=TR_VOCAB_SIZE)"
   ]
  },
  {
   "cell_type": "code",
   "execution_count": 13,
   "metadata": {},
   "outputs": [],
   "source": [
    "# tree rel att 2k (only in Encoder)\n",
    "env_3, x_3, encoder_3, decoder_3 = init_env_encdec(model_path='dumped/tree_rel_att_0303/236678/checkpoint.pth',\n",
    "                                                   use_pos_embeddings_E=False, use_pos_embeddings_D=True,\n",
    "                                                   use_tree_rel_att='mult2', tree_rel_vocab_size=TR_VOCAB_SIZE\n",
    "                                                  )"
   ]
  },
  {
   "cell_type": "code",
   "execution_count": null,
   "metadata": {},
   "outputs": [],
   "source": []
  },
  {
   "cell_type": "code",
   "execution_count": null,
   "metadata": {},
   "outputs": [],
   "source": []
  },
  {
   "cell_type": "code",
   "execution_count": null,
   "metadata": {},
   "outputs": [],
   "source": []
  },
  {
   "cell_type": "code",
   "execution_count": 14,
   "metadata": {},
   "outputs": [],
   "source": [
    "from tqdm import tqdm\n",
    "import queue\n",
    "from collections import OrderedDict\n",
    "\n",
    "def get_root_paths(exp_list, exp_len):\n",
    "    \n",
    "    symbols = ['I', 'INT+', 'INT-', 'INT', 'FLOAT', '-', '.', '10^']\n",
    "\n",
    "    constants = ['pi', 'E']\n",
    "    variables = ['x', 'y', 'z', 't', 'Y', \"Y'\", \"Y''\"]\n",
    "    functions = ['f', 'g', 'h']\n",
    "    elements = [str(i) for i in range(-10, 10)]\n",
    "    coefficients = [f'a{i}' for i in range(10)]\n",
    "\n",
    "    no_child_symbols = constants + variables + functions + elements + coefficients\n",
    "    \n",
    "    q = queue.LifoQueue()\n",
    "    q.put(-1)                            # so last element gets this parent but doesn't save it\n",
    "\n",
    "    root_paths = OrderedDict([(i, '') for i in range(-1, len(exp_list) + 1)])   # init with empty lines to be able to add\n",
    "    is_right, is_down = False, False\n",
    "\n",
    "    parent = 0\n",
    "    for i in range(exp_len):\n",
    "        op_now = exp_list[i]\n",
    "        \n",
    "        if i != 0:\n",
    "            if parent == -1:\n",
    "                print('ohoh')\n",
    "                return -1\n",
    "            root_paths[i] += root_paths[parent]\n",
    "            if is_right:\n",
    "                last_step = '2'     # right\n",
    "            elif is_down:\n",
    "                last_step = '0'     # down\n",
    "            else:\n",
    "                last_step = '1'     # left\n",
    "\n",
    "            root_paths[i] += last_step\n",
    "            is_right, is_down = False, False\n",
    "        \n",
    "\n",
    "        if op_now in OPERATORS or op_now in symbols:   # <=> node has children\n",
    "            if op_now in OPERATORS and OPERATORS[op_now] == 2:    # <=> node has 2 children\n",
    "                q.put(i)\n",
    "            else:\n",
    "                is_down = True\n",
    "            parent = i\n",
    "        elif op_now in no_child_symbols:\n",
    "            if op_now.isdigit() and i + 1 < exp_len and exp_list[i + 1].isdigit():   # e.g. 18\n",
    "                parent = i\n",
    "            else:\n",
    "                parent = q.get()\n",
    "                is_right = True\n",
    "        else:\n",
    "            print(op_now)\n",
    "            #raise(NotFound)\n",
    "            return -1\n",
    "\n",
    "    return root_paths"
   ]
  },
  {
   "cell_type": "code",
   "execution_count": 15,
   "metadata": {},
   "outputs": [],
   "source": [
    "from src.misc import generate_positions\n",
    "\n",
    "def build_root_paths(rps_q, max_path_width=4, max_path_depth=16):\n",
    "        \n",
    "    tree_positions_list_q = [generate_positions(root_paths, max_path_width, max_path_depth)\n",
    "                             for root_paths in rps_q]\n",
    "    bs = len(tree_positions_list_q)\n",
    "    max_wd = tree_positions_list_q[0].size(1)\n",
    "    tree_positions_batch_q = torch.zeros(bs, len(rps_q[0]), max_wd, dtype=torch.float)    \n",
    "    for i in range(len(tree_positions_list_q)):\n",
    "        tree_positions_batch_q[i, :tree_positions_list_q[i].size(0), :].copy_(tree_positions_list_q[i])\n",
    "        \n",
    "    return tree_positions_batch_q"
   ]
  },
  {
   "cell_type": "code",
   "execution_count": null,
   "metadata": {},
   "outputs": [],
   "source": []
  },
  {
   "cell_type": "code",
   "execution_count": 16,
   "metadata": {},
   "outputs": [],
   "source": [
    "# tree pos enc ENC_ONLY\n",
    "env_4, x_4, encoder_4, decoder_4 = init_env_encdec(model_path='dumped/tree_pos_enc_1204/261725/checkpoint.pth',\n",
    "                                                   use_pos_embeddings_E=False, use_pos_embeddings_D=True,\n",
    "                                                   use_tree_pos_enc_E=True, use_tree_pos_enc_D=False,\n",
    "                                                   max_path_depth=4, max_path_width=16\n",
    "                                                  )"
   ]
  },
  {
   "cell_type": "code",
   "execution_count": 17,
   "metadata": {},
   "outputs": [],
   "source": [
    "# tree pos enc\n",
    "#env_5, x_5, encoder_5, decoder_5 = init_env_encdec(model_path='dumped/tree_pos_enc_2004/268762/checkpoint.pth',\n",
    "#                                                   use_pos_embeddings_E=False, use_pos_embeddings_D=False,\n",
    "#                                                   use_tree_pos_enc_E=True, use_tree_pos_enc_D=True,\n",
    "#                                                   max_path_depth=4, max_path_width=16\n",
    "#                                                  )"
   ]
  },
  {
   "cell_type": "code",
   "execution_count": null,
   "metadata": {},
   "outputs": [],
   "source": []
  },
  {
   "cell_type": "code",
   "execution_count": null,
   "metadata": {},
   "outputs": [],
   "source": []
  },
  {
   "cell_type": "markdown",
   "metadata": {},
   "source": [
    "## Start from a function F, compute its derivative f = F', and try to recover F from f"
   ]
  },
  {
   "cell_type": "code",
   "execution_count": 161,
   "metadata": {},
   "outputs": [],
   "source": [
    "# here you can modify the integral function the model has to predict, F\n",
    "############################F_infix = 'x + sin(x)*x/20 - 8*x**6'\n",
    "############################F_infix = 'x * tan(exp(x)/x)'\n",
    "############################F_infix  = 'sin(x)*cos(x)'\n",
    "\n",
    "######## Длинные числа\n",
    "############################F_infix = '12345*x**2 + 6789*log(x)'\n",
    "############################F_infix = '368123/x**4 - 345125*x**(123)'\n",
    "F_infix = 'sin(cos(x)) - cos(tan(x))'\n",
    "\n",
    "\n",
    "#F_infix = 'x * cos(x**2) * tan(x)'\n",
    "\n",
    "#F_infix = 'cos(x**2 * exp(x * cos(x)))'\n",
    "\n",
    "#F_infix = 'ln(cos(x + exp(x)) * sin(x**2 + 2) * exp(x) / x)'\n",
    "\n",
    "#F_infix = 'x**2*log(x)/2 + x**2/4' # '-x - log(exp(x*log(x)))' \n",
    "#F_infix = 'x*log(x)-x' #'log(x)'\n",
    "\n",
    "################ IBP\n",
    "#F_infix = '-x*cos(2*x)/2 + sin(2*x)/4'\n",
    "\n",
    "#F_infix = '-x^2/2 + log(cos(x)) + x tan(x)'\n",
    "\n",
    "### EASY\n",
    "#F_infix = 'log(x)*x**2'\n"
   ]
  },
  {
   "cell_type": "code",
   "execution_count": 162,
   "metadata": {},
   "outputs": [
    {
     "data": {
      "text/latex": [
       "$\\displaystyle \\sin{\\left(\\cos{\\left(x \\right)} \\right)} - \\cos{\\left(\\tan{\\left(x \\right)} \\right)}$"
      ],
      "text/plain": [
       "sin(cos(x)) - cos(tan(x))"
      ]
     },
     "execution_count": 162,
     "metadata": {},
     "output_type": "execute_result"
    }
   ],
   "source": [
    "# F (integral, that the model will try to predict)\n",
    "F = sp.S(F_infix, locals=env.local_dict)\n",
    "F"
   ]
  },
  {
   "cell_type": "code",
   "execution_count": 163,
   "metadata": {
    "scrolled": true
   },
   "outputs": [
    {
     "data": {
      "text/latex": [
       "$\\displaystyle \\left(\\tan^{2}{\\left(x \\right)} + 1\\right) \\sin{\\left(\\tan{\\left(x \\right)} \\right)} - \\sin{\\left(x \\right)} \\cos{\\left(\\cos{\\left(x \\right)} \\right)}$"
      ],
      "text/plain": [
       "(tan(x)**2 + 1)*sin(tan(x)) - sin(x)*cos(cos(x))"
      ]
     },
     "execution_count": 163,
     "metadata": {},
     "output_type": "execute_result"
    }
   ],
   "source": [
    "# f (F', that the model will take as input)\n",
    "f = F.diff(x)\n",
    "f"
   ]
  },
  {
   "cell_type": "code",
   "execution_count": null,
   "metadata": {},
   "outputs": [],
   "source": []
  },
  {
   "cell_type": "code",
   "execution_count": 164,
   "metadata": {},
   "outputs": [],
   "source": [
    "#сложная дичь\n",
    "#a = sp.S(\"asin(x)*ln(x)\", locals=env.local_dict)\n",
    "#F = sp.S('-2*sqrt(1-x**2) + log(x)*(sqrt(1-x**2)-1) + log(sqrt(1-x**2)+1) + x*(log(x) - 1)*asin(x)',\n",
    "\n",
    "#???\n",
    "#a = sp.S('x*tan(x)**2', locals=env.local_dict)\n",
    "#F = sp.S('-x**2/2 + log(cos(x)) + x*tan(x)', locals=env.local_dict) #\n",
    "\n",
    "\n",
    "# пример с картинки\n",
    "#a = sp.S('x*(sin(x) + x**2)', locals=env.local_dict)\n",
    "#F = a.integrate(x)\n",
    "\n",
    "#f = a\n",
    "\n",
    "#print(F)\n",
    "#print(f)"
   ]
  },
  {
   "cell_type": "markdown",
   "metadata": {},
   "source": [
    "\n",
    "\n",
    "### Compute prefix representations"
   ]
  },
  {
   "cell_type": "code",
   "execution_count": 165,
   "metadata": {
    "scrolled": true
   },
   "outputs": [
    {
     "name": "stdout",
     "output_type": "stream",
     "text": [
      "F prefix: ['add', 'mul', 'INT-', '1', 'cos', 'tan', 'x', 'sin', 'cos', 'x']\n",
      "f prefix: ['add', 'mul', 'add', 'INT+', '1', 'pow', 'tan', 'x', 'INT+', '2', 'sin', 'tan', 'x', 'mul', 'INT-', '1', 'mul', 'cos', 'cos', 'x', 'sin', 'x']\n"
     ]
    }
   ],
   "source": [
    "F_prefix = env.sympy_to_prefix(F)\n",
    "f_prefix = env.sympy_to_prefix(f)\n",
    "print(f\"F prefix: {F_prefix}\")\n",
    "print(f\"f prefix: {f_prefix}\")"
   ]
  },
  {
   "cell_type": "code",
   "execution_count": null,
   "metadata": {},
   "outputs": [],
   "source": []
  },
  {
   "cell_type": "code",
   "execution_count": null,
   "metadata": {},
   "outputs": [],
   "source": []
  },
  {
   "cell_type": "code",
   "execution_count": null,
   "metadata": {},
   "outputs": [],
   "source": []
  },
  {
   "cell_type": "markdown",
   "metadata": {},
   "source": [
    "### my shit"
   ]
  },
  {
   "cell_type": "code",
   "execution_count": 166,
   "metadata": {
    "scrolled": true
   },
   "outputs": [
    {
     "data": {
      "text/plain": [
       "'f_prefix = [\\'mul\\', \\'div\\', \\'INT+\\', \\'5\\', \\'INT+\\', \\'2\\', \\'pow\\', \\'x\\', \\'div\\', \\'INT+\\', \\'3\\', \\'INT+\\', \\'2\\']\\nF_prefix = [\\'pow\\', \\'x\\', \\'div\\', \\'INT+\\', \\'5\\', \\'INT+\\', \\'2\\']\\nprint(f\"f prefix: {f_prefix}\")\\nprint(f\"F prefix: {F_prefix}\")\\nprint()\\n\\nprint(\\'source\\', sp.S(env.infix_to_sympy(env.prefix_to_infix(f_prefix)), locals=env.local_dict))\\nprint(\\'target\\', sp.S(env.infix_to_sympy(env.prefix_to_infix(F_prefix)), locals=env.local_dict))'"
      ]
     },
     "execution_count": 166,
     "metadata": {},
     "output_type": "execute_result"
    }
   ],
   "source": [
    "'''f_prefix = ['mul', 'div', 'INT+', '5', 'INT+', '2', 'pow', 'x', 'div', 'INT+', '3', 'INT+', '2']\n",
    "F_prefix = ['pow', 'x', 'div', 'INT+', '5', 'INT+', '2']\n",
    "print(f\"f prefix: {f_prefix}\")\n",
    "print(f\"F prefix: {F_prefix}\")\n",
    "print()\n",
    "\n",
    "print('source', sp.S(env.infix_to_sympy(env.prefix_to_infix(f_prefix)), locals=env.local_dict))\n",
    "print('target', sp.S(env.infix_to_sympy(env.prefix_to_infix(F_prefix)), locals=env.local_dict))'''"
   ]
  },
  {
   "cell_type": "markdown",
   "metadata": {},
   "source": [
    "### Encode input"
   ]
  },
  {
   "cell_type": "code",
   "execution_count": 167,
   "metadata": {},
   "outputs": [],
   "source": [
    "x1_prefix = env.clean_prefix(['sub', 'derivative', 'f', 'x', 'x'] + f_prefix)\n",
    "x1 = torch.LongTensor(\n",
    "    [env.eos_index] +\n",
    "    [env.word2id[w] for w in x1_prefix] +\n",
    "    [env.eos_index]\n",
    ").view(-1, 1)\n",
    "len1 = torch.LongTensor([len(x1)])\n",
    "\n",
    "#x2_prefix = env.clean_prefix(F_prefix)\n",
    "#x2 = torch.LongTensor(\n",
    "#    [env.eos_index] +\n",
    "#    [env.word2id[w] for w in x2_prefix] +\n",
    "#    [env.eos_index]\n",
    "#).view(-1, 1)\n",
    "#len2 = torch.LongTensor([len(x2)])"
   ]
  },
  {
   "cell_type": "markdown",
   "metadata": {},
   "source": [
    "##### rel mat"
   ]
  },
  {
   "cell_type": "code",
   "execution_count": 168,
   "metadata": {},
   "outputs": [
    {
     "name": "stdout",
     "output_type": "stream",
     "text": [
      "torch.Size([26, 26, 1])\n",
      "tensor([26])\n"
     ]
    }
   ],
   "source": [
    "ancestors, levels = get_ancestors(x1_prefix, len(x1_prefix))\n",
    "rel_matrix = get_ud_masks(ancestors, levels, len(x1_prefix))              \n",
    "rel_matrix = [[line.split() for line in rel_matrix]]\n",
    "\n",
    "rel_matrices_batch, rel_lens = build_relmat_batch(rel_matrix=rel_matrix, rel_word2id=rel_word2id)\n",
    "print(rel_matrices_batch.size())\n",
    "print(rel_lens)"
   ]
  },
  {
   "cell_type": "markdown",
   "metadata": {},
   "source": [
    "###### root paths"
   ]
  },
  {
   "cell_type": "code",
   "execution_count": 169,
   "metadata": {},
   "outputs": [
    {
     "name": "stdout",
     "output_type": "stream",
     "text": [
      "OrderedDict([(-1, ''), (0, ''), (1, '1'), (2, '2'), (3, '21'), (4, '211'), (5, '2111'), (6, '21110'), (7, '2112'), (8, '21121'), (9, '211210'), (10, '21122'), (11, '211220'), (12, '212'), (13, '2120'), (14, '21200'), (15, '22'), (16, '221'), (17, '2210'), (18, '222'), (19, '2221'), (20, '22210'), (21, '222100'), (22, '2222'), (23, '22220'), (24, '')])\n",
      "['root', 'root', '1', '2', '21', '211', '2111', '21110', '2112', '21121', '211210', '21122', '211220', '212', '2120', '21200', '22', '221', '2210', '222', '2221', '22210', '222100', '2222', '22220', 'root']\n",
      "[[], [], [1], [2], [2, 1], [2, 1, 1], [2, 1, 1, 1], [2, 1, 1, 1, 0], [2, 1, 1, 2], [2, 1, 1, 2, 1], [2, 1, 1, 2, 1, 0], [2, 1, 1, 2, 2], [2, 1, 1, 2, 2, 0], [2, 1, 2], [2, 1, 2, 0], [2, 1, 2, 0, 0], [2, 2], [2, 2, 1], [2, 2, 1, 0], [2, 2, 2], [2, 2, 2, 1], [2, 2, 2, 1, 0], [2, 2, 2, 1, 0, 0], [2, 2, 2, 2], [2, 2, 2, 2, 0], []]\n"
     ]
    }
   ],
   "source": [
    "paths_q = get_root_paths(x1_prefix, len(x1_prefix))\n",
    "print(paths_q)\n",
    "rps_q = [paths_q[path] if paths_q[path] != '' else 'root' for i, path in enumerate(paths_q)]\n",
    "print(rps_q)\n",
    "rps_q = [[int(rp_elem) for rp_elem in list(rp)] if rp != \"root\" else [] for rp in rps_q]\n",
    "print(rps_q)\n",
    "\n",
    "#paths_a = get_root_paths(x2_prefix, len(x2_prefix))\n",
    "#rps_a = [paths_a[path] if paths_a[path] != '' else 'root' for i, path in enumerate(paths_a)]\n",
    "#rps_a = [[int(rp_elem) for rp_elem in list(rp)] if rp != \"root\" else [] for rp in rps_a]\n",
    "\n",
    "root_path_batch_q = build_root_paths([rps_q])"
   ]
  },
  {
   "cell_type": "code",
   "execution_count": null,
   "metadata": {},
   "outputs": [],
   "source": []
  },
  {
   "cell_type": "code",
   "execution_count": null,
   "metadata": {},
   "outputs": [],
   "source": []
  },
  {
   "cell_type": "code",
   "execution_count": 170,
   "metadata": {},
   "outputs": [],
   "source": [
    "with torch.no_grad():\n",
    "    encoded = encoder('fwd', x=x1, lengths=len1, causal=False).transpose(0, 1)\n",
    "    \n",
    "    encoded_2 = encoder_2('fwd', x=x1, lengths=len1, causal=False).transpose(0, 1)\n",
    "    \n",
    "    encoded_3 = encoder_3('fwd', x=x1, lengths=len1, causal=False,\n",
    "                          rel_matrix=rel_matrices_batch, rel_lens=rel_lens).transpose(0, 1)\n",
    "    \n",
    "    encoded_4 = encoder_4('fwd', x=x1, lengths=len1, causal=False,\n",
    "                          root_paths=root_path_batch_q).transpose(0, 1)\n",
    "    \n",
    "    #encoded_5 = encoder_5('fwd', x=x1, lengths=len1, causal=False,\n",
    "    #                      root_paths=root_path_batch_q).transpose(0, 1)"
   ]
  },
  {
   "cell_type": "markdown",
   "metadata": {},
   "source": [
    "### Decode with beam search"
   ]
  },
  {
   "cell_type": "code",
   "execution_count": 172,
   "metadata": {
    "scrolled": false
   },
   "outputs": [
    {
     "name": "stdout",
     "output_type": "stream",
     "text": [
      "Input function f: (tan(x)**2 + 1)*sin(tan(x)) - sin(x)*cos(cos(x))\n",
      "Reference function F: sin(cos(x)) - cos(tan(x))\n",
      "POS EMB:\n",
      "tree pos enc is being used False\n",
      "-0.23342  NO  sin(x)*cos(x)/2 + sin(x) - sin(x)/cos(x) + cos(cos(x))/2\n",
      "-0.23499  NO  sin(x)*cos(x)/2 + sin(x) - sin(x)/cos(x) - sin(cos(x))\n",
      "-0.23689  NO  sin(x)*cos(x)/2 - sin(x)/cos(x) + sin(cos(x)) + 1/cos(x)\n",
      "-0.23814  NO  sin(x) - sin(x)/cos(x) - sin(cos(x))/2\n",
      "-0.24111  NO  sin(x)*cos(x)/2 - sin(x)/cos(x) + sin(cos(x)) + cos(cos(x))/2\n",
      "-0.24996  NO  sin(x)*cos(x)/2 + sin(x) - sin(x)/cos(x) + 1/cos(x)\n",
      "-0.25567  NO  sin(x)*cos(x)/2 - sin(x)/cos(x) + sin(sin(x)) + cos(cos(x))/2\n",
      "-0.26286  NO  sin(x)*cos(x)/2 + sin(x) - cos(x)*cos(cos(x))/2 + 1/cos(x)\n",
      "-0.28884  NO  sin(x) - sin(cos(x)) + cos(cos(x))/2\n",
      "-0.31883  NO  sin(x) - sin(cos(x)) + 1/cos(x)\n",
      "\n",
      "SEQ REL ATT:\n",
      "tree pos enc is being used False\n",
      "-0.30065  NO  -log(cos(x) + 1)/2 + sin(x)*cos(x)/2 - sin(cos(x)) - cos(tan(x))\n",
      "-0.30395  NO  -log(cos(x) + 1)/2 + sin(x)*cos(x)/2 - sin(cos(x)) - cos(cos(x))\n",
      "-0.31601  NO  -sin(tan(x)) - cos(x)**2/2 - cos(cos(x))\n",
      "-0.31702  NO  -sin(tan(x)) - 2*cos(cos(x))\n",
      "-0.32202  NO  -sin(cos(x)) - cos(x)**2/2 - cos(tan(x))\n",
      "-0.32496  NO  -sin(cos(x)) - cos(x)**2/2 - cos(cos(x))\n",
      "-0.32749  NO  -sin(tan(x)) - cos(cos(x))**2/2 - cos(cos(x))\n",
      "-0.33986  NO  -sin(cos(x)) - sin(tan(x)) - cos(tan(x))\n",
      "-0.34536  NO  -sin(cos(x)) - cos(cos(x)) - cos(tan(x))\n",
      "-0.34786  NO  -2*sin(cos(x)) - cos(tan(x))\n",
      "\n",
      "TREE REL ATT:\n",
      "tree pos enc is being used False\n",
      "-0.27969  NO  -x*cos(cos(x)) + log(sin(cos(x)) - 1)/2 - log(sin(cos(x)) + 1)/2 + sin(x)*cos(x)/2 + sin(x) - sin(cos(x))\n",
      "-0.28417  NO  -x*cos(cos(x)) - log(sin(cos(x)) - 1)/2 + log(sin(cos(x)) + 1)/2 + sin(x)*cos(x)/2 + sin(x) - sin(cos(x))\n",
      "-0.29211  NO  x*sin(cos(x)) + log(sin(cos(x)) - 1)/2 - log(sin(cos(x)) + 1)/2 - sin(cos(x))\n",
      "-0.29566  NO  log(sin(cos(x)) - 1)/2 - log(sin(cos(x)) + 1)/2 + sin(x)*cos(x)/2\n",
      "-0.29923  NO  log(sin(cos(x)) - 1)/2 - log(sin(cos(x)) + 1)/2 + sin(x)*cos(x)/2 + sin(x) - sin(cos(x))\n",
      "-0.30253  NO  -log(sin(cos(x)) - 1)/2 + log(sin(cos(x)) + 1)/2 + sin(x)*cos(x)/2 + sin(x) - sin(cos(x))\n",
      "-0.31023  NO  -x*cos(cos(x)) + log(sin(cos(x)) - 1)/2 - log(sin(cos(x)) + 1)/2 + sin(x) - sin(cos(x))\n",
      "-0.31418  NO  -x*cos(cos(x)) - log(sin(cos(x)) - 1)/2 + log(sin(cos(x)) + 1)/2 + sin(x) - sin(cos(x))\n",
      "-0.58860  NO  -sin(cos(x))\n",
      "-0.94838  NO  sin(cos(x))\n",
      "\n",
      "TREE POS ENC:\n",
      "tree pos enc is being used False\n",
      "-0.16855  NO  x*log(tan(x)**2 + 1)/2 - x*cos(tan(x))*tan(tan(x)) - x\n",
      "-0.16933  NO  x*log(tan(x)**2 + 1)/2 - x*cos(tan(x))*tan(tan(x)) - x + log(tan(x)**2 + 1)*sin(tan(x))/2\n",
      "-0.17039  NO  x*log(tan(x)**2 + 1)/2 - x*cos(tan(x))*tan(tan(x)) - x + log(tan(x)**2 + 1)*sin(tan(x))\n",
      "-0.17121  NO  x**2*log(tan(x)**2 + 1)/2 + x*log(tan(x)**2 + 1)/2 - x*cos(tan(x))*tan(tan(x)) - x\n",
      "-0.17178  NO  x**2*log(tan(x)**2 + 1)/2 + x*log(tan(x)**2 + 1)/2 - x*cos(tan(x))*tan(x) - x\n",
      "-0.17340  NO  x*log(tan(x)**2 + 1)/2 - x*cos(tan(x))*tan(tan(x)) - x + log(tan(x)**2 + 1)*sin(tan(x)/2)/2\n",
      "-0.17340  NO  x*log(tan(x)**2 + 1)/2 - x*cos(tan(x))*tan(x) - x\n",
      "-0.17405  NO  x*log(tan(x)**2 + 1)/2 - x*cos(tan(x))*tan(x) - x\n",
      "-0.17462  NO  x*log(tan(x)**2 + 1)/2 - 2*x*cos(tan(x))*tan(tan(x)) - x + log(tan(x)**2 + 1)*sin(tan(x))/2\n",
      "-3.13799  NO  x\n",
      "\n",
      "end\n"
     ]
    }
   ],
   "source": [
    "beam_size = 10\n",
    "\n",
    "print(f\"Input function f: {f}\")\n",
    "print(f\"Reference function F: {F}\")\n",
    "\n",
    "for i, (encoded_now, decoder_now) in enumerate(zip([encoded, encoded_2, encoded_3, encoded_4], #encoded_5], \n",
    "                                                   [decoder, decoder_2, decoder_3, decoder_4])): #decoder_5])):\n",
    "    if i == 0:\n",
    "        print('POS EMB:')\n",
    "    elif i == 1:\n",
    "        print('SEQ REL ATT:')\n",
    "    elif i == 2:\n",
    "        print('TREE REL ATT:')\n",
    "    elif i == 3:\n",
    "        print('TREE POS ENC:')\n",
    "    elif i == 4:\n",
    "        print('TREE POS ENC ENC+DEC')\n",
    "    \n",
    "    with torch.no_grad():\n",
    "        _, _, beam = decoder_now.generate_beam(encoded_now, len1, beam_size=beam_size, length_penalty=1.0, early_stopping=1, max_len=200)\n",
    "        assert len(beam) == 1\n",
    "    hypotheses = beam[0].hyp\n",
    "    assert len(hypotheses) == beam_size\n",
    "\n",
    "    \n",
    "    for score, sent in sorted(hypotheses, key=lambda x: x[0], reverse=True):\n",
    "\n",
    "        # parse decoded hypothesis\n",
    "        ids = sent[1:].tolist()                  # decoded token IDs\n",
    "        tok = [env.id2word[wid] for wid in ids]  # convert to prefix\n",
    "\n",
    "        try:\n",
    "            hyp = env.prefix_to_infix(tok)       # convert to infix\n",
    "            hyp = env.infix_to_sympy(hyp)        # convert to SymPy\n",
    "\n",
    "            # check whether we recover f if we differentiate the hypothesis\n",
    "            # note that sometimes, SymPy fails to show that hyp' - f == 0, and the result is considered as invalid, although it may be correct\n",
    "            res = \"OK\" if simplify(hyp.diff(x) - f, seconds=1) == 0 else \"NO\"\n",
    "            if res == \"OK\":\n",
    "                print(\"%.5f  %s  %s\" % (score, res, hyp))\n",
    "                break\n",
    "\n",
    "            \n",
    "        except:\n",
    "            res = \"INVALID PREFIX EXPRESSION\"\n",
    "            hyp = tok\n",
    "\n",
    "        print(\"%.5f  %s  %s\" % (score, res, hyp))\n",
    "    \n",
    "    print()\n",
    "    \n",
    "print('end')"
   ]
  },
  {
   "cell_type": "code",
   "execution_count": null,
   "metadata": {},
   "outputs": [],
   "source": []
  },
  {
   "cell_type": "code",
   "execution_count": null,
   "metadata": {},
   "outputs": [],
   "source": []
  },
  {
   "cell_type": "code",
   "execution_count": null,
   "metadata": {},
   "outputs": [],
   "source": []
  },
  {
   "cell_type": "code",
   "execution_count": null,
   "metadata": {},
   "outputs": [],
   "source": []
  },
  {
   "cell_type": "code",
   "execution_count": null,
   "metadata": {},
   "outputs": [],
   "source": []
  },
  {
   "cell_type": "code",
   "execution_count": 180,
   "metadata": {},
   "outputs": [],
   "source": [
    "evals = ['dumped/eval_pos_emb_nodups/261091/eval.prim_fwd.0',\n",
    "         'dumped/eval_seq_rel_att_nodups/261092/eval.prim_fwd.0',\n",
    "         'dumped/eval_tree_rel_att_nodups/261093/eval.prim_fwd.0',\n",
    "         'dumped/eval_tree_pos_enc_nodups/271822/eval.prim_fwd.0']\n",
    "\n",
    "solutions = [set(), set(), set(), set()]\n",
    "\n",
    "for i, file in enumerate(evals):\n",
    "    with open(file, 'r') as f:\n",
    "        for j, line in enumerate(f):\n",
    "            if 'Equation' in line:\n",
    "                line = line.split()\n",
    "                eq_num, line_end = int(line[1]), line[2]\n",
    "                times_solved = line_end.strip('()').split('/')[0]\n",
    "                is_solved = int(times_solved) > 0\n",
    "                \n",
    "                if is_solved:\n",
    "                    solutions[i].add(eq_num)"
   ]
  },
  {
   "cell_type": "code",
   "execution_count": 181,
   "metadata": {},
   "outputs": [
    {
     "name": "stdout",
     "output_type": "stream",
     "text": [
      "6245\n",
      "6207\n",
      "6180\n",
      "6245\n"
     ]
    }
   ],
   "source": [
    "for sol in solutions:\n",
    "    print(len(sol))"
   ]
  },
  {
   "cell_type": "code",
   "execution_count": 182,
   "metadata": {
    "scrolled": true
   },
   "outputs": [],
   "source": [
    "only_method = [set(), set(), set(), set()]\n",
    "\n",
    "only_method[0] = solutions[0].difference(solutions[1]).difference(solutions[2]).difference(solutions[3])\n",
    "only_method[1] = solutions[1].difference(solutions[2]).difference(solutions[3]).difference(solutions[0])\n",
    "only_method[2] = solutions[2].difference(solutions[3]).difference(solutions[0]).difference(solutions[1])\n",
    "only_method[3] = solutions[3].difference(solutions[0]).difference(solutions[1]).difference(solutions[2])"
   ]
  },
  {
   "cell_type": "code",
   "execution_count": 149,
   "metadata": {},
   "outputs": [
    {
     "name": "stdout",
     "output_type": "stream",
     "text": [
      "77\n",
      "60\n",
      "62\n",
      "75\n",
      "[77, 60, 62, 75]\n"
     ]
    }
   ],
   "source": [
    "for method in only_method:\n",
    "    print(len(method))\n",
    "\n",
    "only_method_lens = []\n",
    "for method in only_method:\n",
    "    only_method_lens.append(len(method))\n",
    "    \n",
    "print(only_method_lens)"
   ]
  },
  {
   "cell_type": "code",
   "execution_count": 173,
   "metadata": {},
   "outputs": [
    {
     "name": "stderr",
     "output_type": "stream",
     "text": [
      "/opt/software/python/anaconda/2019_10/lib/python3.7/site-packages/numexpr/expressions.py:199: RuntimeWarning: invalid value encountered in sqrt\n",
      "  return ConstantNode(func(*[x.value for x in args]))\n"
     ]
    }
   ],
   "source": [
    "lens_of_q = [0, 0, 0, 0]\n",
    "lens_of_a = [0, 0, 0, 0]\n",
    "\n",
    "for METHOD_NUM in [0, 1, 2, 3]:\n",
    "\n",
    "    with open('data/prim_fwd.no_dups_valtest', 'r') as test_data:\n",
    "        for i, line in enumerate(test_data):\n",
    "            if i in only_method[METHOD_NUM]:\n",
    "                qa = line.split('|')[1].split('\\t')\n",
    "                q = qa[0].split()[2:]\n",
    "                a = qa[1].split()\n",
    "                \n",
    "                lens_of_q[METHOD_NUM] += len(q)\n",
    "                lens_of_a[METHOD_NUM] += len(a)\n",
    "                \n",
    "                try:\n",
    "                    q = env.prefix_to_infix(q)       # convert to infix\n",
    "                    q = env.infix_to_sympy(q)\n",
    "                    #print('source:\\t', q)\n",
    "\n",
    "                    a = env.prefix_to_infix(a)\n",
    "                    a = env.infix_to_sympy(a)\n",
    "                    #print('answer:\\t', a)\n",
    "                except:\n",
    "                    continue\n",
    "\n",
    "                #print()\n",
    "            "
   ]
  },
  {
   "cell_type": "code",
   "execution_count": 176,
   "metadata": {},
   "outputs": [
    {
     "name": "stdout",
     "output_type": "stream",
     "text": [
      "0 : 27.36 95.17\n",
      "1 : 28.13 94.03\n",
      "2 : 28.55 82.98\n",
      "3 : 27.28 88.35\n"
     ]
    }
   ],
   "source": [
    "for i in range(4):\n",
    "    print(i, ':', round(lens_of_q[i] / only_method_lens[i], 2), round(lens_of_a[i] / only_method_lens[i], 2))"
   ]
  },
  {
   "cell_type": "code",
   "execution_count": null,
   "metadata": {},
   "outputs": [],
   "source": []
  },
  {
   "cell_type": "code",
   "execution_count": null,
   "metadata": {},
   "outputs": [],
   "source": []
  },
  {
   "cell_type": "code",
   "execution_count": null,
   "metadata": {},
   "outputs": [],
   "source": []
  },
  {
   "cell_type": "code",
   "execution_count": null,
   "metadata": {},
   "outputs": [],
   "source": []
  },
  {
   "cell_type": "code",
   "execution_count": 217,
   "metadata": {},
   "outputs": [],
   "source": [
    "# Trigonometric Functions\n",
    "trig = {'sin',\n",
    "        'cos',\n",
    "        'tan',\n",
    "        'cot',\n",
    "        'sec',\n",
    "        'csc'\n",
    "       }\n",
    "trig_inv = {'asin',\n",
    "        'acos',\n",
    "        'atan',\n",
    "        'acot',\n",
    "        'asec',\n",
    "        'acsc'\n",
    "}\n",
    "hyp = {  'sinh',\n",
    "        'cosh',\n",
    "        'tanh',\n",
    "        'coth',\n",
    "        'sech',\n",
    "        'csch'\n",
    "      }\n",
    "hyp_inv={\n",
    "        'asinh',\n",
    "        'acosh',\n",
    "        'atanh',\n",
    "        'acoth',\n",
    "        'asech',\n",
    "        'acsch',\n",
    "}"
   ]
  },
  {
   "cell_type": "code",
   "execution_count": 151,
   "metadata": {
    "scrolled": true
   },
   "outputs": [],
   "source": [
    "method_trig = [0, 0, 0, 0]\n",
    "method_trig_inv = [0, 0, 0, 0]\n",
    "method_hyp = [0, 0, 0, 0]\n",
    "method_hyp_inv = [0, 0, 0, 0]\n",
    "found_trig, found_trig_inv, found_hyp, found_hyp_inv = 0, 0, 0, 0\n",
    "\n",
    "for METHOD_NUM in [0, 1, 2, 3]:\n",
    "\n",
    "    with open('data/prim_fwd.no_dups_valtest', 'r') as test_data:\n",
    "        for i, line in enumerate(test_data):\n",
    "            if i in only_method[METHOD_NUM]:\n",
    "                qa = line.split('|')[1].split('\\t')\n",
    "                q = qa[0].split()[2:]\n",
    "                a = qa[1].split()\n",
    "\n",
    "                for el in q:\n",
    "                    if el in trig:\n",
    "                        found_trig = 1\n",
    "                    elif el in trig_inv:\n",
    "                        found_trig_inv = 1\n",
    "                    elif el in hyp:\n",
    "                        found_hyp = 1\n",
    "                    elif el in hyp_inv:\n",
    "                        found_hyp_inv = 1\n",
    "                \n",
    "                method_trig[METHOD_NUM] += found_trig\n",
    "                method_trig_inv[METHOD_NUM] += found_trig_inv\n",
    "                method_hyp[METHOD_NUM] += found_hyp\n",
    "                method_hyp_inv[METHOD_NUM] += found_hyp_inv\n",
    "                found_trig, found_trig_inv, found_hyp, found_hyp_inv = 0, 0, 0, 0\n",
    "                \n",
    "                try:\n",
    "                    q = env.prefix_to_infix(q)       # convert to infix\n",
    "                    q = env.infix_to_sympy(q)\n",
    "                    #print('source:\\t', q)\n",
    "\n",
    "                    a = env.prefix_to_infix(a)\n",
    "                    a = env.infix_to_sympy(a)\n",
    "                    #print('answer:\\t', a)\n",
    "                except:\n",
    "                    continue\n",
    "\n",
    "                #print()\n",
    "            "
   ]
  },
  {
   "cell_type": "code",
   "execution_count": 157,
   "metadata": {},
   "outputs": [
    {
     "name": "stdout",
     "output_type": "stream",
     "text": [
      "0 : 0.36\n",
      "1 : 0.35\n",
      "2 : 0.27\n",
      "3 : 0.45\n"
     ]
    }
   ],
   "source": [
    "for i in range(4):\n",
    "    print(i, ':', round(method_trig[i] / only_method_lens[i], 2))"
   ]
  },
  {
   "cell_type": "code",
   "execution_count": 158,
   "metadata": {},
   "outputs": [
    {
     "name": "stdout",
     "output_type": "stream",
     "text": [
      "0 : 0.17\n",
      "1 : 0.08\n",
      "2 : 0.13\n",
      "3 : 0.11\n"
     ]
    }
   ],
   "source": [
    "for i in range(4):\n",
    "    print(i, ':', round(method_trig_inv[i] / only_method_lens[i], 2))"
   ]
  },
  {
   "cell_type": "code",
   "execution_count": 159,
   "metadata": {},
   "outputs": [
    {
     "name": "stdout",
     "output_type": "stream",
     "text": [
      "0 : 0.16\n",
      "1 : 0.13\n",
      "2 : 0.13\n",
      "3 : 0.11\n"
     ]
    }
   ],
   "source": [
    "for i in range(4):\n",
    "    print(i, ':', round(method_hyp[i] / only_method_lens[i], 2))"
   ]
  },
  {
   "cell_type": "code",
   "execution_count": 160,
   "metadata": {},
   "outputs": [
    {
     "name": "stdout",
     "output_type": "stream",
     "text": [
      "0 : 0.18\n",
      "1 : 0.08\n",
      "2 : 0.15\n",
      "3 : 0.17\n"
     ]
    }
   ],
   "source": [
    "for i in range(4):\n",
    "    print(i, ':', round(method_hyp_inv[i] / only_method_lens[i], 2))"
   ]
  },
  {
   "cell_type": "code",
   "execution_count": null,
   "metadata": {},
   "outputs": [],
   "source": []
  },
  {
   "cell_type": "code",
   "execution_count": null,
   "metadata": {},
   "outputs": [],
   "source": []
  },
  {
   "cell_type": "code",
   "execution_count": null,
   "metadata": {},
   "outputs": [],
   "source": []
  },
  {
   "cell_type": "code",
   "execution_count": null,
   "metadata": {},
   "outputs": [],
   "source": []
  },
  {
   "cell_type": "code",
   "execution_count": 195,
   "metadata": {},
   "outputs": [],
   "source": [
    "failed = [set(), set(), set(), set()]\n",
    "\n",
    "failed[0] = (solutions[1].intersection(solutions[2]).intersection(solutions[3])).difference(solutions[0])\n",
    "failed[1] = (solutions[2].intersection(solutions[3]).intersection(solutions[0])).difference(solutions[1])\n",
    "failed[2] = (solutions[3].intersection(solutions[0]).intersection(solutions[1])).difference(solutions[2])\n",
    "failed[3] = (solutions[0].intersection(solutions[1]).intersection(solutions[2])).difference(solutions[3])"
   ]
  },
  {
   "cell_type": "code",
   "execution_count": 198,
   "metadata": {},
   "outputs": [
    {
     "name": "stdout",
     "output_type": "stream",
     "text": [
      "95\n",
      "113\n",
      "143\n",
      "116\n",
      "[95, 113, 143, 116]\n"
     ]
    }
   ],
   "source": [
    "for fail in failed:\n",
    "    print(len(fail))\n",
    "    \n",
    "failed_lens = []\n",
    "for fail in failed:\n",
    "    failed_lens.append(len(fail))\n",
    "    \n",
    "print(failed_lens)"
   ]
  },
  {
   "cell_type": "code",
   "execution_count": 206,
   "metadata": {},
   "outputs": [],
   "source": [
    "lens_of_q = [0, 0, 0, 0]\n",
    "lens_of_a = [0, 0, 0, 0]\n",
    "\n",
    "for METHOD_NUM in [0, 1, 2, 3]:\n",
    "\n",
    "    with open('data/prim_fwd.no_dups_valtest', 'r') as test_data:\n",
    "        for i, line in enumerate(test_data):\n",
    "            if i in failed[METHOD_NUM]:\n",
    "                qa = line.split('|')[1].split('\\t')\n",
    "                q = qa[0].split()[2:]\n",
    "                a = qa[1].split()\n",
    "                \n",
    "                lens_of_q[METHOD_NUM] += len(q)\n",
    "                lens_of_a[METHOD_NUM] += len(a)\n",
    "                \n",
    "                try:\n",
    "                    q = env.prefix_to_infix(q)       # convert to infix\n",
    "                    q = env.infix_to_sympy(q)\n",
    "                    #print('source:\\t', q)\n",
    "\n",
    "                    a = env.prefix_to_infix(a)\n",
    "                    a = env.infix_to_sympy(a)\n",
    "                    #print('answer:\\t', a)\n",
    "                except:\n",
    "                    continue\n",
    "\n",
    "                #print()\n",
    "            "
   ]
  },
  {
   "cell_type": "code",
   "execution_count": 207,
   "metadata": {
    "scrolled": true
   },
   "outputs": [
    {
     "name": "stdout",
     "output_type": "stream",
     "text": [
      "0 : 27.49 78.94\n",
      "1 : 26.21 77.09\n",
      "2 : 26.73 76.38\n",
      "3 : 26.09 80.27\n"
     ]
    }
   ],
   "source": [
    "for i in range(4):\n",
    "    print(i, ':', round(lens_of_q[i] / failed_lens[i], 2), round(lens_of_a[i] / failed_lens[i], 2))"
   ]
  },
  {
   "cell_type": "code",
   "execution_count": null,
   "metadata": {},
   "outputs": [],
   "source": []
  },
  {
   "cell_type": "code",
   "execution_count": null,
   "metadata": {},
   "outputs": [],
   "source": []
  },
  {
   "cell_type": "code",
   "execution_count": null,
   "metadata": {},
   "outputs": [],
   "source": []
  },
  {
   "cell_type": "code",
   "execution_count": 219,
   "metadata": {},
   "outputs": [],
   "source": [
    "method_trig = [0, 0, 0, 0]\n",
    "method_trig_inv = [0, 0, 0, 0]\n",
    "method_hyp = [0, 0, 0, 0]\n",
    "method_hyp_inv = [0, 0, 0, 0]\n",
    "found_trig, found_trig_inv, found_hyp, found_hyp_inv = 0, 0, 0, 0\n",
    "\n",
    "for METHOD_NUM in [0, 1, 2, 3]:\n",
    "\n",
    "    with open('data/prim_fwd.no_dups_valtest', 'r') as test_data:\n",
    "        for i, line in enumerate(test_data):\n",
    "            if i in failed[METHOD_NUM]:\n",
    "                qa = line.split('|')[1].split('\\t')\n",
    "                q = qa[0].split()[2:]\n",
    "                a = qa[1].split()\n",
    "                \n",
    "                \n",
    "                for el in q:\n",
    "                    if el in trig:\n",
    "                        found_trig = 1\n",
    "                    elif el in trig_inv:\n",
    "                        found_trig_inv = 1\n",
    "                    elif el in hyp:\n",
    "                        found_hyp = 1\n",
    "                    elif el in hyp_inv:\n",
    "                        found_hyp_inv = 1\n",
    "                \n",
    "                method_trig[METHOD_NUM] += found_trig\n",
    "                method_trig_inv[METHOD_NUM] += found_trig_inv\n",
    "                method_hyp[METHOD_NUM] += found_hyp\n",
    "                method_hyp_inv[METHOD_NUM] += found_hyp_inv\n",
    "                found_trig, found_trig_inv, found_hyp, found_hyp_inv = 0, 0, 0, 0\n",
    "                \n",
    "                try:\n",
    "                    q = env.prefix_to_infix(q)       # convert to infix\n",
    "                    q = env.infix_to_sympy(q)\n",
    "                    #print('source:\\t', q)\n",
    "\n",
    "                    a = env.prefix_to_infix(a)\n",
    "                    a = env.infix_to_sympy(a)\n",
    "                    #print('answer:\\t', a)\n",
    "                except:\n",
    "                    continue\n",
    "\n",
    "                #print()\n",
    "            "
   ]
  },
  {
   "cell_type": "code",
   "execution_count": 220,
   "metadata": {},
   "outputs": [
    {
     "name": "stdout",
     "output_type": "stream",
     "text": [
      "0 : 0.55\n",
      "1 : 0.51\n",
      "2 : 0.43\n",
      "3 : 0.43\n"
     ]
    }
   ],
   "source": [
    "for i in range(4):\n",
    "    print(i, ':', round(method_trig[i] / failed_lens[i], 2))"
   ]
  },
  {
   "cell_type": "code",
   "execution_count": 221,
   "metadata": {},
   "outputs": [
    {
     "name": "stdout",
     "output_type": "stream",
     "text": [
      "0 : 0.16\n",
      "1 : 0.13\n",
      "2 : 0.17\n",
      "3 : 0.14\n"
     ]
    }
   ],
   "source": [
    "for i in range(4):\n",
    "    print(i, ':', round(method_trig_inv[i] / failed_lens[i], 2))"
   ]
  },
  {
   "cell_type": "code",
   "execution_count": 222,
   "metadata": {},
   "outputs": [
    {
     "name": "stdout",
     "output_type": "stream",
     "text": [
      "0 : 0.14\n",
      "1 : 0.19\n",
      "2 : 0.15\n",
      "3 : 0.15\n"
     ]
    }
   ],
   "source": [
    "for i in range(4):\n",
    "    print(i, ':', round(method_hyp[i] / failed_lens[i], 2))"
   ]
  },
  {
   "cell_type": "code",
   "execution_count": 223,
   "metadata": {},
   "outputs": [
    {
     "name": "stdout",
     "output_type": "stream",
     "text": [
      "0 : 0.19\n",
      "1 : 0.16\n",
      "2 : 0.13\n",
      "3 : 0.12\n"
     ]
    }
   ],
   "source": [
    "for i in range(4):\n",
    "    print(i, ':', round(method_hyp_inv[i] / failed_lens[i], 2))"
   ]
  },
  {
   "cell_type": "code",
   "execution_count": null,
   "metadata": {},
   "outputs": [],
   "source": []
  },
  {
   "cell_type": "code",
   "execution_count": null,
   "metadata": {},
   "outputs": [],
   "source": []
  },
  {
   "cell_type": "code",
   "execution_count": null,
   "metadata": {},
   "outputs": [],
   "source": []
  },
  {
   "cell_type": "code",
   "execution_count": null,
   "metadata": {},
   "outputs": [],
   "source": []
  }
 ],
 "metadata": {
  "kernelspec": {
   "display_name": "Python 3",
   "language": "python",
   "name": "python3"
  },
  "language_info": {
   "codemirror_mode": {
    "name": "ipython",
    "version": 3
   },
   "file_extension": ".py",
   "mimetype": "text/x-python",
   "name": "python",
   "nbconvert_exporter": "python",
   "pygments_lexer": "ipython3",
   "version": "3.7.4"
  }
 },
 "nbformat": 4,
 "nbformat_minor": 2
}
