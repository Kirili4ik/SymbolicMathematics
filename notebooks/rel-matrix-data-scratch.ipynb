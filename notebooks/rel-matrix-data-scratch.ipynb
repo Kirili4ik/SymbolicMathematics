{
 "cells": [
  {
   "cell_type": "code",
   "execution_count": 1,
   "metadata": {},
   "outputs": [],
   "source": [
    "import torch\n",
    "import json\n",
    "\n",
    "\n",
    "import multiprocessing as mp\n"
   ]
  },
  {
   "cell_type": "code",
   "execution_count": 2,
   "metadata": {},
   "outputs": [],
   "source": [
    "class FileReader:\n",
    "    def __init__(self, filename):\n",
    "        self.fin = open(filename, \"r\")\n",
    "        self.line_map = list()             # Map from line index -> file position.\n",
    "        self.line_map.append(0)\n",
    "        i = 0\n",
    "        while self.fin.readline():\n",
    "            self.line_map.append(self.fin.tell())\n",
    "            i += 1\n",
    "            if i % 100_000 == 0:\n",
    "                print(i)\n",
    "\n",
    "    def get_line(self, index):\n",
    "        self.fin.seek(self.line_map[index])\n",
    "        return self.fin.readline()"
   ]
  },
  {
   "cell_type": "code",
   "execution_count": 6,
   "metadata": {},
   "outputs": [],
   "source": [
    "file_reader = FileReader('../data/rel_matrix_test.json')\n",
    "line = file_reader.get_line(3).strip()\n",
    "matrix = json.loads(line)\n",
    "new_matrix = [line.split() for line in matrix]"
   ]
  },
  {
   "cell_type": "code",
   "execution_count": 14,
   "metadata": {},
   "outputs": [
    {
     "name": "stdout",
     "output_type": "stream",
     "text": [
      "(9, 9)\n"
     ]
    },
    {
     "data": {
      "text/plain": [
       "array([['<self>', '0.001', '0.002', '0.003', '0.004', '0.005', '0.004',\n",
       "        '0.003', '0.004'],\n",
       "       ['1.0', '<self>', '0.001', '0.002', '0.003', '0.004', '0.003',\n",
       "        '0.002', '0.003'],\n",
       "       ['2.0', '1.0', '<self>', '0.001', '0.002', '0.003', '0.002',\n",
       "        '0.001', '0.002'],\n",
       "       ['3.0', '2.0', '1.0', '<self>', '0.001', '0.002', '0.001',\n",
       "        '1.001', '1.002'],\n",
       "       ['4.0', '3.0', '2.0', '1.0', '<self>', '0.001', '1.001', '2.001',\n",
       "        '2.002'],\n",
       "       ['5.0', '4.0', '3.0', '2.0', '1.0', '<self>', '2.001', '3.001',\n",
       "        '3.002'],\n",
       "       ['4.0', '3.0', '2.0', '1.0', '1.001', '1.002', '<self>', '2.001',\n",
       "        '2.002'],\n",
       "       ['3.0', '2.0', '1.0', '1.001', '1.002', '1.003', '1.002',\n",
       "        '<self>', '0.001'],\n",
       "       ['4.0', '3.0', '2.0', '2.001', '2.002', '2.003', '2.002', '1.0',\n",
       "        '<self>']], dtype='<U6')"
      ]
     },
     "execution_count": 14,
     "metadata": {},
     "output_type": "execute_result"
    }
   ],
   "source": [
    "import numpy as np\n",
    "\n",
    "print(np.array(new_matrix).shape)\n",
    "np.array(new_matrix)"
   ]
  },
  {
   "cell_type": "code",
   "execution_count": 18,
   "metadata": {},
   "outputs": [],
   "source": [
    "a = {1:'a', 2:'b'}\n",
    "if 2 in a:\n",
    "    print('nice')"
   ]
  },
  {
   "cell_type": "code",
   "execution_count": null,
   "metadata": {},
   "outputs": [],
   "source": []
  },
  {
   "cell_type": "code",
   "execution_count": 15,
   "metadata": {},
   "outputs": [],
   "source": [
    "new_matrix = [[el if el in ['<self>', '0.001', 3] else 'unk' for el in line.split()] for line in matrix]"
   ]
  },
  {
   "cell_type": "code",
   "execution_count": 16,
   "metadata": {},
   "outputs": [
    {
     "name": "stdout",
     "output_type": "stream",
     "text": [
      "(9, 9)\n"
     ]
    },
    {
     "data": {
      "text/plain": [
       "array([['<self>', '0.001', 'unk', 'unk', 'unk', 'unk', 'unk', 'unk',\n",
       "        'unk'],\n",
       "       ['unk', '<self>', '0.001', 'unk', 'unk', 'unk', 'unk', 'unk',\n",
       "        'unk'],\n",
       "       ['unk', 'unk', '<self>', '0.001', 'unk', 'unk', 'unk', '0.001',\n",
       "        'unk'],\n",
       "       ['unk', 'unk', 'unk', '<self>', '0.001', 'unk', '0.001', 'unk',\n",
       "        'unk'],\n",
       "       ['unk', 'unk', 'unk', 'unk', '<self>', '0.001', 'unk', 'unk',\n",
       "        'unk'],\n",
       "       ['unk', 'unk', 'unk', 'unk', 'unk', '<self>', 'unk', 'unk', 'unk'],\n",
       "       ['unk', 'unk', 'unk', 'unk', 'unk', 'unk', '<self>', 'unk', 'unk'],\n",
       "       ['unk', 'unk', 'unk', 'unk', 'unk', 'unk', 'unk', '<self>',\n",
       "        '0.001'],\n",
       "       ['unk', 'unk', 'unk', 'unk', 'unk', 'unk', 'unk', 'unk', '<self>']],\n",
       "      dtype='<U6')"
      ]
     },
     "execution_count": 16,
     "metadata": {},
     "output_type": "execute_result"
    }
   ],
   "source": [
    "import numpy as np\n",
    "\n",
    "print(np.array(new_matrix).shape)\n",
    "np.array(new_matrix)"
   ]
  },
  {
   "cell_type": "code",
   "execution_count": null,
   "metadata": {},
   "outputs": [],
   "source": []
  },
  {
   "cell_type": "code",
   "execution_count": 157,
   "metadata": {},
   "outputs": [],
   "source": [
    "class RelMatDataset(torch.utils.data.Dataset):\n",
    "    \"\"\"Custom competition dataset.\"\"\"\n",
    "\n",
    "    \n",
    "    def __init__(self, relmat_path):\n",
    "        self.relmat_path = relmat_path\n",
    "        \n",
    "        self.file_reader = FileReader(self.relmat_path)\n",
    "        \n",
    "        self.fds = []\n",
    "        self.locks = []\n",
    "        self.num_fds = 0\n",
    "        self.global_lock = mp.Lock()\n",
    "\n",
    "        \n",
    "    def __len__(self):\n",
    "        return len(self.file_reader.line_map)\n",
    "    \n",
    "    def get_fd(self):\n",
    "        res = -1\n",
    "        with self.global_lock:\n",
    "            for i in range(self.num_fds):\n",
    "                if not self.locks[i]:\n",
    "                    res = i\n",
    "                    break\n",
    "            if res == -1:\n",
    "                self.locks.append(False)\n",
    "                self.fds.append({key:(FileReader(self.filenames[key]) \\\n",
    "                               if self.filenames[key] is not None \\\n",
    "                               else None) for key in self.filenames})\n",
    "                res = self.num_fds\n",
    "                self.num_fds += 1\n",
    "            self.locks[res] = True\n",
    "        return res\n",
    "    \n",
    "\n",
    "    def __getitem__(self, index):\n",
    "        num_fd = self.get_fd()\n",
    "        fd = self.fds[num_fd]\n",
    "        ex = {}\n",
    "        for key in fd:\n",
    "            if fd[key] is not None:\n",
    "                f = fd[key]                   \n",
    "                line = f.get_line(index).strip()\n",
    "                if key == \"rel_matrix\":\n",
    "                    line = json.loads(line)\n",
    "                ex[key] = line\n",
    "            else:\n",
    "                ex[key] = None\n",
    "        with self.global_lock:\n",
    "            self.locks[num_fd] = False\n",
    "    \n",
    "    \n",
    "        '''def __getitem__(self, index):\n",
    "        line = self.file_reader.get_line(index).strip()\n",
    "        matrix = json.loads(line)\n",
    "        new_matrix = [line.split() for line in matrix]\n",
    "        \n",
    "        print(new_matrix)\n",
    "        \n",
    "        return new_matrix'''\n",
    "    \n",
    "    \n",
    "    \n",
    "    "
   ]
  },
  {
   "cell_type": "markdown",
   "metadata": {},
   "source": [
    "self.filenames - список файлов, в которых доставать строчки\n",
    "\n",
    "get_fd выдает набор вот этих файлридеров из этих файлов\n",
    "\n",
    "и потом у этих файлридеров запрашивается строка с номером index"
   ]
  },
  {
   "cell_type": "code",
   "execution_count": 162,
   "metadata": {
    "scrolled": true
   },
   "outputs": [
    {
     "name": "stdout",
     "output_type": "stream",
     "text": [
      "all train+val samples: 9987\n"
     ]
    }
   ],
   "source": [
    "my_dataset = RelMatDataset(relmat_path='../data/rel_matrix_test.json')\n",
    "print('all train+val samples:', len(my_dataset))"
   ]
  },
  {
   "cell_type": "code",
   "execution_count": null,
   "metadata": {},
   "outputs": [],
   "source": []
  },
  {
   "cell_type": "code",
   "execution_count": 163,
   "metadata": {},
   "outputs": [],
   "source": [
    "from torch.utils.data import DataLoader\n",
    "\n",
    "train_loader = DataLoader(my_dataset, batch_size=1,\n",
    "                          shuffle=False, num_workers=10)\n",
    "                          #pin_memory=True)"
   ]
  },
  {
   "cell_type": "code",
   "execution_count": 169,
   "metadata": {},
   "outputs": [
    {
     "data": {
      "text/plain": [
       "3"
      ]
     },
     "execution_count": 169,
     "metadata": {},
     "output_type": "execute_result"
    }
   ],
   "source": [
    "torch.LongTensor([1, 2, 3]).size()[0]"
   ]
  },
  {
   "cell_type": "code",
   "execution_count": 164,
   "metadata": {
    "scrolled": false
   },
   "outputs": [
    {
     "name": "stdout",
     "output_type": "stream",
     "text": [
      "[['<self>', '0.001', '0.002', '0.003', '0.003', '0.004', '0.004', '0.005'], ['1.0', '<self>', '0.001', '0.002', '0.002', '0.003', '0.003', '0.004'], ['2.0', '1.0', '<self>', '0.001', '0.001', '0.002', '0.002', '0.003'], ['3.0', '2.0', '1.0', '<self>', '1.001', '1.002', '1.002', '1.003'], ['3.0', '2.0', '1.0', '1.001', '<self>', '0.001', '0.001', '0.002'], ['4.0', '3.0', '2.0', '2.001', '1.0', '<self>', '1.001', '1.002'], ['4.0', '3.0', '2.0', '2.001', '1.0', '1.001', '<self>', '0.001'], ['5.0', '4.0', '3.0', '3.001', '2.0', '2.001', '1.0', '<self>']]\n",
      "[['<self>', '0.001', '0.002', '0.003', '0.003', '0.004'], ['1.0', '<self>', '0.001', '0.002', '0.002', '0.003'], ['2.0', '1.0', '<self>', '0.001', '0.001', '0.002'], ['3.0', '2.0', '1.0', '<self>', '1.001', '1.002'], ['3.0', '2.0', '1.0', '1.001', '<self>', '0.001'], ['4.0', '3.0', '2.0', '2.001', '1.0', '<self>']]\n",
      "[['<self>', '0.001', '0.002', '0.003', '0.003', '0.004', '0.004', '0.005'], ['1.0', '<self>', '0.001', '0.002', '0.002', '0.003', '0.003', '0.004'], ['2.0', '1.0', '<self>', '0.001', '0.001', '0.002', '0.002', '0.003'], ['3.0', '2.0', '1.0', '<self>', '1.001', '1.002', '1.002', '1.003'], ['3.0', '2.0', '1.0', '1.001', '<self>', '0.001', '0.001', '0.002'], ['4.0', '3.0', '2.0', '2.001', '1.0', '<self>', '1.001', '1.002'], ['4.0', '3.0', '2.0', '2.001', '1.0', '1.001', '<self>', '0.001'], ['5.0', '4.0', '3.0', '3.001', '2.0', '2.001', '1.0', '<self>']]\n",
      "[['<self>', '0.001', '0.002', '0.003', '0.004', '0.005', '0.004', '0.003', '0.004'], ['1.0', '<self>', '0.001', '0.002', '0.003', '0.004', '0.003', '0.002', '0.003'], ['2.0', '1.0', '<self>', '0.001', '0.002', '0.003', '0.002', '0.001', '0.002'], ['3.0', '2.0', '1.0', '<self>', '0.001', '0.002', '0.001', '1.001', '1.002'], ['4.0', '3.0', '2.0', '1.0', '<self>', '0.001', '1.001', '2.001', '2.002'], ['5.0', '4.0', '3.0', '2.0', '1.0', '<self>', '2.001', '3.001', '3.002'], ['4.0', '3.0', '2.0', '1.0', '1.001', '1.002', '<self>', '2.001', '2.002'], ['3.0', '2.0', '1.0', '1.001', '1.002', '1.003', '1.002', '<self>', '0.001'], ['4.0', '3.0', '2.0', '2.001', '2.002', '2.003', '2.002', '1.0', '<self>']]\n",
      "[['<self>', '0.001', '0.002', '0.003', '0.003', '0.004', '0.004', '0.005'], ['1.0', '<self>', '0.001', '0.002', '0.002', '0.003', '0.003', '0.004'], ['2.0', '1.0', '<self>', '0.001', '0.001', '0.002', '0.002', '0.003'], ['3.0', '2.0', '1.0', '<self>', '1.001', '1.002', '1.002', '1.003'], ['3.0', '2.0', '1.0', '1.001', '<self>', '0.001', '0.001', '0.002'], ['4.0', '3.0', '2.0', '2.001', '1.0', '<self>', '1.001', '1.002'], ['4.0', '3.0', '2.0', '2.001', '1.0', '1.001', '<self>', '0.001'], ['5.0', '4.0', '3.0', '3.001', '2.0', '2.001', '1.0', '<self>']]\n",
      "[['<self>', '0.001', '0.002', '0.003', '0.003', '0.004', '0.004', '0.005'], ['1.0', '<self>', '0.001', '0.002', '0.002', '0.003', '0.003', '0.004'], ['2.0', '1.0', '<self>', '0.001', '0.001', '0.002', '0.002', '0.003'], ['3.0', '2.0', '1.0', '<self>', '1.001', '1.002', '1.002', '1.003'], ['3.0', '2.0', '1.0', '1.001', '<self>', '0.001', '0.001', '0.002'], ['4.0', '3.0', '2.0', '2.001', '1.0', '<self>', '1.001', '1.002'], ['4.0', '3.0', '2.0', '2.001', '1.0', '1.001', '<self>', '0.001'], ['5.0', '4.0', '3.0', '3.001', '2.0', '2.001', '1.0', '<self>']]\n",
      "[['<self>', '0.001', '0.002', '0.003', '0.003', '0.004', '0.005', '0.004'], ['1.0', '<self>', '0.001', '0.002', '0.002', '0.003', '0.004', '0.003'], ['2.0', '1.0', '<self>', '0.001', '0.001', '0.002', '0.003', '0.002'], ['3.0', '2.0', '1.0', '<self>', '1.001', '1.002', '1.003', '1.002'], ['3.0', '2.0', '1.0', '1.001', '<self>', '0.001', '0.002', '0.001'], ['4.0', '3.0', '2.0', '2.001', '1.0', '<self>', '0.001', '1.001'], ['5.0', '4.0', '3.0', '3.001', '2.0', '1.0', '<self>', '2.001'], ['4.0', '3.0', '2.0', '2.001', '1.0', '1.001', '1.002', '<self>']]\n",
      "[['<self>', '0.001', '0.002', '0.003', '0.004', '0.004', '0.005', '0.003', '0.004'], ['1.0', '<self>', '0.001', '0.002', '0.003', '0.003', '0.004', '0.002', '0.003'], ['2.0', '1.0', '<self>', '0.001', '0.002', '0.002', '0.003', '0.001', '0.002'], ['3.0', '2.0', '1.0', '<self>', '0.001', '0.001', '0.002', '1.001', '1.002'], ['4.0', '3.0', '2.0', '1.0', '<self>', '1.001', '1.002', '2.001', '2.002'], ['4.0', '3.0', '2.0', '1.0', '1.001', '<self>', '0.001', '2.001', '2.002'], ['5.0', '4.0', '3.0', '2.0', '2.001', '1.0', '<self>', '3.001', '3.002'], ['3.0', '2.0', '1.0', '1.001', '1.002', '1.002', '1.003', '<self>', '0.001'], ['4.0', '3.0', '2.0', '2.001', '2.002', '2.002', '2.003', '1.0', '<self>']]\n",
      "[['<self>', '0.001', '0.002', '0.003', '0.004', '0.003'], ['1.0', '<self>', '0.001', '0.002', '0.003', '0.002'], ['2.0', '1.0', '<self>', '0.001', '0.002', '0.001'], ['3.0', '2.0', '1.0', '<self>', '0.001', '1.001'], ['4.0', '3.0', '2.0', '1.0', '<self>', '2.001'], ['3.0', '2.0', '1.0', '1.001', '1.002', '<self>']]\n",
      "------------------------------------------------------------------------------------------------------------------------------------------------------------------------------------------------------------------------------------------------------------------------------------------------------------\n",
      "------------------------------------------------------------------------------------------------------------------------------------------------------------------------------------------------------------------------------------------------------------------------------------------------------------\n",
      "------------------------------------------------------------------------------------------------------------------------------------------------------------------------------------------------------------------------------------------------------------------------------------------------------------\n",
      "------------------------------------------------------------------------------------------------------------------------------------------------------------------------------------------------------------------------------------------------------------------------------------------------------------\n"
     ]
    }
   ],
   "source": [
    "for i, el in enumerate(train_loader):\n",
    "    #print(el[0][1])\n",
    "    print('---' * 100)\n",
    "    if i > 2:\n",
    "        break"
   ]
  },
  {
   "cell_type": "code",
   "execution_count": null,
   "metadata": {},
   "outputs": [],
   "source": []
  },
  {
   "cell_type": "code",
   "execution_count": null,
   "metadata": {},
   "outputs": [],
   "source": []
  },
  {
   "cell_type": "code",
   "execution_count": null,
   "metadata": {},
   "outputs": [],
   "source": []
  },
  {
   "cell_type": "code",
   "execution_count": 42,
   "metadata": {},
   "outputs": [
    {
     "ename": "NameError",
     "evalue": "name 'my_dataset' is not defined",
     "output_type": "error",
     "traceback": [
      "\u001b[0;31m---------------------------------------------------------------------------\u001b[0m",
      "\u001b[0;31mNameError\u001b[0m                                 Traceback (most recent call last)",
      "\u001b[0;32m<ipython-input-42-fbb135235789>\u001b[0m in \u001b[0;36m<module>\u001b[0;34m\u001b[0m\n\u001b[1;32m      1\u001b[0m \u001b[0;32mimport\u001b[0m \u001b[0msys\u001b[0m\u001b[0;34m\u001b[0m\u001b[0;34m\u001b[0m\u001b[0m\n\u001b[1;32m      2\u001b[0m \u001b[0;34m\u001b[0m\u001b[0m\n\u001b[0;32m----> 3\u001b[0;31m \u001b[0msys\u001b[0m\u001b[0;34m.\u001b[0m\u001b[0mgetsizeof\u001b[0m\u001b[0;34m(\u001b[0m\u001b[0mmy_dataset\u001b[0m\u001b[0;34m.\u001b[0m\u001b[0mfile_reader\u001b[0m\u001b[0;34m.\u001b[0m\u001b[0mline_map\u001b[0m\u001b[0;34m)\u001b[0m\u001b[0;34m\u001b[0m\u001b[0;34m\u001b[0m\u001b[0m\n\u001b[0m",
      "\u001b[0;31mNameError\u001b[0m: name 'my_dataset' is not defined"
     ]
    }
   ],
   "source": [
    "import sys\n",
    "\n",
    "sys.getsizeof(my_dataset.file_reader.line_map)"
   ]
  },
  {
   "cell_type": "code",
   "execution_count": null,
   "metadata": {},
   "outputs": [],
   "source": [
    "~300 мегабайт"
   ]
  },
  {
   "cell_type": "code",
   "execution_count": null,
   "metadata": {},
   "outputs": [],
   "source": []
  },
  {
   "cell_type": "code",
   "execution_count": null,
   "metadata": {},
   "outputs": [],
   "source": []
  },
  {
   "cell_type": "code",
   "execution_count": null,
   "metadata": {},
   "outputs": [],
   "source": []
  }
 ],
 "metadata": {
  "kernelspec": {
   "display_name": "Python 3",
   "language": "python",
   "name": "python3"
  },
  "language_info": {
   "codemirror_mode": {
    "name": "ipython",
    "version": 3
   },
   "file_extension": ".py",
   "mimetype": "text/x-python",
   "name": "python",
   "nbconvert_exporter": "python",
   "pygments_lexer": "ipython3",
   "version": "3.7.4"
  }
 },
 "nbformat": 4,
 "nbformat_minor": 2
}
