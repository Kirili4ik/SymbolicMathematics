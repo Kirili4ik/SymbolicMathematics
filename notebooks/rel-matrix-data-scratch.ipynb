{
 "cells": [
  {
   "cell_type": "code",
   "execution_count": 155,
   "metadata": {},
   "outputs": [],
   "source": [
    "import torch\n",
    "import json\n",
    "\n",
    "\n",
    "import multiprocessing as mp\n"
   ]
  },
  {
   "cell_type": "code",
   "execution_count": 156,
   "metadata": {},
   "outputs": [],
   "source": [
    "class FileReader:\n",
    "    def __init__(self, filename):\n",
    "        self.fin = open(filename, \"r\")\n",
    "        self.line_map = list()             # Map from line index -> file position.\n",
    "        self.line_map.append(0)\n",
    "        i = 0\n",
    "        while self.fin.readline():\n",
    "            self.line_map.append(self.fin.tell())\n",
    "            i += 1\n",
    "            if i % 100_000 == 0:\n",
    "                print(i)\n",
    "\n",
    "    def get_line(self, index):\n",
    "        self.fin.seek(self.line_map[index])\n",
    "        return self.fin.readline()"
   ]
  },
  {
   "cell_type": "code",
   "execution_count": null,
   "metadata": {},
   "outputs": [],
   "source": [
    "line = file_reader.get_line(index).strip()\n",
    "matrix = json.loads(line)\n",
    "new_matrix = [line.split() for line in matrix]"
   ]
  },
  {
   "cell_type": "code",
   "execution_count": 157,
   "metadata": {},
   "outputs": [],
   "source": [
    "class RelMatDataset(torch.utils.data.Dataset):\n",
    "    \"\"\"Custom competition dataset.\"\"\"\n",
    "\n",
    "    \n",
    "    def __init__(self, relmat_path):\n",
    "        self.relmat_path = relmat_path\n",
    "        \n",
    "        self.file_reader = FileReader(self.relmat_path)\n",
    "        \n",
    "    \n",
    "    def __len__(self):\n",
    "        return len(self.file_reader.line_map)\n",
    "    \n",
    "    \n",
    "    def __getitem__(self, index):\n",
    "        line = self.file_reader.get_line(index).strip()\n",
    "        matrix = json.loads(line)\n",
    "        new_matrix = [line.split() for line in matrix]\n",
    "        \n",
    "        print(new_matrix)\n",
    "        \n",
    "        return new_matrix\n",
    "    \n",
    "    \n",
    "    \n",
    "    \n",
    "    '''def get_fd(self):\n",
    "        res = -1\n",
    "        with self.global_lock:\n",
    "            for i in range(self.num_fds):\n",
    "                if not self.locks[i]:\n",
    "                    res = i\n",
    "                    break\n",
    "            if res == -1:\n",
    "                self.locks.append(False)\n",
    "                self.fds.append({key:(FileReader(self.filenames[key]) \\\n",
    "                               if self.filenames[key] is not None \\\n",
    "                               else None) for key in self.filenames})\n",
    "                res = self.num_fds\n",
    "                self.num_fds += 1\n",
    "            self.locks[res] = True\n",
    "        return res'''\n",
    "\n",
    "        \n",
    "    '''def __getitem__(self, index):\n",
    "        num_fd = self.get_fd()\n",
    "        fd = self.fds[num_fd]\n",
    "        ex = {}\n",
    "        for key in fd:\n",
    "            if fd[key] is not None:\n",
    "                f = fd[key]                   \n",
    "                line = f.get_line(index).strip()\n",
    "                if key == \"rel_matrix\":\n",
    "                    line = json.loads(line)\n",
    "                ex[key] = line\n",
    "            else:\n",
    "                ex[key] = None'''"
   ]
  },
  {
   "cell_type": "markdown",
   "metadata": {},
   "source": [
    "self.filenames - список файлов, в которых доставать строчки\n",
    "\n",
    "get_fd выдает набор вот этих файлридеров из этих файлов\n",
    "\n",
    "и потом у этих файлридеров запрашивается строка с номером index"
   ]
  },
  {
   "cell_type": "code",
   "execution_count": 162,
   "metadata": {
    "scrolled": true
   },
   "outputs": [
    {
     "name": "stdout",
     "output_type": "stream",
     "text": [
      "all train+val samples: 9987\n"
     ]
    }
   ],
   "source": [
    "my_dataset = RelMatDataset(relmat_path='../data/rel_matrix_test.json')\n",
    "print('all train+val samples:', len(my_dataset))"
   ]
  },
  {
   "cell_type": "code",
   "execution_count": null,
   "metadata": {},
   "outputs": [],
   "source": []
  },
  {
   "cell_type": "code",
   "execution_count": 163,
   "metadata": {},
   "outputs": [],
   "source": [
    "from torch.utils.data import DataLoader\n",
    "\n",
    "train_loader = DataLoader(my_dataset, batch_size=1,\n",
    "                          shuffle=False, num_workers=10)\n",
    "                          #pin_memory=True)"
   ]
  },
  {
   "cell_type": "code",
   "execution_count": 169,
   "metadata": {},
   "outputs": [
    {
     "data": {
      "text/plain": [
       "3"
      ]
     },
     "execution_count": 169,
     "metadata": {},
     "output_type": "execute_result"
    }
   ],
   "source": [
    "torch.LongTensor([1, 2, 3]).size()[0]"
   ]
  },
  {
   "cell_type": "code",
   "execution_count": 164,
   "metadata": {
    "scrolled": false
   },
   "outputs": [
    {
     "name": "stdout",
     "output_type": "stream",
     "text": [
      "[['<self>', '0.001', '0.002', '0.003', '0.003', '0.004', '0.004', '0.005'], ['1.0', '<self>', '0.001', '0.002', '0.002', '0.003', '0.003', '0.004'], ['2.0', '1.0', '<self>', '0.001', '0.001', '0.002', '0.002', '0.003'], ['3.0', '2.0', '1.0', '<self>', '1.001', '1.002', '1.002', '1.003'], ['3.0', '2.0', '1.0', '1.001', '<self>', '0.001', '0.001', '0.002'], ['4.0', '3.0', '2.0', '2.001', '1.0', '<self>', '1.001', '1.002'], ['4.0', '3.0', '2.0', '2.001', '1.0', '1.001', '<self>', '0.001'], ['5.0', '4.0', '3.0', '3.001', '2.0', '2.001', '1.0', '<self>']]\n",
      "[['<self>', '0.001', '0.002', '0.003', '0.003', '0.004'], ['1.0', '<self>', '0.001', '0.002', '0.002', '0.003'], ['2.0', '1.0', '<self>', '0.001', '0.001', '0.002'], ['3.0', '2.0', '1.0', '<self>', '1.001', '1.002'], ['3.0', '2.0', '1.0', '1.001', '<self>', '0.001'], ['4.0', '3.0', '2.0', '2.001', '1.0', '<self>']]\n",
      "[['<self>', '0.001', '0.002', '0.003', '0.003', '0.004', '0.004', '0.005'], ['1.0', '<self>', '0.001', '0.002', '0.002', '0.003', '0.003', '0.004'], ['2.0', '1.0', '<self>', '0.001', '0.001', '0.002', '0.002', '0.003'], ['3.0', '2.0', '1.0', '<self>', '1.001', '1.002', '1.002', '1.003'], ['3.0', '2.0', '1.0', '1.001', '<self>', '0.001', '0.001', '0.002'], ['4.0', '3.0', '2.0', '2.001', '1.0', '<self>', '1.001', '1.002'], ['4.0', '3.0', '2.0', '2.001', '1.0', '1.001', '<self>', '0.001'], ['5.0', '4.0', '3.0', '3.001', '2.0', '2.001', '1.0', '<self>']]\n",
      "[['<self>', '0.001', '0.002', '0.003', '0.004', '0.005', '0.004', '0.003', '0.004'], ['1.0', '<self>', '0.001', '0.002', '0.003', '0.004', '0.003', '0.002', '0.003'], ['2.0', '1.0', '<self>', '0.001', '0.002', '0.003', '0.002', '0.001', '0.002'], ['3.0', '2.0', '1.0', '<self>', '0.001', '0.002', '0.001', '1.001', '1.002'], ['4.0', '3.0', '2.0', '1.0', '<self>', '0.001', '1.001', '2.001', '2.002'], ['5.0', '4.0', '3.0', '2.0', '1.0', '<self>', '2.001', '3.001', '3.002'], ['4.0', '3.0', '2.0', '1.0', '1.001', '1.002', '<self>', '2.001', '2.002'], ['3.0', '2.0', '1.0', '1.001', '1.002', '1.003', '1.002', '<self>', '0.001'], ['4.0', '3.0', '2.0', '2.001', '2.002', '2.003', '2.002', '1.0', '<self>']]\n",
      "[['<self>', '0.001', '0.002', '0.003', '0.003', '0.004', '0.004', '0.005'], ['1.0', '<self>', '0.001', '0.002', '0.002', '0.003', '0.003', '0.004'], ['2.0', '1.0', '<self>', '0.001', '0.001', '0.002', '0.002', '0.003'], ['3.0', '2.0', '1.0', '<self>', '1.001', '1.002', '1.002', '1.003'], ['3.0', '2.0', '1.0', '1.001', '<self>', '0.001', '0.001', '0.002'], ['4.0', '3.0', '2.0', '2.001', '1.0', '<self>', '1.001', '1.002'], ['4.0', '3.0', '2.0', '2.001', '1.0', '1.001', '<self>', '0.001'], ['5.0', '4.0', '3.0', '3.001', '2.0', '2.001', '1.0', '<self>']]\n",
      "[['<self>', '0.001', '0.002', '0.003', '0.003', '0.004', '0.004', '0.005'], ['1.0', '<self>', '0.001', '0.002', '0.002', '0.003', '0.003', '0.004'], ['2.0', '1.0', '<self>', '0.001', '0.001', '0.002', '0.002', '0.003'], ['3.0', '2.0', '1.0', '<self>', '1.001', '1.002', '1.002', '1.003'], ['3.0', '2.0', '1.0', '1.001', '<self>', '0.001', '0.001', '0.002'], ['4.0', '3.0', '2.0', '2.001', '1.0', '<self>', '1.001', '1.002'], ['4.0', '3.0', '2.0', '2.001', '1.0', '1.001', '<self>', '0.001'], ['5.0', '4.0', '3.0', '3.001', '2.0', '2.001', '1.0', '<self>']]\n",
      "[['<self>', '0.001', '0.002', '0.003', '0.003', '0.004', '0.005', '0.004'], ['1.0', '<self>', '0.001', '0.002', '0.002', '0.003', '0.004', '0.003'], ['2.0', '1.0', '<self>', '0.001', '0.001', '0.002', '0.003', '0.002'], ['3.0', '2.0', '1.0', '<self>', '1.001', '1.002', '1.003', '1.002'], ['3.0', '2.0', '1.0', '1.001', '<self>', '0.001', '0.002', '0.001'], ['4.0', '3.0', '2.0', '2.001', '1.0', '<self>', '0.001', '1.001'], ['5.0', '4.0', '3.0', '3.001', '2.0', '1.0', '<self>', '2.001'], ['4.0', '3.0', '2.0', '2.001', '1.0', '1.001', '1.002', '<self>']]\n",
      "[['<self>', '0.001', '0.002', '0.003', '0.004', '0.004', '0.005', '0.003', '0.004'], ['1.0', '<self>', '0.001', '0.002', '0.003', '0.003', '0.004', '0.002', '0.003'], ['2.0', '1.0', '<self>', '0.001', '0.002', '0.002', '0.003', '0.001', '0.002'], ['3.0', '2.0', '1.0', '<self>', '0.001', '0.001', '0.002', '1.001', '1.002'], ['4.0', '3.0', '2.0', '1.0', '<self>', '1.001', '1.002', '2.001', '2.002'], ['4.0', '3.0', '2.0', '1.0', '1.001', '<self>', '0.001', '2.001', '2.002'], ['5.0', '4.0', '3.0', '2.0', '2.001', '1.0', '<self>', '3.001', '3.002'], ['3.0', '2.0', '1.0', '1.001', '1.002', '1.002', '1.003', '<self>', '0.001'], ['4.0', '3.0', '2.0', '2.001', '2.002', '2.002', '2.003', '1.0', '<self>']]\n",
      "[['<self>', '0.001', '0.002', '0.003', '0.004', '0.003'], ['1.0', '<self>', '0.001', '0.002', '0.003', '0.002'], ['2.0', '1.0', '<self>', '0.001', '0.002', '0.001'], ['3.0', '2.0', '1.0', '<self>', '0.001', '1.001'], ['4.0', '3.0', '2.0', '1.0', '<self>', '2.001'], ['3.0', '2.0', '1.0', '1.001', '1.002', '<self>']]\n",
      "------------------------------------------------------------------------------------------------------------------------------------------------------------------------------------------------------------------------------------------------------------------------------------------------------------\n",
      "------------------------------------------------------------------------------------------------------------------------------------------------------------------------------------------------------------------------------------------------------------------------------------------------------------\n",
      "------------------------------------------------------------------------------------------------------------------------------------------------------------------------------------------------------------------------------------------------------------------------------------------------------------\n",
      "------------------------------------------------------------------------------------------------------------------------------------------------------------------------------------------------------------------------------------------------------------------------------------------------------------\n"
     ]
    }
   ],
   "source": [
    "for i, el in enumerate(train_loader):\n",
    "    #print(el[0][1])\n",
    "    print('---' * 100)\n",
    "    if i > 2:\n",
    "        break"
   ]
  },
  {
   "cell_type": "code",
   "execution_count": null,
   "metadata": {},
   "outputs": [],
   "source": []
  },
  {
   "cell_type": "code",
   "execution_count": null,
   "metadata": {},
   "outputs": [],
   "source": []
  },
  {
   "cell_type": "code",
   "execution_count": null,
   "metadata": {},
   "outputs": [],
   "source": []
  },
  {
   "cell_type": "code",
   "execution_count": 30,
   "metadata": {},
   "outputs": [
    {
     "data": {
      "text/plain": [
       "376956648"
      ]
     },
     "execution_count": 30,
     "metadata": {},
     "output_type": "execute_result"
    }
   ],
   "source": [
    "import sys\n",
    "\n",
    "sys.getsizeof(my_dataset.file_reader.line_map)"
   ]
  },
  {
   "cell_type": "code",
   "execution_count": null,
   "metadata": {},
   "outputs": [],
   "source": [
    "~300 мегабайт"
   ]
  },
  {
   "cell_type": "code",
   "execution_count": null,
   "metadata": {},
   "outputs": [],
   "source": []
  },
  {
   "cell_type": "code",
   "execution_count": null,
   "metadata": {},
   "outputs": [],
   "source": []
  },
  {
   "cell_type": "code",
   "execution_count": null,
   "metadata": {},
   "outputs": [],
   "source": []
  }
 ],
 "metadata": {
  "kernelspec": {
   "display_name": "Python 3",
   "language": "python",
   "name": "python3"
  },
  "language_info": {
   "codemirror_mode": {
    "name": "ipython",
    "version": 3
   },
   "file_extension": ".py",
   "mimetype": "text/x-python",
   "name": "python",
   "nbconvert_exporter": "python",
   "pygments_lexer": "ipython3",
   "version": "3.7.4"
  }
 },
 "nbformat": 4,
 "nbformat_minor": 2
}
